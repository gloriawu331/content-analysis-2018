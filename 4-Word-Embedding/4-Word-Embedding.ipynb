{
 "cells": [
  {
   "cell_type": "markdown",
   "metadata": {},
   "source": [
    "# Week 4 - Word Embeddings\n",
    "\n",
    "This week, we build on last week's topic modeling techniques by taking a text corpus we have developed, specifying an underlying number of dimensions, and training a model with a neural network auto-encoder (one of Google's word2vec  algorithms) that best describes corpus words in their local linguistic contexts, and exploring their locations in the resulting space to learn about the discursive culture that produced them. Documents here are represented as densely indexed locations in dimensions, rather than sparse mixtures of topics (as in LDA topic modeling), so that distances between those documents (and words) are consistently superior, though they require the full vector of dimension loadings (rather than just a few selected topic loadings) to describe. We will explore these spaces to understand complex, semantic relationships between words, index documents with descriptive words, identify the likelihood that a given document would have been produced by a given vector model, and explore how semantic categories can help us understand the cultures that produced them.\n",
    "\n",
    "For this notebook we will be using the following packages"
   ]
  },
  {
   "cell_type": "code",
   "execution_count": 1,
   "metadata": {
    "collapsed": true
   },
   "outputs": [],
   "source": [
    "#Special module written for this class\n",
    "#This provides access to data and to helper functions from previous weeks\n",
    "#Make sure you update it before starting this notebook\n",
    "import lucem_illud #pip install -U git+git://github.com/Computational-Content-Analysis-2018/lucem_illud.git\n",
    "\n",
    "#All these packages need to be installed from pip\n",
    "import gensim#For word2vec, etc\n",
    "import requests #For downloading our datasets\n",
    "import nltk #For stop words and stemmers\n",
    "import numpy as np #For arrays\n",
    "import pandas #Gives us DataFrames\n",
    "import matplotlib.pyplot as plt #For graphics\n",
    "import seaborn #Makes the graphics look nicer\n",
    "import sklearn.metrics.pairwise #For cosine similarity\n",
    "import sklearn.manifold #For T-SNE\n",
    "import sklearn.decomposition #For PCA\n",
    "\n",
    "#gensim uses a couple of deprecated features\n",
    "#we can't do anything about them so lets ignore them \n",
    "import warnings\n",
    "warnings.filterwarnings(\"ignore\", category=DeprecationWarning) \n",
    "\n",
    "#This 'magic' command makes the plots work better\n",
    "#in the notebook, don't use it outside of a notebook.\n",
    "#Also you can ignore the warning\n",
    "%matplotlib inline\n",
    "\n",
    "import os #For looking through files\n",
    "import os.path #For managing file paths"
   ]
  },
  {
   "cell_type": "markdown",
   "metadata": {},
   "source": [
    "# Getting our corpora\n",
    "\n",
    "Instead of downloading our corpora, we have download them in advance; a subset of the [senate press releases](https://github.com/lintool/GrimmerSenatePressReleases) are in `grimmerPressReleases`. We will load them into a DataFrame, using a function from a couple weeks ago `loadTextDirectory`:"
   ]
  },
  {
   "cell_type": "code",
   "execution_count": 2,
   "metadata": {},
   "outputs": [
    {
     "data": {
      "text/html": [
       "<div>\n",
       "<style scoped>\n",
       "    .dataframe tbody tr th:only-of-type {\n",
       "        vertical-align: middle;\n",
       "    }\n",
       "\n",
       "    .dataframe tbody tr th {\n",
       "        vertical-align: top;\n",
       "    }\n",
       "\n",
       "    .dataframe thead th {\n",
       "        text-align: right;\n",
       "    }\n",
       "</style>\n",
       "<table border=\"1\" class=\"dataframe\">\n",
       "  <thead>\n",
       "    <tr style=\"text-align: right;\">\n",
       "      <th></th>\n",
       "      <th>text</th>\n",
       "    </tr>\n",
       "  </thead>\n",
       "  <tbody>\n",
       "    <tr>\n",
       "      <th>01Apr2005Kennedy14.txt</th>\n",
       "      <td>FOR IMMEDIATE RELEASE   FOR IMMEDIATE...</td>\n",
       "    </tr>\n",
       "    <tr>\n",
       "      <th>01Aug2005Kennedy12.txt</th>\n",
       "      <td>FOR IMMEDIATE RELEASE   FOR IMMEDIATE...</td>\n",
       "    </tr>\n",
       "    <tr>\n",
       "      <th>01Aug2006Kennedy10.txt</th>\n",
       "      <td>FOR IMMEDIATE RELEASE  FOR IMMEDIATE ...</td>\n",
       "    </tr>\n",
       "    <tr>\n",
       "      <th>01Aug2006Kennedy11.txt</th>\n",
       "      <td>FOR IMMEDIATE RELEASE  FOR IMMEDIATE ...</td>\n",
       "    </tr>\n",
       "    <tr>\n",
       "      <th>01Aug2006Kennedy12.txt</th>\n",
       "      <td>FOR IMMEDIATE RELEASE  FOR IMMEDIATE ...</td>\n",
       "    </tr>\n",
       "  </tbody>\n",
       "</table>\n",
       "</div>"
      ],
      "text/plain": [
       "                                                                     text\n",
       "01Apr2005Kennedy14.txt           FOR IMMEDIATE RELEASE   FOR IMMEDIATE...\n",
       "01Aug2005Kennedy12.txt           FOR IMMEDIATE RELEASE   FOR IMMEDIATE...\n",
       "01Aug2006Kennedy10.txt           FOR IMMEDIATE RELEASE  FOR IMMEDIATE ...\n",
       "01Aug2006Kennedy11.txt           FOR IMMEDIATE RELEASE  FOR IMMEDIATE ...\n",
       "01Aug2006Kennedy12.txt           FOR IMMEDIATE RELEASE  FOR IMMEDIATE ..."
      ]
     },
     "execution_count": 2,
     "metadata": {},
     "output_type": "execute_result"
    }
   ],
   "source": [
    "kennedyDF = lucem_illud.loadTextDirectory('../data/grimmerPressReleases/Kennedy/')\n",
    "kennedyDF[:5]"
   ]
  },
  {
   "cell_type": "markdown",
   "metadata": {},
   "source": [
    "This gets us one Senator's data, but with no metadata, we can add a category column with a simple command:"
   ]
  },
  {
   "cell_type": "code",
   "execution_count": 3,
   "metadata": {},
   "outputs": [
    {
     "data": {
      "text/html": [
       "<div>\n",
       "<style scoped>\n",
       "    .dataframe tbody tr th:only-of-type {\n",
       "        vertical-align: middle;\n",
       "    }\n",
       "\n",
       "    .dataframe tbody tr th {\n",
       "        vertical-align: top;\n",
       "    }\n",
       "\n",
       "    .dataframe thead th {\n",
       "        text-align: right;\n",
       "    }\n",
       "</style>\n",
       "<table border=\"1\" class=\"dataframe\">\n",
       "  <thead>\n",
       "    <tr style=\"text-align: right;\">\n",
       "      <th></th>\n",
       "      <th>text</th>\n",
       "      <th>category</th>\n",
       "    </tr>\n",
       "  </thead>\n",
       "  <tbody>\n",
       "    <tr>\n",
       "      <th>01Apr2005Kennedy14.txt</th>\n",
       "      <td>FOR IMMEDIATE RELEASE   FOR IMMEDIATE...</td>\n",
       "      <td>Kennedy</td>\n",
       "    </tr>\n",
       "    <tr>\n",
       "      <th>01Aug2005Kennedy12.txt</th>\n",
       "      <td>FOR IMMEDIATE RELEASE   FOR IMMEDIATE...</td>\n",
       "      <td>Kennedy</td>\n",
       "    </tr>\n",
       "    <tr>\n",
       "      <th>01Aug2006Kennedy10.txt</th>\n",
       "      <td>FOR IMMEDIATE RELEASE  FOR IMMEDIATE ...</td>\n",
       "      <td>Kennedy</td>\n",
       "    </tr>\n",
       "    <tr>\n",
       "      <th>01Aug2006Kennedy11.txt</th>\n",
       "      <td>FOR IMMEDIATE RELEASE  FOR IMMEDIATE ...</td>\n",
       "      <td>Kennedy</td>\n",
       "    </tr>\n",
       "    <tr>\n",
       "      <th>01Aug2006Kennedy12.txt</th>\n",
       "      <td>FOR IMMEDIATE RELEASE  FOR IMMEDIATE ...</td>\n",
       "      <td>Kennedy</td>\n",
       "    </tr>\n",
       "  </tbody>\n",
       "</table>\n",
       "</div>"
      ],
      "text/plain": [
       "                                                                     text  \\\n",
       "01Apr2005Kennedy14.txt           FOR IMMEDIATE RELEASE   FOR IMMEDIATE...   \n",
       "01Aug2005Kennedy12.txt           FOR IMMEDIATE RELEASE   FOR IMMEDIATE...   \n",
       "01Aug2006Kennedy10.txt           FOR IMMEDIATE RELEASE  FOR IMMEDIATE ...   \n",
       "01Aug2006Kennedy11.txt           FOR IMMEDIATE RELEASE  FOR IMMEDIATE ...   \n",
       "01Aug2006Kennedy12.txt           FOR IMMEDIATE RELEASE  FOR IMMEDIATE ...   \n",
       "\n",
       "                       category  \n",
       "01Apr2005Kennedy14.txt  Kennedy  \n",
       "01Aug2005Kennedy12.txt  Kennedy  \n",
       "01Aug2006Kennedy10.txt  Kennedy  \n",
       "01Aug2006Kennedy11.txt  Kennedy  \n",
       "01Aug2006Kennedy12.txt  Kennedy  "
      ]
     },
     "execution_count": 3,
     "metadata": {},
     "output_type": "execute_result"
    }
   ],
   "source": [
    "kennedyDF['category'] = 'Kennedy'\n",
    "kennedyDF[:5]"
   ]
  },
  {
   "cell_type": "markdown",
   "metadata": {},
   "source": [
    "We also will be wanting to load all the senators so we will need to loop over all the directories"
   ]
  },
  {
   "cell_type": "code",
   "execution_count": 4,
   "metadata": {},
   "outputs": [
    {
     "data": {
      "text/html": [
       "<div>\n",
       "<style scoped>\n",
       "    .dataframe tbody tr th:only-of-type {\n",
       "        vertical-align: middle;\n",
       "    }\n",
       "\n",
       "    .dataframe tbody tr th {\n",
       "        vertical-align: top;\n",
       "    }\n",
       "\n",
       "    .dataframe thead th {\n",
       "        text-align: right;\n",
       "    }\n",
       "</style>\n",
       "<table border=\"1\" class=\"dataframe\">\n",
       "  <thead>\n",
       "    <tr style=\"text-align: right;\">\n",
       "      <th></th>\n",
       "      <th>text</th>\n",
       "      <th>category</th>\n",
       "    </tr>\n",
       "  </thead>\n",
       "  <tbody>\n",
       "    <tr>\n",
       "      <th>01Apr2005Kennedy14.txt</th>\n",
       "      <td>FOR IMMEDIATE RELEASE   FOR IMMEDIATE...</td>\n",
       "      <td>Kennedy</td>\n",
       "    </tr>\n",
       "    <tr>\n",
       "      <th>01Aug2005Kennedy12.txt</th>\n",
       "      <td>FOR IMMEDIATE RELEASE   FOR IMMEDIATE...</td>\n",
       "      <td>Kennedy</td>\n",
       "    </tr>\n",
       "    <tr>\n",
       "      <th>01Aug2006Kennedy10.txt</th>\n",
       "      <td>FOR IMMEDIATE RELEASE  FOR IMMEDIATE ...</td>\n",
       "      <td>Kennedy</td>\n",
       "    </tr>\n",
       "    <tr>\n",
       "      <th>01Aug2006Kennedy11.txt</th>\n",
       "      <td>FOR IMMEDIATE RELEASE  FOR IMMEDIATE ...</td>\n",
       "      <td>Kennedy</td>\n",
       "    </tr>\n",
       "    <tr>\n",
       "      <th>01Aug2006Kennedy12.txt</th>\n",
       "      <td>FOR IMMEDIATE RELEASE  FOR IMMEDIATE ...</td>\n",
       "      <td>Kennedy</td>\n",
       "    </tr>\n",
       "  </tbody>\n",
       "</table>\n",
       "</div>"
      ],
      "text/plain": [
       "                                                                     text  \\\n",
       "01Apr2005Kennedy14.txt           FOR IMMEDIATE RELEASE   FOR IMMEDIATE...   \n",
       "01Aug2005Kennedy12.txt           FOR IMMEDIATE RELEASE   FOR IMMEDIATE...   \n",
       "01Aug2006Kennedy10.txt           FOR IMMEDIATE RELEASE  FOR IMMEDIATE ...   \n",
       "01Aug2006Kennedy11.txt           FOR IMMEDIATE RELEASE  FOR IMMEDIATE ...   \n",
       "01Aug2006Kennedy12.txt           FOR IMMEDIATE RELEASE  FOR IMMEDIATE ...   \n",
       "\n",
       "                       category  \n",
       "01Apr2005Kennedy14.txt  Kennedy  \n",
       "01Aug2005Kennedy12.txt  Kennedy  \n",
       "01Aug2006Kennedy10.txt  Kennedy  \n",
       "01Aug2006Kennedy11.txt  Kennedy  \n",
       "01Aug2006Kennedy12.txt  Kennedy  "
      ]
     },
     "execution_count": 4,
     "metadata": {},
     "output_type": "execute_result"
    }
   ],
   "source": [
    "dataDir = '../data/grimmerPressReleases'\n",
    "\n",
    "senReleasesDF = pandas.DataFrame()\n",
    "\n",
    "for senatorDir in (file for file in os.scandir(dataDir) if not file.name.startswith('.') and file.is_dir()):\n",
    "    senDF = lucem_illud.loadTextDirectory(senatorDir.path)\n",
    "    senDF['category'] = senatorDir.name\n",
    "    senReleasesDF = senReleasesDF.append(senDF, ignore_index = False)\n",
    "\n",
    "senReleasesDF[:5]"
   ]
  },
  {
   "cell_type": "markdown",
   "metadata": {},
   "source": [
    "We also want to remove stop words and stem. Tokenizing requires two steps. Word2Vec needs to retain the sentence structure so as to capture a \"continuous bag of words (CBOW)\" and all of the skip-grams within a word window. The algorithm tries to preserve the distances induced by one of these two local structures. This is very different from clustering and LDA topic modeling which extract unordered words alone. As such, tokenizing is slightly more involved, but we can still use `lucem_illud`."
   ]
  },
  {
   "cell_type": "code",
   "execution_count": 5,
   "metadata": {},
   "outputs": [
    {
     "data": {
      "text/html": [
       "<div>\n",
       "<style scoped>\n",
       "    .dataframe tbody tr th:only-of-type {\n",
       "        vertical-align: middle;\n",
       "    }\n",
       "\n",
       "    .dataframe tbody tr th {\n",
       "        vertical-align: top;\n",
       "    }\n",
       "\n",
       "    .dataframe thead th {\n",
       "        text-align: right;\n",
       "    }\n",
       "</style>\n",
       "<table border=\"1\" class=\"dataframe\">\n",
       "  <thead>\n",
       "    <tr style=\"text-align: right;\">\n",
       "      <th></th>\n",
       "      <th>text</th>\n",
       "      <th>category</th>\n",
       "      <th>tokenized_sents</th>\n",
       "      <th>normalized_sents</th>\n",
       "    </tr>\n",
       "  </thead>\n",
       "  <tbody>\n",
       "    <tr>\n",
       "      <th>01Apr2005Kennedy14.txt</th>\n",
       "      <td>FOR IMMEDIATE RELEASE   FOR IMMEDIATE...</td>\n",
       "      <td>Kennedy</td>\n",
       "      <td>[[FOR, IMMEDIATE, RELEASE, FOR, IMMEDIATE, REL...</td>\n",
       "      <td>[[immediate, release, immediate, release, cont...</td>\n",
       "    </tr>\n",
       "    <tr>\n",
       "      <th>01Aug2005Kennedy12.txt</th>\n",
       "      <td>FOR IMMEDIATE RELEASE   FOR IMMEDIATE...</td>\n",
       "      <td>Kennedy</td>\n",
       "      <td>[[FOR, IMMEDIATE, RELEASE, FOR, IMMEDIATE, REL...</td>\n",
       "      <td>[[immediate, release, immediate, release, cont...</td>\n",
       "    </tr>\n",
       "    <tr>\n",
       "      <th>01Aug2006Kennedy10.txt</th>\n",
       "      <td>FOR IMMEDIATE RELEASE  FOR IMMEDIATE ...</td>\n",
       "      <td>Kennedy</td>\n",
       "      <td>[[FOR, IMMEDIATE, RELEASE, FOR, IMMEDIATE, REL...</td>\n",
       "      <td>[[immediate, release, immediate, release, wash...</td>\n",
       "    </tr>\n",
       "    <tr>\n",
       "      <th>01Aug2006Kennedy11.txt</th>\n",
       "      <td>FOR IMMEDIATE RELEASE  FOR IMMEDIATE ...</td>\n",
       "      <td>Kennedy</td>\n",
       "      <td>[[FOR, IMMEDIATE, RELEASE, FOR, IMMEDIATE, REL...</td>\n",
       "      <td>[[immediate, release, immediate, release, wash...</td>\n",
       "    </tr>\n",
       "    <tr>\n",
       "      <th>01Aug2006Kennedy12.txt</th>\n",
       "      <td>FOR IMMEDIATE RELEASE  FOR IMMEDIATE ...</td>\n",
       "      <td>Kennedy</td>\n",
       "      <td>[[FOR, IMMEDIATE, RELEASE, FOR, IMMEDIATE, REL...</td>\n",
       "      <td>[[immediate, release, immediate, release, cont...</td>\n",
       "    </tr>\n",
       "  </tbody>\n",
       "</table>\n",
       "</div>"
      ],
      "text/plain": [
       "                                                                     text  \\\n",
       "01Apr2005Kennedy14.txt           FOR IMMEDIATE RELEASE   FOR IMMEDIATE...   \n",
       "01Aug2005Kennedy12.txt           FOR IMMEDIATE RELEASE   FOR IMMEDIATE...   \n",
       "01Aug2006Kennedy10.txt           FOR IMMEDIATE RELEASE  FOR IMMEDIATE ...   \n",
       "01Aug2006Kennedy11.txt           FOR IMMEDIATE RELEASE  FOR IMMEDIATE ...   \n",
       "01Aug2006Kennedy12.txt           FOR IMMEDIATE RELEASE  FOR IMMEDIATE ...   \n",
       "\n",
       "                       category  \\\n",
       "01Apr2005Kennedy14.txt  Kennedy   \n",
       "01Aug2005Kennedy12.txt  Kennedy   \n",
       "01Aug2006Kennedy10.txt  Kennedy   \n",
       "01Aug2006Kennedy11.txt  Kennedy   \n",
       "01Aug2006Kennedy12.txt  Kennedy   \n",
       "\n",
       "                                                          tokenized_sents  \\\n",
       "01Apr2005Kennedy14.txt  [[FOR, IMMEDIATE, RELEASE, FOR, IMMEDIATE, REL...   \n",
       "01Aug2005Kennedy12.txt  [[FOR, IMMEDIATE, RELEASE, FOR, IMMEDIATE, REL...   \n",
       "01Aug2006Kennedy10.txt  [[FOR, IMMEDIATE, RELEASE, FOR, IMMEDIATE, REL...   \n",
       "01Aug2006Kennedy11.txt  [[FOR, IMMEDIATE, RELEASE, FOR, IMMEDIATE, REL...   \n",
       "01Aug2006Kennedy12.txt  [[FOR, IMMEDIATE, RELEASE, FOR, IMMEDIATE, REL...   \n",
       "\n",
       "                                                         normalized_sents  \n",
       "01Apr2005Kennedy14.txt  [[immediate, release, immediate, release, cont...  \n",
       "01Aug2005Kennedy12.txt  [[immediate, release, immediate, release, cont...  \n",
       "01Aug2006Kennedy10.txt  [[immediate, release, immediate, release, wash...  \n",
       "01Aug2006Kennedy11.txt  [[immediate, release, immediate, release, wash...  \n",
       "01Aug2006Kennedy12.txt  [[immediate, release, immediate, release, cont...  "
      ]
     },
     "execution_count": 5,
     "metadata": {},
     "output_type": "execute_result"
    }
   ],
   "source": [
    "#Apply our functions, notice each row is a list of lists now\n",
    "senReleasesDF['tokenized_sents'] = senReleasesDF['text'].apply(lambda x: \n",
    "                                                               [nltk.word_tokenize(s) for s in nltk.sent_tokenize(x)])\n",
    "senReleasesDF['normalized_sents'] = senReleasesDF['tokenized_sents'].apply(lambda x: \n",
    "                                                                           [lucem_illud.normalizeTokens(s, \n",
    "                                                                                           stopwordLst = lucem_illud.stop_words_basic, \n",
    "                                                                                           stemmer = None) \n",
    "                                                                            for s in x])\n",
    "\n",
    "senReleasesDF[:5]"
   ]
  },
  {
   "cell_type": "markdown",
   "metadata": {},
   "source": [
    "# Word2Vec\n",
    "\n",
    "We will be using the gensim implementation of [Word2Vec](https://radimrehurek.com/gensim/models/word2vec.html#gensim.models.word2vec.Word2Vec).\n",
    "\n",
    "To load our data, we give all the sentences to the trainer. We just need to add the words as a list of sentences:"
   ]
  },
  {
   "cell_type": "code",
   "execution_count": 6,
   "metadata": {
    "collapsed": true
   },
   "outputs": [],
   "source": [
    "senReleasesW2V = gensim.models.word2vec.Word2Vec(senReleasesDF['normalized_sents'].sum())"
   ]
  },
  {
   "cell_type": "markdown",
   "metadata": {},
   "source": [
    "Inside the word2vec object, the words each have a vector. To access the vector directly, use the square braces (`__getitem__`) method:"
   ]
  },
  {
   "cell_type": "code",
   "execution_count": 7,
   "metadata": {},
   "outputs": [
    {
     "name": "stdout",
     "output_type": "stream",
     "text": [
      "A 100 dimesional vector:\n"
     ]
    },
    {
     "data": {
      "text/plain": [
       "array([-2.1477232 ,  3.839329  , -0.99012995, -0.33755463,  0.7600124 ,\n",
       "        1.59997   ,  0.89605683,  3.4121017 , -0.24308   ,  1.2954614 ,\n",
       "       -0.9542958 , -1.1434901 , -0.4200848 ,  0.53968394, -0.7723568 ,\n",
       "        0.7204886 , -1.6006107 , -1.9666004 , -0.6312303 ,  0.31710887,\n",
       "       -0.5276691 ,  0.19513348,  1.3112592 , -0.1212042 , -1.1816422 ,\n",
       "        0.45158264,  0.74450564, -1.2868177 , -1.2605952 , -1.2620417 ,\n",
       "        2.6416142 , -0.62808216,  3.2962172 ,  2.8800578 , -0.54629266,\n",
       "       -2.0662355 , -1.6263342 ,  2.5022385 ,  2.815848  , -0.81786245,\n",
       "       -1.5224552 , -0.897784  ,  0.32383108,  0.58364415,  1.6652521 ,\n",
       "        0.68603164,  0.24028964,  0.8454306 ,  1.5515912 , -0.7914124 ,\n",
       "       -1.47707   ,  1.407559  , -2.0248342 ,  0.49560678, -2.1810896 ,\n",
       "        1.0898168 , -0.28010052,  2.4184604 , -0.5767022 , -0.6281174 ,\n",
       "        0.93789595,  1.0347891 ,  2.0354233 , -0.8605121 , -1.7466254 ,\n",
       "       -1.2601554 , -0.6137958 ,  0.10286617,  0.08200073, -1.0040436 ,\n",
       "        0.9177487 ,  0.507893  , -0.9869434 ,  1.7539192 ,  1.1514937 ,\n",
       "        0.908218  , -0.7701538 ,  0.71344393, -1.2119389 , -1.875897  ,\n",
       "        2.3813937 , -1.2858211 , -1.1259365 ,  2.7450795 ,  1.0843571 ,\n",
       "        1.9889235 , -0.42243272,  1.4724241 ,  0.39591092, -0.5016025 ,\n",
       "       -0.5460978 , -0.0233786 , -0.8572439 , -0.08614779,  1.2661637 ,\n",
       "        2.9783647 , -0.55260897,  0.06567934,  1.8719712 ,  1.9294037 ],\n",
       "      dtype=float32)"
      ]
     },
     "execution_count": 7,
     "metadata": {},
     "output_type": "execute_result"
    }
   ],
   "source": [
    "print(\"A {} dimesional vector:\".format(senReleasesW2V['president'].shape[0]))\n",
    "senReleasesW2V['president']"
   ]
  },
  {
   "cell_type": "code",
   "execution_count": 9,
   "metadata": {},
   "outputs": [
    {
     "data": {
      "text/plain": [
       "<gensim.models.word2vec.Word2Vec at 0x115c47588>"
      ]
     },
     "execution_count": 9,
     "metadata": {},
     "output_type": "execute_result"
    }
   ],
   "source": [
    "senReleasesW2V"
   ]
  },
  {
   "cell_type": "markdown",
   "metadata": {},
   "source": [
    "If you want the full matrix, `syn0` stores all the vectors:"
   ]
  },
  {
   "cell_type": "code",
   "execution_count": 8,
   "metadata": {},
   "outputs": [
    {
     "data": {
      "text/plain": [
       "array([[-0.28485143,  0.03584093,  0.7732712 , ..., -0.7305191 ,\n",
       "        -1.650449  ,  0.22051173],\n",
       "       [-0.92609394, -0.7497485 ,  0.51622695, ..., -1.0126107 ,\n",
       "        -0.04821872,  0.49845818],\n",
       "       [-0.42815724, -2.216103  ,  2.5821354 , ..., -3.2546039 ,\n",
       "         0.2689275 ,  1.0047137 ],\n",
       "       ...,\n",
       "       [ 0.01586443, -0.03325571,  0.03292124, ..., -0.05126008,\n",
       "         0.05420509,  0.00940419],\n",
       "       [ 0.03159003,  0.04017147,  0.0039489 , ..., -0.02381636,\n",
       "         0.04085605,  0.03957413],\n",
       "       [ 0.03305597,  0.01430544, -0.00854431, ..., -0.0375199 ,\n",
       "         0.04133472,  0.02716137]], dtype=float32)"
      ]
     },
     "execution_count": 8,
     "metadata": {},
     "output_type": "execute_result"
    }
   ],
   "source": [
    "senReleasesW2V.wv.syn0"
   ]
  },
  {
   "cell_type": "markdown",
   "metadata": {},
   "source": [
    "Then, `index2word` lets you translate from the matrix to words"
   ]
  },
  {
   "cell_type": "code",
   "execution_count": 10,
   "metadata": {},
   "outputs": [
    {
     "data": {
      "text/plain": [
       "'american'"
      ]
     },
     "execution_count": 10,
     "metadata": {},
     "output_type": "execute_result"
    }
   ],
   "source": [
    "senReleasesW2V.wv.index2word[10]"
   ]
  },
  {
   "cell_type": "markdown",
   "metadata": {},
   "source": [
    "Now we can look at a few things that come from the word vectors. The first is to find similar vectors (cosine similarity):"
   ]
  },
  {
   "cell_type": "code",
   "execution_count": 11,
   "metadata": {},
   "outputs": [
    {
     "data": {
      "text/plain": [
       "[('administration', 0.8008792400360107),\n",
       " ('presidents', 0.7314022779464722),\n",
       " ('administrations', 0.6651126146316528),\n",
       " ('sticklers', 0.6565203666687012),\n",
       " ('cheney', 0.6068216562271118),\n",
       " ('george', 0.5944485664367676),\n",
       " ('responds', 0.5339572429656982),\n",
       " ('presidential', 0.5310745239257812),\n",
       " ('lamont', 0.5187402963638306),\n",
       " ('bolton', 0.5183911919593811)]"
      ]
     },
     "execution_count": 11,
     "metadata": {},
     "output_type": "execute_result"
    }
   ],
   "source": [
    "senReleasesW2V.most_similar('president')"
   ]
  },
  {
   "cell_type": "code",
   "execution_count": 12,
   "metadata": {},
   "outputs": [
    {
     "data": {
      "text/plain": [
       "[('unresisted', 0.6489418148994446),\n",
       " ('disobedience', 0.6434783339500427),\n",
       " ('afghanistan', 0.6427156329154968),\n",
       " ('descending', 0.6286423206329346),\n",
       " ('quagmire', 0.618645191192627),\n",
       " ('foment', 0.6185049414634705),\n",
       " ('wars', 0.6118535995483398),\n",
       " ('battle', 0.5894827842712402),\n",
       " ('invasion', 0.5853587985038757),\n",
       " ('militarily', 0.5797175168991089)]"
      ]
     },
     "execution_count": 12,
     "metadata": {},
     "output_type": "execute_result"
    }
   ],
   "source": [
    "senReleasesW2V.most_similar('war')"
   ]
  },
  {
   "cell_type": "markdown",
   "metadata": {},
   "source": [
    "Or we can get this directly (calculated slightly differently):"
   ]
  },
  {
   "cell_type": "code",
   "execution_count": 13,
   "metadata": {
    "collapsed": true
   },
   "outputs": [],
   "source": [
    "def cos_difference(embedding,word1,word2):\n",
    "    return sklearn.metrics.pairwise.cosine_similarity(embedding[word1].reshape(1,-1),embedding[word2].reshape(1,-1))"
   ]
  },
  {
   "cell_type": "code",
   "execution_count": 14,
   "metadata": {},
   "outputs": [
    {
     "data": {
      "text/plain": [
       "array([[0.5463091]], dtype=float32)"
      ]
     },
     "execution_count": 14,
     "metadata": {},
     "output_type": "execute_result"
    }
   ],
   "source": [
    "cos_difference(senReleasesW2V, 'war', 'unwinnable')"
   ]
  },
  {
   "cell_type": "markdown",
   "metadata": {},
   "source": [
    "We can also find which word least matches the others within a word set (cosine similarity):"
   ]
  },
  {
   "cell_type": "code",
   "execution_count": 15,
   "metadata": {},
   "outputs": [
    {
     "data": {
      "text/plain": [
       "'washington'"
      ]
     },
     "execution_count": 15,
     "metadata": {},
     "output_type": "execute_result"
    }
   ],
   "source": [
    "senReleasesW2V.doesnt_match(['administration', 'administrations', 'presidents', 'president', 'washington'])"
   ]
  },
  {
   "cell_type": "markdown",
   "metadata": {},
   "source": [
    "Find which word best matches the result of a semantic *equation* (here, we seek the words whose vectors best fit the missing entry from the equation: **X + Y - Z = _**."
   ]
  },
  {
   "cell_type": "code",
   "execution_count": 16,
   "metadata": {},
   "outputs": [
    {
     "data": {
      "text/plain": [
       "[('bush', 0.6802624464035034),\n",
       " ('veto', 0.6541385650634766),\n",
       " ('vetoed', 0.6508108377456665),\n",
       " ('signature', 0.6356053352355957),\n",
       " ('desk', 0.6326250433921814),\n",
       " ('bushs', 0.6286910772323608),\n",
       " ('reverse', 0.616399884223938),\n",
       " ('signed', 0.6063629388809204),\n",
       " ('proposing', 0.600975751876831),\n",
       " ('signing', 0.5906930565834045)]"
      ]
     },
     "execution_count": 16,
     "metadata": {},
     "output_type": "execute_result"
    }
   ],
   "source": [
    "senReleasesW2V.most_similar(positive=['clinton', 'republican'], negative = ['democrat'])"
   ]
  },
  {
   "cell_type": "markdown",
   "metadata": {},
   "source": [
    "Here we see that **Clinton + Republican - Democrat = Bush**. In other words, in this dataset and period, **Clinton** was to **Democrat** as **Bush** was to **Republican**. Whoah!"
   ]
  },
  {
   "cell_type": "markdown",
   "metadata": {},
   "source": [
    " But how do we argue that these are stable distances or associations?"
   ]
  },
  {
   "cell_type": "markdown",
   "metadata": {},
   "source": [
    "## Establishing Credible or Confidence Intervals"
   ]
  },
  {
   "cell_type": "markdown",
   "metadata": {},
   "source": [
    "### Boostrapping approach"
   ]
  },
  {
   "cell_type": "markdown",
   "metadata": {},
   "source": [
    "We propose well-established bootstrapping and subsampling methods to nonparametrically demonstrate the stability and significance of word associations within our embedding model. These allow us to establish conservative confidence intervals to both (a) distances between words in a model and (b) projections of words onto an induced dimension (e.g., man-woman). If we assume that the texts (e.g., newspapers, books) underlying our word embedding model are observations drawn from an independent and identically distributed (i.i.d.) population of cultural observations, then bootstrapping allows us to estimate the variance of word distances and projections by measuring those properties through sampling the empirical distribution of texts with replacement (Efron and Tibshirani 1994; Efron 2003). Operationally, if we wanted to bootstrap a 90% confidence interval of a word-word distance or word-dimension projection, we would sample a corpus the same size as the original corpus, but with replacement, 20 times, estimate word embedding models on each sample. Then we take the 2nd order (2nd smallest) statistic $s_{(2)}$--either distance or projection--as our confidence interval’s lower bound, and 19th order statistic $s_{(19)}$ as its upper bound. The distance between $s_{(2)}$ and $s_{(19)}$ across 20 bootstrap samples span the 5th to the 95th percentiles of the statistic’s variance, bounding the 90th confidence interval. A 95% confidence interval would span $s_{(2)}$ and $s_{(39)}$ in word embedding distances or projections estimated on 40 bootstrap samples of a corpus, tracing the 2.5th to 97.5th percentiles. "
   ]
  },
  {
   "cell_type": "code",
   "execution_count": 17,
   "metadata": {},
   "outputs": [
    {
     "data": {
      "text/plain": [
       "[0.3194977,\n",
       " 0.32725507,\n",
       " 0.33980376,\n",
       " 0.357678,\n",
       " 0.3609556,\n",
       " 0.36664072,\n",
       " 0.36869246,\n",
       " 0.37803262,\n",
       " 0.38817635,\n",
       " 0.45527837,\n",
       " 0.46828383,\n",
       " 0.5183778,\n",
       " 0.52365106,\n",
       " 0.54797953,\n",
       " 0.6660341,\n",
       " 0.707195]"
      ]
     },
     "execution_count": 17,
     "metadata": {},
     "output_type": "execute_result"
    }
   ],
   "source": [
    "estimatesB=[]\n",
    "for x in range(20):\n",
    "    senReleasesW2VB = gensim.models.word2vec.Word2Vec(senReleasesDF['normalized_sents'].sample(frac=1.0, replace=True).sum())\n",
    "    try:\n",
    "        estimatesB.append(cos_difference(senReleasesW2VB, 'war', 'unwinnable')[0,0])\n",
    "    except KeyError:\n",
    "        #Missing one of the words from the vocab\n",
    "        pass\n",
    "                                                      \n",
    "estimatesB.sort()         \n",
    "estimatesB"
   ]
  },
  {
   "cell_type": "code",
   "execution_count": 18,
   "metadata": {},
   "outputs": [
    {
     "name": "stdout",
     "output_type": "stream",
     "text": [
      "The 90% confidence interval for the cosine distance between war and unwinnable is:\n",
      " 0.32725507 0.6660341\n"
     ]
    }
   ],
   "source": [
    "print(\"The 90% confidence interval for the cosine distance between war and unwinnable is:\\n\",estimatesB[1], estimatesB[-2])"
   ]
  },
  {
   "cell_type": "markdown",
   "metadata": {},
   "source": [
    "### Subsampling approach"
   ]
  },
  {
   "cell_type": "markdown",
   "metadata": {},
   "source": [
    "If the corpus is large, then we may take a subsampling approach, which randomly partitions the corpus into non-overlapping samples, then estimates the word-embedding models on these subsets and calculates confidence intervals as a function of the empirical distribution of distance or projection statistics and number of texts in the subsample (Politis and Romano 1997). Subsampling requires the same i.i.d. assumption as the bootrap (Politis and Romano 1992; Politis and Romano 1994). For 90% confidence intervals, we randomly partition the corpus into 20 subcorpora, then calculate $B^k=\\sqrt{\\tau_k}\\left(s^k-\\bar{s}\\right)$ for each $k$th sample, where $k$ is the number of texts and $s^k$ is the embedding distance or projection for the $k$th sample, and $\\bar{s}$ is the average statistic for all samples. The 90% confidence interval spans the 5th to 95th percentile variances, inscribed by $\\bar{s}-\\frac{B_{(19)}^k}{\\sqrt{\\tau}}$ and $\\bar{s}-\\frac{B_{(2)}^k}{\\sqrt{\\tau}}$, where $\\tau$ the number of texts in the total corpus and $s$ is the average statistic across all subsamples. As with bootrapping, a 95% confidence interval would require 40 subsamples; a 99% confidence would require 200 (.5th to 99.5th percentiles)."
   ]
  },
  {
   "cell_type": "code",
   "execution_count": 19,
   "metadata": {},
   "outputs": [
    {
     "ename": "NameError",
     "evalue": "name 'sample_indices' is not defined",
     "output_type": "error",
     "traceback": [
      "\u001b[0;31m---------------------------------------------------------------------------\u001b[0m",
      "\u001b[0;31mNameError\u001b[0m                                 Traceback (most recent call last)",
      "\u001b[0;32m<ipython-input-19-693370b629df>\u001b[0m in \u001b[0;36m<module>\u001b[0;34m()\u001b[0m\n\u001b[0;32m----> 1\u001b[0;31m \u001b[0msenReleasesDF\u001b[0m\u001b[0;34m[\u001b[0m\u001b[0msample_indices\u001b[0m \u001b[0;34m==\u001b[0m \u001b[0mi\u001b[0m\u001b[0;34m]\u001b[0m\u001b[0;34m\u001b[0m\u001b[0m\n\u001b[0m",
      "\u001b[0;31mNameError\u001b[0m: name 'sample_indices' is not defined"
     ]
    }
   ],
   "source": [
    "senReleasesDF[sample_indices == i]"
   ]
  },
  {
   "cell_type": "code",
   "execution_count": 20,
   "metadata": {},
   "outputs": [
    {
     "name": "stdout",
     "output_type": "stream",
     "text": [
      "[0.95500129 0.99711931 0.98936945 0.96108758 0.96701264 0.97226471\n",
      " 0.98176384 0.97908151 0.94906205 0.99334228]\n",
      "[375. 370. 386. 392. 369. 380. 396. 416. 404. 416.]\n"
     ]
    }
   ],
   "source": [
    "n_samples = 10\n",
    "sample_indices = np.random.randint(0,n_samples,(len(senReleasesDF),))\n",
    "\n",
    "s_k =np.array([])\n",
    "tau_k=np.array([])\n",
    "\n",
    "for i in range(n_samples):\n",
    "    sample_w2v = gensim.models.word2vec.Word2Vec(senReleasesDF[sample_indices == i]['normalized_sents'].sum())\n",
    "    try:\n",
    "        #Need to use words present in most samples\n",
    "        s_k = np.append(s_k, cos_difference(sample_w2v, 'war', 'responsibility')[0,0])\n",
    "    except KeyError:\n",
    "        pass\n",
    "    else:\n",
    "        tau_k = np.append(tau_k, len(senReleasesDF[sample_indices == i]))\n",
    "\n",
    "print(s_k)\n",
    "print(tau_k)\n",
    "\n",
    "tau = tau_k.sum()\n",
    "s = s_k.mean()\n",
    "B_k = np.sqrt(tau_k) * s_k-s_k.mean()"
   ]
  },
  {
   "cell_type": "code",
   "execution_count": 21,
   "metadata": {},
   "outputs": [
    {
     "name": "stdout",
     "output_type": "stream",
     "text": [
      "The 90% confidence interval for the cosine distance between war and responsibility is:\n",
      " 0.6848046095214868 0.6831391421298227\n"
     ]
    }
   ],
   "source": [
    "print(\"The 90% confidence interval for the cosine distance between war and responsibility is:\\n\",s-B_k[-2]/np.sqrt(tau), s-B_k[1]/np.sqrt(tau))"
   ]
  },
  {
   "cell_type": "markdown",
   "metadata": {},
   "source": [
    "We can also save the vectors for later use:"
   ]
  },
  {
   "cell_type": "code",
   "execution_count": 22,
   "metadata": {
    "collapsed": true
   },
   "outputs": [],
   "source": [
    "senReleasesW2V.save(\"senpressreleasesWORD2Vec.mm\")\n",
    "#Load with senReleasesW2V = gensim.models.word2vec.Word2Vec.load('senpressreleasesWORD2Vec.mm')"
   ]
  },
  {
   "cell_type": "markdown",
   "metadata": {},
   "source": [
    "## Visualize"
   ]
  },
  {
   "cell_type": "markdown",
   "metadata": {},
   "source": [
    "We can also use dimension reduction to visulize the vectors. We will start by selecting a subset we want to plot. Let's look at the top words from the set:"
   ]
  },
  {
   "cell_type": "code",
   "execution_count": 23,
   "metadata": {
    "collapsed": true
   },
   "outputs": [],
   "source": [
    "numWords = 150\n",
    "targetWords = senReleasesW2V.wv.index2word[:numWords]"
   ]
  },
  {
   "cell_type": "markdown",
   "metadata": {},
   "source": [
    "We can then extract their vectors and create our own smaller matrix that preserved the distances from the original:"
   ]
  },
  {
   "cell_type": "code",
   "execution_count": 24,
   "metadata": {},
   "outputs": [
    {
     "data": {
      "text/plain": [
       "array([[-0.28485143,  0.03584093,  0.7732712 , ..., -0.7305191 ,\n",
       "        -1.650449  ,  0.22051173],\n",
       "       [-0.92609394, -0.7497485 ,  0.51622695, ..., -1.0126107 ,\n",
       "        -0.04821872,  0.49845818],\n",
       "       [-0.42815724, -2.216103  ,  2.5821354 , ..., -3.2546039 ,\n",
       "         0.2689275 ,  1.0047137 ],\n",
       "       ...,\n",
       "       [ 1.4811281 , -0.65650403, -1.158478  , ..., -0.62745625,\n",
       "         0.14628555,  0.30349106],\n",
       "       [ 0.504006  ,  0.6817335 , -0.5155293 , ...,  0.00517544,\n",
       "        -1.1219692 ,  0.1416335 ],\n",
       "       [ 0.5592662 , -0.5841926 , -0.41784108, ...,  0.50106764,\n",
       "        -0.6899424 , -1.2611321 ]], dtype=float32)"
      ]
     },
     "execution_count": 24,
     "metadata": {},
     "output_type": "execute_result"
    }
   ],
   "source": [
    "wordsSubMatrix = []\n",
    "for word in targetWords:\n",
    "    wordsSubMatrix.append(senReleasesW2V[word])\n",
    "wordsSubMatrix = np.array(wordsSubMatrix)\n",
    "wordsSubMatrix"
   ]
  },
  {
   "cell_type": "markdown",
   "metadata": {},
   "source": [
    "Then we can use PCA to reduce the dimesions (e.g., to 50), and [T-SNE](https://en.wikipedia.org/wiki/T-distributed_stochastic_neighbor_embedding) to project them down to the two we will visualize. We note that this is nondeterministic process, and so you can repeat and achieve alternative projectsions/visualizations of the words:"
   ]
  },
  {
   "cell_type": "code",
   "execution_count": 25,
   "metadata": {
    "collapsed": true
   },
   "outputs": [],
   "source": [
    "pcaWords = sklearn.decomposition.PCA(n_components = 50).fit(wordsSubMatrix)\n",
    "reducedPCA_data = pcaWords.transform(wordsSubMatrix)\n",
    "#T-SNE is theoretically better, but you should experiment\n",
    "tsneWords = sklearn.manifold.TSNE(n_components = 2, early_exaggeration = 25).fit_transform(reducedPCA_data)"
   ]
  },
  {
   "cell_type": "markdown",
   "metadata": {},
   "source": [
    "We now can plot the points"
   ]
  },
  {
   "cell_type": "code",
   "execution_count": 26,
   "metadata": {},
   "outputs": [
    {
     "data": {
      "image/png": "[encoded data removed]",
      "text/plain": [
       "<matplotlib.figure.Figure at 0x1259bbac8>"
      ]
     },
     "metadata": {},
     "output_type": "display_data"
    }
   ],
   "source": [
    "fig = plt.figure(figsize = (15,10))\n",
    "ax = fig.add_subplot(111)\n",
    "ax.set_frame_on(False)\n",
    "plt.scatter(tsneWords[:, 0], tsneWords[:, 1], alpha = 0)#Making the points invisible \n",
    "for i, word in enumerate(targetWords):\n",
    "    ax.annotate(word, \n",
    "                (tsneWords[:, 0][i],tsneWords[:, 1][i]), \n",
    "                size =  20 * (numWords - i) / numWords, \n",
    "                alpha = .8 * (numWords - i) / numWords + .2)\n",
    "plt.xticks(())\n",
    "plt.yticks(())\n",
    "plt.show()"
   ]
  },
  {
   "cell_type": "markdown",
   "metadata": {},
   "source": [
    "My visualization above puts ``iraq`` next to ``time`` and ``bill`` near ``help``. <img src='../data/examplewordcloud.svg'>"
   ]
  },
  {
   "cell_type": "markdown",
   "metadata": {},
   "source": [
    "What if a new senator come along with whose names starts with K? Could we analyse their releases too without rerunning the entire embedding? Lets try with Cardin in `../data/grimmerPressReleases_extra/Cardin`. First we need to load and proccess the releases:"
   ]
  },
  {
   "cell_type": "code",
   "execution_count": 27,
   "metadata": {},
   "outputs": [
    {
     "data": {
      "text/html": [
       "<div>\n",
       "<style scoped>\n",
       "    .dataframe tbody tr th:only-of-type {\n",
       "        vertical-align: middle;\n",
       "    }\n",
       "\n",
       "    .dataframe tbody tr th {\n",
       "        vertical-align: top;\n",
       "    }\n",
       "\n",
       "    .dataframe thead th {\n",
       "        text-align: right;\n",
       "    }\n",
       "</style>\n",
       "<table border=\"1\" class=\"dataframe\">\n",
       "  <thead>\n",
       "    <tr style=\"text-align: right;\">\n",
       "      <th></th>\n",
       "      <th>text</th>\n",
       "      <th>category</th>\n",
       "      <th>tokenized_sents</th>\n",
       "      <th>normalized_sents</th>\n",
       "    </tr>\n",
       "  </thead>\n",
       "  <tbody>\n",
       "    <tr>\n",
       "      <th>01Aug2007Cardin156.txt</th>\n",
       "      <td>...</td>\n",
       "      <td>Cardin</td>\n",
       "      <td>[[CARDIN, MIKULSKI, PRAISES, PASSAGE, OF, STRO...</td>\n",
       "      <td>[[cardin, mikulski, praises, passage, strong, ...</td>\n",
       "    </tr>\n",
       "    <tr>\n",
       "      <th>01Feb2007Cardin297.txt</th>\n",
       "      <td>...</td>\n",
       "      <td>Cardin</td>\n",
       "      <td>[[CARDIN, VOTES, TO, INCREASE, MINIMUM, WAGE, ...</td>\n",
       "      <td>[[cardin, votes, increase, minimum, wage, pay,...</td>\n",
       "    </tr>\n",
       "    <tr>\n",
       "      <th>01Feb2007Cardin298.txt</th>\n",
       "      <td>...</td>\n",
       "      <td>Cardin</td>\n",
       "      <td>[[S, 453, SEN, CARDIN, CO, SPONSORS, BILL, TO,...</td>\n",
       "      <td>[[sen, cardin, co, sponsors, bill, protect, vo...</td>\n",
       "    </tr>\n",
       "    <tr>\n",
       "      <th>01Feb2007Cardin299.txt</th>\n",
       "      <td>...</td>\n",
       "      <td>Cardin</td>\n",
       "      <td>[[S, 450, CARDIN, INTRODUCES, BILL, TO, ELIMIN...</td>\n",
       "      <td>[[cardin, introduces, bill, eliminate, arbitra...</td>\n",
       "    </tr>\n",
       "    <tr>\n",
       "      <th>01Jun2007Cardin199.txt</th>\n",
       "      <td>...</td>\n",
       "      <td>Cardin</td>\n",
       "      <td>[[CARDIN, MIKULSKI, ANNOUNCE, 7, 3, MILLION, F...</td>\n",
       "      <td>[[cardin, mikulski, announce, million, hagerst...</td>\n",
       "    </tr>\n",
       "    <tr>\n",
       "      <th>01Jun2007Cardin200.txt</th>\n",
       "      <td>...</td>\n",
       "      <td>Cardin</td>\n",
       "      <td>[[CARDIN, MIKULSKI, ANNOUNCE, 4, 6, MILLION, F...</td>\n",
       "      <td>[[cardin, mikulski, announce, million, salisbu...</td>\n",
       "    </tr>\n",
       "    <tr>\n",
       "      <th>01Mar2007Cardin279.txt</th>\n",
       "      <td>...</td>\n",
       "      <td>Cardin</td>\n",
       "      <td>[[SEN, CARDIN, FIGHTS, TO, IMPROVE, SECURITY, ...</td>\n",
       "      <td>[[sen, cardin, fights, improve, security, amer...</td>\n",
       "    </tr>\n",
       "    <tr>\n",
       "      <th>01Mar2007Cardin280.txt</th>\n",
       "      <td>...</td>\n",
       "      <td>Cardin</td>\n",
       "      <td>[[CARDIN, MIKULSKI, ANNOUNCE, 35, 000, FOR, WE...</td>\n",
       "      <td>[[cardin, mikulski, announce, western, marylan...</td>\n",
       "    </tr>\n",
       "    <tr>\n",
       "      <th>01May2007Cardin228.txt</th>\n",
       "      <td>...</td>\n",
       "      <td>Cardin</td>\n",
       "      <td>[[STATEMENT, BY, U, S, SENATOR, BENJAMIN, L, C...</td>\n",
       "      <td>[[statement, u, senator, benjamin, l, cardin, ...</td>\n",
       "    </tr>\n",
       "    <tr>\n",
       "      <th>01May2007Cardin229.txt</th>\n",
       "      <td>...</td>\n",
       "      <td>Cardin</td>\n",
       "      <td>[[CARDIN, TELLS, THE, AG, COMMITTEE, THAT, THE...</td>\n",
       "      <td>[[cardin, tells, ag, committee, farm, bill, co...</td>\n",
       "    </tr>\n",
       "  </tbody>\n",
       "</table>\n",
       "</div>"
      ],
      "text/plain": [
       "                                                                     text  \\\n",
       "01Aug2007Cardin156.txt                                                ...   \n",
       "01Feb2007Cardin297.txt                                                ...   \n",
       "01Feb2007Cardin298.txt                                                ...   \n",
       "01Feb2007Cardin299.txt                                                ...   \n",
       "01Jun2007Cardin199.txt                                                ...   \n",
       "01Jun2007Cardin200.txt                                                ...   \n",
       "01Mar2007Cardin279.txt                                                ...   \n",
       "01Mar2007Cardin280.txt                                                ...   \n",
       "01May2007Cardin228.txt                                                ...   \n",
       "01May2007Cardin229.txt                                                ...   \n",
       "\n",
       "                       category  \\\n",
       "01Aug2007Cardin156.txt   Cardin   \n",
       "01Feb2007Cardin297.txt   Cardin   \n",
       "01Feb2007Cardin298.txt   Cardin   \n",
       "01Feb2007Cardin299.txt   Cardin   \n",
       "01Jun2007Cardin199.txt   Cardin   \n",
       "01Jun2007Cardin200.txt   Cardin   \n",
       "01Mar2007Cardin279.txt   Cardin   \n",
       "01Mar2007Cardin280.txt   Cardin   \n",
       "01May2007Cardin228.txt   Cardin   \n",
       "01May2007Cardin229.txt   Cardin   \n",
       "\n",
       "                                                          tokenized_sents  \\\n",
       "01Aug2007Cardin156.txt  [[CARDIN, MIKULSKI, PRAISES, PASSAGE, OF, STRO...   \n",
       "01Feb2007Cardin297.txt  [[CARDIN, VOTES, TO, INCREASE, MINIMUM, WAGE, ...   \n",
       "01Feb2007Cardin298.txt  [[S, 453, SEN, CARDIN, CO, SPONSORS, BILL, TO,...   \n",
       "01Feb2007Cardin299.txt  [[S, 450, CARDIN, INTRODUCES, BILL, TO, ELIMIN...   \n",
       "01Jun2007Cardin199.txt  [[CARDIN, MIKULSKI, ANNOUNCE, 7, 3, MILLION, F...   \n",
       "01Jun2007Cardin200.txt  [[CARDIN, MIKULSKI, ANNOUNCE, 4, 6, MILLION, F...   \n",
       "01Mar2007Cardin279.txt  [[SEN, CARDIN, FIGHTS, TO, IMPROVE, SECURITY, ...   \n",
       "01Mar2007Cardin280.txt  [[CARDIN, MIKULSKI, ANNOUNCE, 35, 000, FOR, WE...   \n",
       "01May2007Cardin228.txt  [[STATEMENT, BY, U, S, SENATOR, BENJAMIN, L, C...   \n",
       "01May2007Cardin229.txt  [[CARDIN, TELLS, THE, AG, COMMITTEE, THAT, THE...   \n",
       "\n",
       "                                                         normalized_sents  \n",
       "01Aug2007Cardin156.txt  [[cardin, mikulski, praises, passage, strong, ...  \n",
       "01Feb2007Cardin297.txt  [[cardin, votes, increase, minimum, wage, pay,...  \n",
       "01Feb2007Cardin298.txt  [[sen, cardin, co, sponsors, bill, protect, vo...  \n",
       "01Feb2007Cardin299.txt  [[cardin, introduces, bill, eliminate, arbitra...  \n",
       "01Jun2007Cardin199.txt  [[cardin, mikulski, announce, million, hagerst...  \n",
       "01Jun2007Cardin200.txt  [[cardin, mikulski, announce, million, salisbu...  \n",
       "01Mar2007Cardin279.txt  [[sen, cardin, fights, improve, security, amer...  \n",
       "01Mar2007Cardin280.txt  [[cardin, mikulski, announce, western, marylan...  \n",
       "01May2007Cardin228.txt  [[statement, u, senator, benjamin, l, cardin, ...  \n",
       "01May2007Cardin229.txt  [[cardin, tells, ag, committee, farm, bill, co...  "
      ]
     },
     "execution_count": 27,
     "metadata": {},
     "output_type": "execute_result"
    }
   ],
   "source": [
    "cardinDF = lucem_illud.loadTextDirectory('../data/grimmerPressReleases_extra/Cardin')\n",
    "cardinDF['category'] = 'Cardin'\n",
    "\n",
    "cardinDF['tokenized_sents'] = cardinDF['text'].apply(lambda x: \n",
    "                                                               [nltk.word_tokenize(s) for s in nltk.sent_tokenize(x)])\n",
    "cardinDF['normalized_sents'] = cardinDF['tokenized_sents'].apply(lambda x: \n",
    "                                                                           [lucem_illud.normalizeTokens(s, \n",
    "                                                                                           stopwordLst = lucem_illud.stop_words_basic, \n",
    "                                                                                           stemmer = None) \n",
    "                                                                            for s in x])\n",
    "\n",
    "cardinDF[:10]"
   ]
  },
  {
   "cell_type": "markdown",
   "metadata": {},
   "source": [
    "We can now merge Cardin's releases with the rest. This can update all the weights in *w2v* model, so be careful."
   ]
  },
  {
   "cell_type": "code",
   "execution_count": 31,
   "metadata": {
    "collapsed": true
   },
   "outputs": [],
   "source": [
    "#This is using a newer API so we have to tell it a little bit more for it to work right\n",
    "senReleasesW2V.build_vocab(cardinDF['normalized_sents'].sum(), update=True)\n",
    "senReleasesW2V.train(cardinDF['normalized_sents'].sum(), \n",
    "                     total_examples=senReleasesW2V.corpus_count, \n",
    "                     epochs=senReleasesW2V.iter)\n",
    "senReleasesW2V.save(\"senpressreleasesWORD2Vec_new.mm\")"
   ]
  },
  {
   "cell_type": "markdown",
   "metadata": {},
   "source": [
    "As the model is updated by this, we need to load our old copy to do a comparison."
   ]
  },
  {
   "cell_type": "code",
   "execution_count": 32,
   "metadata": {
    "collapsed": true
   },
   "outputs": [],
   "source": [
    "senReleasesW2V_old = gensim.models.word2vec.Word2Vec.load('senpressreleasesWORD2Vec.mm')"
   ]
  },
  {
   "cell_type": "code",
   "execution_count": 33,
   "metadata": {},
   "outputs": [
    {
     "name": "stdout",
     "output_type": "stream",
     "text": [
      "A 100 dimesional vector:\n"
     ]
    },
    {
     "data": {
      "text/plain": [
       "array([-2.3696206,  3.400688 , -1.0426551, -0.3482925,  0.6652173,\n",
       "        1.5923328,  1.058138 ,  3.3057017, -0.3328402,  1.3559421],\n",
       "      dtype=float32)"
      ]
     },
     "execution_count": 33,
     "metadata": {},
     "output_type": "execute_result"
    }
   ],
   "source": [
    "print(\"A {} dimesional vector:\".format(senReleasesW2V['president'].shape[0]))\n",
    "senReleasesW2V['president'][:10]"
   ]
  },
  {
   "cell_type": "code",
   "execution_count": 34,
   "metadata": {},
   "outputs": [
    {
     "name": "stdout",
     "output_type": "stream",
     "text": [
      "A 100 dimesional vector:\n"
     ]
    },
    {
     "data": {
      "text/plain": [
       "array([-2.1477232 ,  3.839329  , -0.99012995, -0.33755463,  0.7600124 ,\n",
       "        1.59997   ,  0.89605683,  3.4121017 , -0.24308   ,  1.2954614 ],\n",
       "      dtype=float32)"
      ]
     },
     "execution_count": 34,
     "metadata": {},
     "output_type": "execute_result"
    }
   ],
   "source": [
    "print(\"A {} dimesional vector:\".format(senReleasesW2V_old['president'].shape[0]))\n",
    "senReleasesW2V_old['president'][:10]"
   ]
  },
  {
   "cell_type": "code",
   "execution_count": 35,
   "metadata": {},
   "outputs": [
    {
     "data": {
      "text/plain": [
       "array([ 0.22189736,  0.43864107,  0.05252516,  0.01073787,  0.09479511,\n",
       "        0.00763714, -0.16208118,  0.10640001,  0.0897602 , -0.06048071],\n",
       "      dtype=float32)"
      ]
     },
     "execution_count": 35,
     "metadata": {},
     "output_type": "execute_result"
    }
   ],
   "source": [
    "(senReleasesW2V_old['president'] - senReleasesW2V['president'])[:10]"
   ]
  },
  {
   "cell_type": "markdown",
   "metadata": {},
   "source": [
    "As you can see the vector for 'president' has changed a little bit and the word cloud should also be a bit different too"
   ]
  },
  {
   "cell_type": "code",
   "execution_count": 36,
   "metadata": {
    "collapsed": true
   },
   "outputs": [],
   "source": [
    "pcaWords = sklearn.decomposition.PCA(n_components = 50).fit(wordsSubMatrix)\n",
    "reducedPCA_data = pcaWords.transform(wordsSubMatrix)\n",
    "#T-SNE is theoretically better, but you should experiment\n",
    "tsneWords = sklearn.manifold.TSNE(n_components = 2, early_exaggeration = 25).fit_transform(reducedPCA_data)"
   ]
  },
  {
   "cell_type": "code",
   "execution_count": 37,
   "metadata": {},
   "outputs": [
    {
     "data": {
      "image/png": "[encoded data removed]",
      "text/plain": [
       "<matplotlib.figure.Figure at 0x1316aedd8>"
      ]
     },
     "metadata": {},
     "output_type": "display_data"
    }
   ],
   "source": [
    "fig = plt.figure(figsize = (15,10))\n",
    "ax = fig.add_subplot(111)\n",
    "ax.set_frame_on(False)\n",
    "plt.scatter(tsneWords[:, 0], tsneWords[:, 1], alpha = 0)#Making the points invisible \n",
    "for i, word in enumerate(targetWords):\n",
    "    ax.annotate(word, \n",
    "                (tsneWords[:, 0][i],tsneWords[:, 1][i]), \n",
    "                size =  20 * (numWords - i) / numWords, \n",
    "                alpha = .8 * (numWords - i) / numWords + .2)\n",
    "plt.xticks(())\n",
    "plt.yticks(())\n",
    "plt.show()"
   ]
  },
  {
   "cell_type": "markdown",
   "metadata": {},
   "source": [
    "Another thing to consider in training is how we know that our parameters for the model are correct. We can do this by looking at the training loss of the model. Let's tart by training a new model, but this time we will expose most of the options and train it one epoch at a time. Look [here](https://radimrehurek.com/gensim/models/word2vec.html#gensim.models.word2vec.Word2Vec) for more detail: "
   ]
  },
  {
   "cell_type": "code",
   "execution_count": 38,
   "metadata": {},
   "outputs": [
    {
     "data": {
      "text/plain": [
       "1977497.125"
      ]
     },
     "execution_count": 38,
     "metadata": {},
     "output_type": "execute_result"
    }
   ],
   "source": [
    "senReleasesW2V_loss = gensim.models.word2vec.Word2Vec(size = 100, #dimensions\n",
    "                                                      alpha=0.025,\n",
    "                                                      window=5,\n",
    "                                                      min_count=5,\n",
    "                                                      hs=0,  #hierarchical softmax toggle\n",
    "                                                      compute_loss = True,\n",
    "                                                     )\n",
    "senReleasesW2V_loss.build_vocab(senReleasesDF['normalized_sents'].sum())\n",
    "senReleasesW2V_loss.train(senReleasesDF['normalized_sents'].sum(), \n",
    "                     total_examples=senReleasesW2V.corpus_count, \n",
    "                     epochs=1, #This the running_training_loss is a total so we have to do 1 epoch at a time\n",
    "                    )\n",
    "#Using a list so we can capture every epoch\n",
    "losses = [senReleasesW2V_loss.running_training_loss]\n",
    "losses[0]"
   ]
  },
  {
   "cell_type": "markdown",
   "metadata": {},
   "source": [
    "Now we have the training loss and can optimize training to minimize it."
   ]
  },
  {
   "cell_type": "code",
   "execution_count": 39,
   "metadata": {},
   "outputs": [
    {
     "name": "stdout",
     "output_type": "stream",
     "text": [
      "Done epoch 20\r"
     ]
    }
   ],
   "source": [
    "for i in range(19):\n",
    "    senReleasesW2V_loss.train(senReleasesDF['normalized_sents'].sum(), \n",
    "                     total_examples=senReleasesW2V.corpus_count, \n",
    "                     epochs=1,\n",
    "                             )\n",
    "    losses.append(senReleasesW2V_loss.running_training_loss)\n",
    "    print(\"Done epoch {}\".format(i + 2), end = '\\r')"
   ]
  },
  {
   "cell_type": "markdown",
   "metadata": {},
   "source": [
    "Lets plot the loss vs epoch"
   ]
  },
  {
   "cell_type": "code",
   "execution_count": 40,
   "metadata": {},
   "outputs": [
    {
     "data": {
      "image/png": "[encoded data removed]",
      "text/plain": [
       "<matplotlib.figure.Figure at 0x134106978>"
      ]
     },
     "metadata": {},
     "output_type": "display_data"
    }
   ],
   "source": [
    "lossesDF = pandas.DataFrame({'loss' : losses, 'epoch' : range(len(losses))})\n",
    "lossesDF.plot(y = 'loss', x = 'epoch', logy=False, figsize=(15, 7))\n",
    "plt.show()"
   ]
  },
  {
   "cell_type": "markdown",
   "metadata": {},
   "source": [
    "You should see that the loss is almost monotonic, but that the rate decreases as epoch increases. Since we are testing on our training data monotonicity is a common result and we must try to avoid over fitting. A simple way to do this is to stop training when there is significant change in the rate of decrease. In this run, that looks to be approximately 8 or 9. If we were to do another analysis, we might use an `iter=9` instead of the default 5."
   ]
  },
  {
   "cell_type": "markdown",
   "metadata": {},
   "source": [
    "Even more culturally interesting is how many dimensions are required to achieve an optimal embedding. The use of words in complex ways and contradictory contexts will require more dimensions to represent them with integrity. For example, if one word, $w_a$, is \"nearby\" $w_b$, but $w_b$ is not near the other words beside $w_a$, then a new dimension will be required for the two words to be uniquely together. "
   ]
  },
  {
   "cell_type": "code",
   "execution_count": 41,
   "metadata": {},
   "outputs": [],
   "source": [
    "losses_dims=[]\n",
    "\n",
    "for d in [50,100,150,200,250,300,350,400,450,500, 550, 600, 650, 700, 750]:\n",
    "    senReleasesW2V_loss_dims = gensim.models.word2vec.Word2Vec(size = d, #dimensions\n",
    "                                                      alpha=0.025,\n",
    "                                                      window=5,\n",
    "                                                      min_count=5,\n",
    "                                                      hs=0,  #hierarchical softmax toggle\n",
    "                                                      compute_loss = True,\n",
    "                                                     )\n",
    "    senReleasesW2V_loss_dims.build_vocab(senReleasesDF['normalized_sents'].sum())\n",
    "    senReleasesW2V_loss_dims.train(senReleasesDF['normalized_sents'].sum(), \n",
    "                     total_examples=senReleasesW2V.corpus_count, \n",
    "                     epochs=7, #This the running_training_loss is a total so we have to do 1 epoch at a time\n",
    "                    )\n",
    "    senReleasesW2V_loss_dims.train(senReleasesDF['normalized_sents'].sum(), \n",
    "                     total_examples=senReleasesW2V.corpus_count, \n",
    "                     epochs=1, #This the running_training_loss is a total so we have to do 1 epoch at a time\n",
    "                    )\n",
    "    \n",
    "    losses_dims.append(senReleasesW2V_loss_dims.running_training_loss/(10+d*10))"
   ]
  },
  {
   "cell_type": "code",
   "execution_count": 42,
   "metadata": {},
   "outputs": [
    {
     "data": {
      "image/png": "[encoded data removed]",
      "text/plain": [
       "<matplotlib.figure.Figure at 0x134383f28>"
      ]
     },
     "metadata": {},
     "output_type": "display_data"
    }
   ],
   "source": [
    "losses_dimsDF = pandas.DataFrame({'loss' : losses_dims, 'dimensions' : [50,100,150,200,250,300,350,400,450,500,550,600,650,700,750]})\n",
    "losses_dimsDF.plot(y = 'loss', x = 'dimensions', logy=False, figsize=(15, 7))\n",
    "plt.show()"
   ]
  },
  {
   "cell_type": "markdown",
   "metadata": {},
   "source": [
    "This is a work in progress for Gensim, but its clear that most of the word distance variation is captured by 300 dimensions."
   ]
  },
  {
   "cell_type": "markdown",
   "metadata": {},
   "source": [
    "# Chinese examples"
   ]
  },
  {
   "cell_type": "code",
   "execution_count": null,
   "metadata": {},
   "outputs": [],
   "source": [
    "model=gensim.models.Word2Vec.load('../data/1992embeddings_hs_new3.sg')"
   ]
  },
  {
   "cell_type": "markdown",
   "metadata": {},
   "source": [
    "## analogy\n",
    "\n",
    "King+man-Queen? A few examples based on a corpus of Chinese news. \n",
    "\n",
    "First, location analogy: **province -> capital**"
   ]
  },
  {
   "cell_type": "code",
   "execution_count": null,
   "metadata": {},
   "outputs": [],
   "source": [
    "mm = model.most_similar(positive=[u'长沙',u'陕西'], negative=[u'湖南']) # Changsha + Shaanxi - Hunan\n",
    "for m in mm:\n",
    "    print(m[0],m[1])\n",
    "    print(\"Xi'an\")\n",
    "    break"
   ]
  },
  {
   "cell_type": "code",
   "execution_count": null,
   "metadata": {},
   "outputs": [],
   "source": [
    "mm = model.most_similar(positive=[u'广州',u'湖北'], negative=[u'广东']) # Guangzhou + Hubei - Guangdong\n",
    "for m in mm:\n",
    "    print(m[0],m[1])\n",
    "    print(\"Wuhan\")\n",
    "    break"
   ]
  },
  {
   "cell_type": "markdown",
   "metadata": {},
   "source": [
    "Second, location analogy: **country -> capital**"
   ]
  },
  {
   "cell_type": "code",
   "execution_count": null,
   "metadata": {},
   "outputs": [],
   "source": [
    "mm = model.most_similar(positive=[u'东京',u'美国'], negative=[u'日本']) # Tokyo + US - Japan\n",
    "for m in mm:\n",
    "    print(m[0],m[1])\n",
    "    print(\"(Washington DC)\")\n",
    "    break"
   ]
  },
  {
   "cell_type": "markdown",
   "metadata": {},
   "source": [
    "## similar words"
   ]
  },
  {
   "cell_type": "code",
   "execution_count": null,
   "metadata": {},
   "outputs": [],
   "source": [
    "word = u'社会主义'  #socialism\n",
    "ss = model.similar_by_word(word,topn=10)\n",
    "print(\"the most similar words to \" + word + \" is: \")\n",
    "for s in ss:\n",
    "    print(s[0])\n",
    "print(\"\")"
   ]
  },
  {
   "cell_type": "code",
   "execution_count": null,
   "metadata": {},
   "outputs": [],
   "source": [
    "word = u'玉米'  # corn\n",
    "ss = model.similar_by_word(word,topn=10)\n",
    "print(\"the most similar words to \" + word + \" is: \")\n",
    "for s in ss:\n",
    "    print(s[0])\n",
    "print(\"\")"
   ]
  },
  {
   "cell_type": "markdown",
   "metadata": {},
   "source": [
    "## <span style=\"color:red\">*Exercise 1*</span>\n",
    "\n",
    "<span style=\"color:red\">Construct cells immediately below this that build a word2vec model with your corpus. Interrogate word relationships in the resulting space, including estimating 90% confidence intervals for specific word cosine distances of interest. Plot a subset of your words. What do these word relationships reveal about the *social* and *cultural game* underlying your corpus? What was surprising--what violated your prior understanding of the corpus? What was expected--what confirmed your knowledge about this domain?"
   ]
  },
  {
   "cell_type": "code",
   "execution_count": 87,
   "metadata": {
    "collapsed": true
   },
   "outputs": [],
   "source": [
    "### Initialize ###\n",
    "\n",
    "# Read in the data\n",
    "file_path = os.path.abspath('..') + '/data/music'\n",
    "file_lst = os.listdir(file_path)[1:] # ignore the hidden file generated by the system\n",
    "\n",
    "# Write the data into dictionary\n",
    "d = {'file_name':[], 'text':[], 'music_type':[]}\n",
    "for filename in file_lst:\n",
    "    text = ''\n",
    "    music_type = ''\n",
    "    with open(file_path+'/'+filename) as f:\n",
    "        for line in f:\n",
    "            text += line.strip('\\n')\n",
    "    filename_split = filename.split() # get rid of redundant information in file names to get the music type\n",
    "    for i in range(len(filename_split)):\n",
    "        filename_split[i] = re.sub('.txt', '', filename_split[i])\n",
    "        if filename_split[i] != '–':\n",
    "            if filename_split[i] != '-':\n",
    "                if i != 0:\n",
    "                    music_type = music_type + ' ' + filename_split[i]\n",
    "                else:\n",
    "                    music_type += filename_split[i]\n",
    "            else:\n",
    "                break\n",
    "        else:\n",
    "            break\n",
    "    d['text'].append(text)\n",
    "    d['file_name'].append(filename)\n",
    "    d['music_type'].append(music_type)\n",
    "\n",
    "# Convert dictionary into Pandas DataFrame\n",
    "df = pandas.DataFrame(d)\n",
    "df['tokenized_sents'] = df['text'].apply(lambda x: [nltk.word_tokenize(s) for s in nltk.sent_tokenize(x)])\n",
    "df['normalized_sents'] = df['tokenized_sents'].apply(lambda x: [lucem_illud.normalizeTokens(s, stopwordLst = lucem_illud.stop_words_basic, stemmer = None) for s in x])"
   ]
  },
  {
   "cell_type": "code",
   "execution_count": 89,
   "metadata": {},
   "outputs": [
    {
     "name": "stdout",
     "output_type": "stream",
     "text": [
      "The most similar words to \"blues\" are: \n",
      "[('moody', 0.8137327432632446), ('piedmont', 0.8099139928817749), ('procol', 0.7821757793426514), ('swing', 0.7635641098022461), ('bluegrass', 0.7454329133033752), ('boogie', 0.7400894165039062), ('pappo', 0.7361950874328613), ('woogie', 0.7339504957199097), ('beale', 0.7281367778778076), ('jazz', 0.7268460392951965)]\n",
      "The most similar words to \"rock\" are: \n",
      "[('rockabilly', 0.7866544723510742), ('jelly', 0.7860532402992249), ('pop', 0.7789852023124695), ('ska', 0.7574852705001831), ('british', 0.756183385848999), ('daft', 0.7391339540481567), ('psychedelia', 0.7358564138412476), ('jangle', 0.7353509664535522), ('bluegrass', 0.7206286191940308), ('psychedelic', 0.7186862230300903)]\n"
     ]
    }
   ],
   "source": [
    "### word2vec ###\n",
    "musicW2V = gensim.models.word2vec.Word2Vec(df['normalized_sents'].sum())\n",
    "print('The most similar words to \"blues\" are: ')\n",
    "print(musicW2V.most_similar('blues'))\n",
    "print('The most similar words to \"rock\" are: ')\n",
    "print(musicW2V.most_similar('rock'))"
   ]
  },
  {
   "cell_type": "code",
   "execution_count": 90,
   "metadata": {},
   "outputs": [
    {
     "data": {
      "text/plain": [
       "'house'"
      ]
     },
     "execution_count": 90,
     "metadata": {},
     "output_type": "execute_result"
    }
   ],
   "source": [
    "musicW2V.doesnt_match(['blues', 'rock', 'pop', 'funk', 'house', 'country'])"
   ]
  },
  {
   "cell_type": "code",
   "execution_count": 92,
   "metadata": {},
   "outputs": [
    {
     "data": {
      "text/plain": [
       "[('section', 0.7672049403190613),\n",
       " ('saxophone', 0.7638150453567505),\n",
       " ('organ', 0.7637951374053955),\n",
       " ('horn', 0.7601348161697388),\n",
       " ('players', 0.7499992847442627),\n",
       " ('player', 0.7451947927474976),\n",
       " ('violin', 0.7325587868690491),\n",
       " ('redondo', 0.72601318359375),\n",
       " ('string', 0.7259771823883057),\n",
       " ('banjo', 0.7227973937988281)]"
      ]
     },
     "execution_count": 92,
     "metadata": {},
     "output_type": "execute_result"
    }
   ],
   "source": [
    "musicW2V.most_similar(positive=['blues', 'piano'], negative=['rock'])"
   ]
  },
  {
   "cell_type": "code",
   "execution_count": 93,
   "metadata": {},
   "outputs": [
    {
     "data": {
      "text/plain": [
       "[('politics', 0.7365646362304688),\n",
       " ('imagery', 0.7189280986785889),\n",
       " ('drug', 0.7188397645950317),\n",
       " ('positive', 0.714074432849884),\n",
       " ('fiction', 0.7046304941177368),\n",
       " ('drugs', 0.7013260126113892),\n",
       " ('viking', 0.6965447068214417),\n",
       " ('violent', 0.6931866407394409),\n",
       " ('inaccessible', 0.6878319978713989),\n",
       " ('islam', 0.686569333076477)]"
      ]
     },
     "execution_count": 93,
     "metadata": {},
     "output_type": "execute_result"
    }
   ],
   "source": [
    "musicW2V.most_similar(positive=['rock', 'violence'], negative=['blues'])"
   ]
  },
  {
   "cell_type": "code",
   "execution_count": 94,
   "metadata": {},
   "outputs": [
    {
     "name": "stdout",
     "output_type": "stream",
     "text": [
      "The 90% confidence interval for the cosine distance between war and unwinnable is:\n",
      " 0.12666166 0.43234038\n"
     ]
    }
   ],
   "source": [
    "### Confidence intervals ###\n",
    "\n",
    "# Using the cos_difference function built above, directly use bootstrap to construct the 90%\n",
    "# confidence intervals\n",
    "music_estimatesB=[]\n",
    "for x in range(20):\n",
    "    musicW2VB = gensim.models.word2vec.Word2Vec(df['normalized_sents'].sample(frac=1.0, replace=True).sum())\n",
    "    try:\n",
    "        music_estimatesB.append(cos_difference(musicW2VB, 'blues', 'orchestra')[0,0])\n",
    "    except KeyError:\n",
    "        #Missing one of the words from the vocab\n",
    "        pass\n",
    "                                                      \n",
    "music_estimatesB.sort()         \n",
    "music_estimatesB\n",
    "print(\"The 90% confidence interval for the cosine distance between war and unwinnable is:\\n\",music_estimatesB[1], music_estimatesB[-2])\n"
   ]
  },
  {
   "cell_type": "code",
   "execution_count": 95,
   "metadata": {
    "collapsed": true
   },
   "outputs": [],
   "source": [
    "### Visualization ###\n",
    "\n",
    "# Get the matrix\n",
    "music_numWords = 200\n",
    "top_music_words = musicW2V.wv.index2word[:music_numWords]\n",
    "musicSubMatrix = []\n",
    "for word in top_music_words:\n",
    "    musicSubMatrix.append(musicW2V[word])\n",
    "musicSubMatrix = np.array(musicSubMatrix)\n",
    "\n",
    "# PCA\n",
    "music_pcaWords = sklearn.decomposition.PCA(n_components = 50).fit(musicSubMatrix)\n",
    "music_reducedPCA_data = music_pcaWords.transform(musicSubMatrix)\n",
    "#T-SNE is theoretically better, but you should experiment\n",
    "music_tsneWords = sklearn.manifold.TSNE(n_components = 2, early_exaggeration = 25).fit_transform(music_reducedPCA_data)\n"
   ]
  },
  {
   "cell_type": "code",
   "execution_count": 96,
   "metadata": {},
   "outputs": [
    {
     "data": {
      "image/png": "[encoded data removed]",
      "text/plain": [
       "<matplotlib.figure.Figure at 0x12a8af4a8>"
      ]
     },
     "metadata": {},
     "output_type": "display_data"
    }
   ],
   "source": [
    "# Plot\n",
    "fig = plt.figure(figsize = (15,10))\n",
    "ax = fig.add_subplot(111)\n",
    "ax.set_frame_on(False)\n",
    "plt.scatter(music_tsneWords[:, 0], music_tsneWords[:, 1], alpha = 0)#Making the points invisible \n",
    "for i, word in enumerate(top_music_words):\n",
    "    ax.annotate(word, \n",
    "                (music_tsneWords[:, 0][i],music_tsneWords[:, 1][i]), \n",
    "                size =  20 * (music_numWords - i) / music_numWords, \n",
    "                alpha = .8 * (music_numWords - i) / music_numWords + .2)\n",
    "plt.xticks(())\n",
    "plt.yticks(())\n",
    "plt.show()"
   ]
  },
  {
   "cell_type": "markdown",
   "metadata": {},
   "source": [
    "# Doc2Vec"
   ]
  },
  {
   "cell_type": "markdown",
   "metadata": {
    "collapsed": true
   },
   "source": [
    "Instead of just looking at just how words embed within in the space, we can look at how the different documents relate to each other within the space. First lets load our data--abstracts of most U.S. physics papers from the 1950s."
   ]
  },
  {
   "cell_type": "code",
   "execution_count": 28,
   "metadata": {},
   "outputs": [
    {
     "data": {
      "text/html": [
       "<div>\n",
       "<style scoped>\n",
       "    .dataframe tbody tr th:only-of-type {\n",
       "        vertical-align: middle;\n",
       "    }\n",
       "\n",
       "    .dataframe tbody tr th {\n",
       "        vertical-align: top;\n",
       "    }\n",
       "\n",
       "    .dataframe thead th {\n",
       "        text-align: right;\n",
       "    }\n",
       "</style>\n",
       "<table border=\"1\" class=\"dataframe\">\n",
       "  <thead>\n",
       "    <tr style=\"text-align: right;\">\n",
       "      <th></th>\n",
       "      <th>copyrightYear</th>\n",
       "      <th>doi</th>\n",
       "      <th>abstract</th>\n",
       "    </tr>\n",
       "  </thead>\n",
       "  <tbody>\n",
       "    <tr>\n",
       "      <th>0</th>\n",
       "      <td>1950</td>\n",
       "      <td>10.1103/RevModPhys.22.221</td>\n",
       "      <td>A summarizing account is given of the research...</td>\n",
       "    </tr>\n",
       "    <tr>\n",
       "      <th>1</th>\n",
       "      <td>1951</td>\n",
       "      <td>10.1103/RevModPhys.23.147</td>\n",
       "      <td>New tables of coulomb functions are presented ...</td>\n",
       "    </tr>\n",
       "    <tr>\n",
       "      <th>2</th>\n",
       "      <td>1951</td>\n",
       "      <td>10.1103/RevModPhys.23.185</td>\n",
       "      <td>Ionization by electron impact in diatomic gase...</td>\n",
       "    </tr>\n",
       "    <tr>\n",
       "      <th>3</th>\n",
       "      <td>1951</td>\n",
       "      <td>10.1103/RevModPhys.23.203</td>\n",
       "      <td>It is shown that the conductivity in the ohmic...</td>\n",
       "    </tr>\n",
       "    <tr>\n",
       "      <th>4</th>\n",
       "      <td>1951</td>\n",
       "      <td>10.1103/RevModPhys.23.21</td>\n",
       "      <td>The factorization method is an operational pro...</td>\n",
       "    </tr>\n",
       "    <tr>\n",
       "      <th>5</th>\n",
       "      <td>1951</td>\n",
       "      <td>10.1103/RevModPhys.23.311</td>\n",
       "      <td>A brief account is given of Dyson's proof of t...</td>\n",
       "    </tr>\n",
       "    <tr>\n",
       "      <th>6</th>\n",
       "      <td>1951</td>\n",
       "      <td>10.1103/RevModPhys.23.315</td>\n",
       "      <td>A systematics is given of all transitions for ...</td>\n",
       "    </tr>\n",
       "    <tr>\n",
       "      <th>7</th>\n",
       "      <td>1951</td>\n",
       "      <td>10.1103/RevModPhys.23.322</td>\n",
       "      <td>A systematics of the -transitions of even A nu...</td>\n",
       "    </tr>\n",
       "    <tr>\n",
       "      <th>8</th>\n",
       "      <td>1951</td>\n",
       "      <td>10.1103/RevModPhys.23.328</td>\n",
       "      <td>The available experiments on the absorption sp...</td>\n",
       "    </tr>\n",
       "    <tr>\n",
       "      <th>9</th>\n",
       "      <td>1952</td>\n",
       "      <td>10.1103/RevModPhys.24.108</td>\n",
       "      <td>The classical theory of the dynamics of viscou...</td>\n",
       "    </tr>\n",
       "  </tbody>\n",
       "</table>\n",
       "</div>"
      ],
      "text/plain": [
       "   copyrightYear                        doi  \\\n",
       "0           1950  10.1103/RevModPhys.22.221   \n",
       "1           1951  10.1103/RevModPhys.23.147   \n",
       "2           1951  10.1103/RevModPhys.23.185   \n",
       "3           1951  10.1103/RevModPhys.23.203   \n",
       "4           1951   10.1103/RevModPhys.23.21   \n",
       "5           1951  10.1103/RevModPhys.23.311   \n",
       "6           1951  10.1103/RevModPhys.23.315   \n",
       "7           1951  10.1103/RevModPhys.23.322   \n",
       "8           1951  10.1103/RevModPhys.23.328   \n",
       "9           1952  10.1103/RevModPhys.24.108   \n",
       "\n",
       "                                            abstract  \n",
       "0  A summarizing account is given of the research...  \n",
       "1  New tables of coulomb functions are presented ...  \n",
       "2  Ionization by electron impact in diatomic gase...  \n",
       "3  It is shown that the conductivity in the ohmic...  \n",
       "4  The factorization method is an operational pro...  \n",
       "5  A brief account is given of Dyson's proof of t...  \n",
       "6  A systematics is given of all transitions for ...  \n",
       "7  A systematics of the -transitions of even A nu...  \n",
       "8  The available experiments on the absorption sp...  \n",
       "9  The classical theory of the dynamics of viscou...  "
      ]
     },
     "execution_count": 28,
     "metadata": {},
     "output_type": "execute_result"
    }
   ],
   "source": [
    "apsDF = pandas.read_csv('../data/APSabstracts1950s.csv', index_col = 0)\n",
    "apsDF[:10]"
   ]
  },
  {
   "cell_type": "markdown",
   "metadata": {},
   "source": [
    "We will load these as documents into Word2Vec, but first we need to normalize and pick some tags"
   ]
  },
  {
   "cell_type": "code",
   "execution_count": 29,
   "metadata": {
    "collapsed": true
   },
   "outputs": [],
   "source": [
    "keywords = ['photomagnetoelectric', 'quantum', 'boltzmann', 'proton', 'positron', 'feynman', 'classical', 'relativity']"
   ]
  },
  {
   "cell_type": "code",
   "execution_count": 30,
   "metadata": {
    "collapsed": true
   },
   "outputs": [],
   "source": [
    "apsDF['tokenized_words'] = apsDF['abstract'].apply(lambda x: nltk.word_tokenize(x))\n",
    "apsDF['normalized_words'] = apsDF['tokenized_words'].apply(lambda x: lucem_illud.normalizeTokens(x, stopwordLst = lucem_illud.stop_words_basic, stemmer = None))"
   ]
  },
  {
   "cell_type": "code",
   "execution_count": 53,
   "metadata": {
    "collapsed": true
   },
   "outputs": [],
   "source": [
    "taggedDocs = []\n",
    "for index, row in apsDF.iterrows():\n",
    "    #Just doing a simple keyword assignment\n",
    "    docKeywords = [s for s in keywords if s in row['normalized_words']]\n",
    "    docKeywords.append(row['copyrightYear'])\n",
    "    docKeywords.append(row['doi']) #This lets us extract individual documnets since doi's are unique\n",
    "    taggedDocs.append(gensim.models.doc2vec.LabeledSentence(words = row['normalized_words'], tags = docKeywords))\n",
    "apsDF['TaggedAbstracts'] = taggedDocs"
   ]
  },
  {
   "cell_type": "code",
   "execution_count": 56,
   "metadata": {},
   "outputs": [
    {
     "data": {
      "text/plain": [
       "LabeledSentence(words=['summarizing', 'account', 'given', 'research', 'barium', 'titanate', 'progress', 'laboratory', 'insulation', 'research', 'since', 'investigations', 'led', 'understanding', 'mechanism', 'ferroelectricity', 'titanates', 'discoveries', 'piezoelectric', 'effect', 'ceramics', 'domain', 'structure', 'single', 'crystals', 'high', 'dielectric', 'constant', 'field', 'strength', 'temperature', 'sensitivity', 'barium', 'titanate', 'dielectrics', 'make', 'useful', 'numerous', 'technical', 'applications'], tags=[1950, '10.1103/RevModPhys.22.221'])"
      ]
     },
     "execution_count": 56,
     "metadata": {},
     "output_type": "execute_result"
    }
   ],
   "source": [
    "taggedDocs[0]"
   ]
  },
  {
   "cell_type": "markdown",
   "metadata": {},
   "source": [
    "Now we can train a Doc2Vec model:"
   ]
  },
  {
   "cell_type": "code",
   "execution_count": 57,
   "metadata": {
    "collapsed": true
   },
   "outputs": [],
   "source": [
    "apsD2V = gensim.models.doc2vec.Doc2Vec(apsDF['TaggedAbstracts'], size = 100) #Limiting to 100 dimensions"
   ]
  },
  {
   "cell_type": "markdown",
   "metadata": {},
   "source": [
    "We can get vectors for the tags/documents, just as we did with words. Documents are actually the centroids (high dimensional average points) of their words. "
   ]
  },
  {
   "cell_type": "code",
   "execution_count": 58,
   "metadata": {
    "scrolled": true
   },
   "outputs": [
    {
     "data": {
      "text/plain": [
       "array([ 1.8594257 , -0.7739975 ,  0.37680265,  0.37826052,  0.32363224,\n",
       "        1.3400569 , -0.6295213 ,  0.08966756,  0.14650568,  0.12909718,\n",
       "        0.8125648 , -0.87564594,  0.7757604 , -0.91851246, -1.2932882 ,\n",
       "       -1.5216585 ,  1.1107786 ,  1.4442749 , -1.5358977 ,  1.2299138 ,\n",
       "       -0.02013158,  0.01649299, -1.8237692 , -0.63862216,  0.00783723,\n",
       "       -0.01208309,  0.37796906, -0.7878635 , -1.0897795 ,  0.8598584 ,\n",
       "        1.2703143 , -0.10664146, -0.5092184 , -0.33623463,  0.243267  ,\n",
       "        0.9582447 ,  0.213912  , -1.2864062 ,  0.30482388, -0.3091721 ,\n",
       "       -1.388112  ,  0.3843029 ,  0.07202732,  0.88460547,  0.21312237,\n",
       "       -0.64423484, -0.6138051 , -0.42688993,  0.1550391 ,  0.6684369 ,\n",
       "       -0.6765047 ,  1.0636617 ,  0.3137793 , -0.7562303 ,  0.19292597,\n",
       "        0.8358665 , -1.2889475 ,  0.21591331, -2.328253  , -0.6088732 ,\n",
       "       -0.36645675, -0.6252652 ,  1.5429512 , -1.2204201 , -0.48497775,\n",
       "       -0.69309855, -1.3925432 ,  1.2097055 ,  0.872849  , -0.19302505,\n",
       "       -0.9942917 , -1.581242  ,  0.24440044, -1.3332369 , -0.46830732,\n",
       "        0.05247773, -0.5641189 , -1.1815662 ,  0.5110991 , -0.07239704,\n",
       "       -0.37105596, -1.0586218 ,  0.9506598 , -1.3889021 ,  0.45241797,\n",
       "        0.4068512 ,  0.5056605 , -0.00904648,  0.7461316 , -0.48460433,\n",
       "       -1.9659811 , -1.3382429 ,  1.1173038 ,  1.1274256 ,  0.39949822,\n",
       "        0.9823442 , -1.1158353 , -0.07460578,  0.03997509, -0.82965994],\n",
       "      dtype=float32)"
      ]
     },
     "execution_count": 58,
     "metadata": {},
     "output_type": "execute_result"
    }
   ],
   "source": [
    "apsD2V.docvecs[1952]"
   ]
  },
  {
   "cell_type": "markdown",
   "metadata": {},
   "source": [
    "The words can still be accessed in the same way:"
   ]
  },
  {
   "cell_type": "code",
   "execution_count": 59,
   "metadata": {},
   "outputs": [
    {
     "data": {
      "text/plain": [
       "array([ 0.5412525 ,  0.07662551, -0.90148103, -0.11499042,  0.47334263,\n",
       "        1.4129065 , -0.9199912 ,  0.13484876, -0.15336329,  0.52730757,\n",
       "        0.31185246, -1.194402  ,  0.880663  , -0.5589024 ,  0.758786  ,\n",
       "       -0.20054992,  0.71679634,  0.41739288, -1.1930525 ,  0.00833476,\n",
       "       -0.05540655, -0.10165493, -0.7823759 ,  0.12909845, -0.3303593 ,\n",
       "        0.34653577,  0.8523008 , -0.900999  ,  0.3286315 ,  0.49712098,\n",
       "        0.34624428,  0.12112688, -0.08321559,  0.5727198 ,  0.57474035,\n",
       "        1.1703894 ,  1.2023859 , -0.36571297,  0.5336934 , -0.10117098,\n",
       "       -0.44765174,  0.29839772, -0.05704807,  0.4030187 ,  0.0114693 ,\n",
       "        0.37316298,  0.35670766,  0.08927923, -0.521356  ,  1.116705  ,\n",
       "       -0.3773776 ,  0.04264256, -0.74399173, -0.12861302,  0.15902637,\n",
       "        0.6563579 , -0.20302346, -0.07218857, -0.3250126 , -0.29176405,\n",
       "        0.40137556,  0.4125996 , -0.143032  , -0.12430907,  0.2542821 ,\n",
       "       -0.21388687, -0.08950678,  0.17993428, -0.5912501 , -0.31836417,\n",
       "       -0.432828  ,  0.08719257,  0.23376982, -0.92052585, -0.1392542 ,\n",
       "       -0.6521322 ,  0.8150795 , -0.31289682, -0.9202278 , -0.6183781 ,\n",
       "       -1.2650418 ,  0.981891  , -0.31106484,  0.03856493,  0.67695147,\n",
       "        0.3235188 ,  0.33270386, -0.39462847,  0.11923113, -0.2613478 ,\n",
       "       -0.5022419 , -0.90539694,  0.3305503 ,  0.25078934,  0.16600277,\n",
       "        0.5193062 , -0.16568175, -0.31961703, -0.2468808 , -0.6369895 ],\n",
       "      dtype=float32)"
      ]
     },
     "execution_count": 59,
     "metadata": {},
     "output_type": "execute_result"
    }
   ],
   "source": [
    "apsD2V['atom']"
   ]
  },
  {
   "cell_type": "markdown",
   "metadata": {},
   "source": [
    "We can still use the ``most_similar`` command to perform simple semantic equations:"
   ]
  },
  {
   "cell_type": "code",
   "execution_count": 62,
   "metadata": {},
   "outputs": [
    {
     "data": {
      "text/plain": [
       "[('predominates', 0.8078998923301697)]"
      ]
     },
     "execution_count": 62,
     "metadata": {},
     "output_type": "execute_result"
    }
   ],
   "source": [
    "apsD2V.most_similar(positive = ['atom','electrons'], negative = ['electron'], topn = 1)"
   ]
  },
  {
   "cell_type": "markdown",
   "metadata": {},
   "source": [
    "This is interesting. **Electron** is to **electrons** as **atom** is to **atoms**. Another way to understand this, developed below is: **electrons - electron** induces a singular to plural dimension, so when we subtract **electron** from **atom** and add **electrons**, we get **atoms**! "
   ]
  },
  {
   "cell_type": "code",
   "execution_count": 60,
   "metadata": {},
   "outputs": [
    {
     "data": {
      "text/plain": [
       "[('sensitively', 0.9479737877845764)]"
      ]
     },
     "execution_count": 60,
     "metadata": {},
     "output_type": "execute_result"
    }
   ],
   "source": [
    "apsD2V.most_similar(positive = ['einstein','law'], negative = ['equation'], topn = 1)"
   ]
  },
  {
   "cell_type": "markdown",
   "metadata": {},
   "source": [
    "In other words **Einstein** minus **equation** plus **law** equals **Meissner**--Walthur Meissner studied mechanical engineering and physics ... and was more likely to produce a \"law\" than a \"equation\", like the Meissner effect, the damping of the magnetic field in superconductors. If we built our word-embedding with a bigger corpus like the entire arXiv, a massive repository of physics preprints, we would see many more such relationships like **gravity - Newton + Einstein = relativity**."
   ]
  },
  {
   "cell_type": "markdown",
   "metadata": {},
   "source": [
    "We can also compute all of these *by hand*--explicitly wth vector algebra: "
   ]
  },
  {
   "cell_type": "code",
   "execution_count": 63,
   "metadata": {},
   "outputs": [
    {
     "data": {
      "text/plain": [
       "array([[0.5917598]], dtype=float32)"
      ]
     },
     "execution_count": 63,
     "metadata": {},
     "output_type": "execute_result"
    }
   ],
   "source": [
    "sklearn.metrics.pairwise.cosine_similarity(apsD2V['electron'].reshape(1,-1), apsD2V['positron'].reshape(1,-1))\n",
    "#We reorient the vectors with .reshape(1, -1) so that they can be computed without a warning in sklearn"
   ]
  },
  {
   "cell_type": "markdown",
   "metadata": {},
   "source": [
    "In the doc2vec model, the documents have vectors just as the words do, so that we can compare documents with each other and also with words (similar to how a search engine locates a webpage with a query). First, we will calculate the distance between a word and documents in the dataset:"
   ]
  },
  {
   "cell_type": "code",
   "execution_count": 64,
   "metadata": {},
   "outputs": [
    {
     "data": {
      "text/plain": [
       "[('10.1103/PhysRev.100.1646', 0.6341379880905151),\n",
       " ('10.1103/PhysRev.115.678', 0.6189965009689331),\n",
       " ('10.1103/PhysRev.112.1157', 0.6169037818908691),\n",
       " ('10.1103/PhysRev.101.1027', 0.6026870012283325),\n",
       " ('10.1103/PhysRev.115.969', 0.6025112867355347)]"
      ]
     },
     "execution_count": 64,
     "metadata": {},
     "output_type": "execute_result"
    }
   ],
   "source": [
    "apsD2V.docvecs.most_similar([ apsD2V['electron'] ], topn=5 )"
   ]
  },
  {
   "cell_type": "markdown",
   "metadata": {},
   "source": [
    "If we search for the first of these on the web (these are doi codes), we find the following...a pretty good match:\n",
    "<img src='../data/PhysRev.98.875.jpg'>"
   ]
  },
  {
   "cell_type": "markdown",
   "metadata": {},
   "source": [
    "Now let's go the other way around and find words most similar to this document:"
   ]
  },
  {
   "cell_type": "code",
   "execution_count": 65,
   "metadata": {},
   "outputs": [
    {
     "data": {
      "text/plain": [
       "[('planck', 0.781672477722168),\n",
       " ('constant', 0.7432804107666016),\n",
       " ('magnitude', 0.7307745218276978),\n",
       " ('electric', 0.715097963809967),\n",
       " ('magnetoresistive', 0.6971210241317749)]"
      ]
     },
     "execution_count": 65,
     "metadata": {},
     "output_type": "execute_result"
    }
   ],
   "source": [
    "apsD2V.most_similar( [ apsD2V.docvecs['10.1103/PhysRev.98.875'] ], topn=5) "
   ]
  },
  {
   "cell_type": "markdown",
   "metadata": {},
   "source": [
    "We can even look for documents most like a query composed of multiple words:"
   ]
  },
  {
   "cell_type": "code",
   "execution_count": 66,
   "metadata": {},
   "outputs": [
    {
     "data": {
      "text/plain": [
       "[('10.1103/PhysRev.101.1027', 0.83378005027771),\n",
       " ('10.1103/PhysRev.109.319', 0.8314207792282104),\n",
       " ('10.1103/PhysRev.115.969', 0.7989833950996399),\n",
       " ('10.1103/PhysRev.85.120', 0.7951862812042236),\n",
       " ('10.1103/PhysRev.109.1193', 0.7943792939186096)]"
      ]
     },
     "execution_count": 66,
     "metadata": {},
     "output_type": "execute_result"
    }
   ],
   "source": [
    "apsD2V.docvecs.most_similar([ apsD2V['electron']+apsD2V['positron']+apsD2V['neutron']], topn=5 )"
   ]
  },
  {
   "cell_type": "markdown",
   "metadata": {},
   "source": [
    "Now let's plot some words and documents against one another with a heatmap:"
   ]
  },
  {
   "cell_type": "code",
   "execution_count": 67,
   "metadata": {
    "collapsed": true
   },
   "outputs": [],
   "source": [
    "heatmapMatrix = []\n",
    "for tagOuter in keywords:\n",
    "    column = []\n",
    "    tagVec = apsD2V.docvecs[tagOuter].reshape(1, -1)\n",
    "    for tagInner in keywords:\n",
    "        column.append(sklearn.metrics.pairwise.cosine_similarity(tagVec, apsD2V.docvecs[tagInner].reshape(1, -1))[0][0])\n",
    "    heatmapMatrix.append(column)\n",
    "heatmapMatrix = np.array(heatmapMatrix)"
   ]
  },
  {
   "cell_type": "code",
   "execution_count": 68,
   "metadata": {},
   "outputs": [
    {
     "data": {
      "image/png": "[encoded data removed]",
      "text/plain": [
       "<matplotlib.figure.Figure at 0x1368e8f60>"
      ]
     },
     "metadata": {},
     "output_type": "display_data"
    }
   ],
   "source": [
    "fig, ax = plt.subplots()\n",
    "hmap = ax.pcolor(heatmapMatrix, cmap='terrain')\n",
    "cbar = plt.colorbar(hmap)\n",
    "\n",
    "cbar.set_label('cosine similarity', rotation=270)\n",
    "a = ax.set_xticks(np.arange(heatmapMatrix.shape[1]) + 0.5, minor=False)\n",
    "a = ax.set_yticks(np.arange(heatmapMatrix.shape[0]) + 0.5, minor=False)\n",
    "\n",
    "a = ax.set_xticklabels(keywords, minor=False, rotation=270)\n",
    "a = ax.set_yticklabels(keywords, minor=False)"
   ]
  },
  {
   "cell_type": "markdown",
   "metadata": {},
   "source": [
    "Now let's look at a heatmap of similarities between the first ten documents in the corpus:"
   ]
  },
  {
   "cell_type": "code",
   "execution_count": 69,
   "metadata": {
    "collapsed": true
   },
   "outputs": [],
   "source": [
    "targetDocs = apsDF['doi'][:10]\n",
    "\n",
    "heatmapMatrixD = []\n",
    "\n",
    "for tagOuter in targetDocs:\n",
    "    column = []\n",
    "    tagVec = apsD2V.docvecs[tagOuter].reshape(1, -1)\n",
    "    for tagInner in targetDocs:\n",
    "        column.append(sklearn.metrics.pairwise.cosine_similarity(tagVec, apsD2V.docvecs[tagInner].reshape(1, -1))[0][0])\n",
    "    heatmapMatrixD.append(column)\n",
    "heatmapMatrixD = np.array(heatmapMatrixD)"
   ]
  },
  {
   "cell_type": "code",
   "execution_count": 70,
   "metadata": {},
   "outputs": [
    {
     "data": {
      "image/png": "[encoded data removed]",
      "text/plain": [
       "<matplotlib.figure.Figure at 0x1368e84e0>"
      ]
     },
     "metadata": {},
     "output_type": "display_data"
    }
   ],
   "source": [
    "fig, ax = plt.subplots()\n",
    "hmap = ax.pcolor(heatmapMatrixD, cmap='terrain')\n",
    "cbar = plt.colorbar(hmap)\n",
    "\n",
    "cbar.set_label('cosine similarity', rotation=270)\n",
    "a = ax.set_xticks(np.arange(heatmapMatrixD.shape[1]) + 0.5, minor=False)\n",
    "a = ax.set_yticks(np.arange(heatmapMatrixD.shape[0]) + 0.5, minor=False)\n",
    "\n",
    "a = ax.set_xticklabels(targetDocs, minor=False, rotation=270)\n",
    "a = ax.set_yticklabels(targetDocs, minor=False)"
   ]
  },
  {
   "cell_type": "markdown",
   "metadata": {},
   "source": [
    "Now let's look at a heatmap of similarities between the first ten documents and our keywords:"
   ]
  },
  {
   "cell_type": "code",
   "execution_count": 71,
   "metadata": {
    "collapsed": true
   },
   "outputs": [],
   "source": [
    "heatmapMatrixC = []\n",
    "\n",
    "for tagOuter in targetDocs:\n",
    "    column = []\n",
    "    tagVec = apsD2V.docvecs[tagOuter].reshape(1, -1)\n",
    "    for tagInner in keywords:\n",
    "        column.append(sklearn.metrics.pairwise.cosine_similarity(tagVec, apsD2V.docvecs[tagInner].reshape(1, -1))[0][0])\n",
    "    heatmapMatrixC.append(column)\n",
    "heatmapMatrixC = np.array(heatmapMatrixC)"
   ]
  },
  {
   "cell_type": "code",
   "execution_count": 72,
   "metadata": {},
   "outputs": [
    {
     "data": {
      "image/png": "[encoded data removed]",
      "text/plain": [
       "<matplotlib.figure.Figure at 0x12a91d1d0>"
      ]
     },
     "metadata": {},
     "output_type": "display_data"
    }
   ],
   "source": [
    "fig, ax = plt.subplots()\n",
    "hmap = ax.pcolor(heatmapMatrixC, cmap='terrain')\n",
    "cbar = plt.colorbar(hmap)\n",
    "\n",
    "cbar.set_label('cosine similarity', rotation=270)\n",
    "a = ax.set_xticks(np.arange(heatmapMatrixC.shape[1]) + 0.5, minor=False)\n",
    "a = ax.set_yticks(np.arange(heatmapMatrixC.shape[0]) + 0.5, minor=False)\n",
    "\n",
    "a = ax.set_xticklabels(keywords, minor=False, rotation=270)\n",
    "a = ax.set_yticklabels(targetDocs, minor=False)"
   ]
  },
  {
   "cell_type": "markdown",
   "metadata": {},
   "source": [
    "We will save the model in case we would like to use it again."
   ]
  },
  {
   "cell_type": "code",
   "execution_count": 73,
   "metadata": {
    "collapsed": true
   },
   "outputs": [],
   "source": [
    "apsD2V.save('apsW2V')"
   ]
  },
  {
   "cell_type": "markdown",
   "metadata": {},
   "source": [
    "We can later load it:"
   ]
  },
  {
   "cell_type": "code",
   "execution_count": null,
   "metadata": {
    "collapsed": true
   },
   "outputs": [],
   "source": [
    "#apsD2V = gensim.models.word2vec.Word2Vec.load('data/apsW2V')"
   ]
  },
  {
   "cell_type": "markdown",
   "metadata": {},
   "source": [
    "## <span style=\"color:red\">*Exercise 2*</span>\n",
    "\n",
    "<span style=\"color:red\">Construct cells immediately below this that build a doc2vec model with your corpus. Interrogate document and word relationships in the resulting space. Construct a heatmap that plots the distances between a subset of your documents against each other, and against a set of informative words. Find distances between *every* document in your corpus and a word or query of interest. What do these doc-doc proximities reveal about your corpus? What do these word-doc proximities highlight? Demonstrate and document one reasonable way to select a defensible subset of query-relevant documents for subsequent analysis."
   ]
  },
  {
   "cell_type": "code",
   "execution_count": 97,
   "metadata": {
    "collapsed": true
   },
   "outputs": [],
   "source": [
    "# Tokenize the texts and normalize\n",
    "df['tokenized_words'] = df['text'].apply(lambda x: nltk.word_tokenize(x))\n",
    "df['normalized_words'] = df['tokenized_words'].apply(lambda x: lucem_illud.normalizeTokens(x, stopwordLst = lucem_illud.stop_words_basic, stemmer = None))"
   ]
  },
  {
   "cell_type": "code",
   "execution_count": 98,
   "metadata": {
    "collapsed": true
   },
   "outputs": [],
   "source": [
    "# Train the D2V model\n",
    "music_keywords = ['classical', 'electronic', 'folk', 'popular', 'progressive', 'psychedelic']\n",
    "music_taggedDocs = []\n",
    "for index, row in df.iterrows():\n",
    "    #Just doing a simple keyword assignment\n",
    "    docKeywords = [s for s in music_keywords if s in row['normalized_words']]\n",
    "    docKeywords.append(row['music_type'])\n",
    "    music_taggedDocs.append(gensim.models.doc2vec.LabeledSentence(words = row['normalized_words'], tags = docKeywords))\n",
    "df['TaggedAbstracts'] = music_taggedDocs"
   ]
  },
  {
   "cell_type": "code",
   "execution_count": 99,
   "metadata": {},
   "outputs": [
    {
     "data": {
      "text/plain": [
       "array([ 0.3919501 ,  0.16640414,  0.04373423,  0.04998016,  0.22048102,\n",
       "        0.18342103, -0.17842114,  0.50149024, -0.178744  , -0.08607933,\n",
       "       -0.1214857 ,  0.0248159 , -0.14496572,  0.01305074,  0.04828301,\n",
       "       -0.10294688, -0.01992345, -0.40859503, -0.09470037,  0.07471968,\n",
       "       -0.14299594, -0.19617093,  0.13513331, -0.25289997,  0.19706428,\n",
       "       -0.15958527,  0.06945921, -0.30770594,  0.03867477, -0.06438258,\n",
       "        0.06448223, -0.19646636,  0.06150475,  0.29316235,  0.0495141 ,\n",
       "        0.07278724,  0.09615459,  0.2687139 , -0.08099932, -0.04051957,\n",
       "       -0.24416599, -0.2554159 , -0.11563647,  0.05837787,  0.22937505,\n",
       "        0.42675838,  0.641232  ,  0.05732531, -0.08726847,  0.1224426 ,\n",
       "       -0.2287057 ,  0.09265485, -0.07201229, -0.10908308, -0.02871501,\n",
       "       -0.14887352,  0.14395256, -0.04367629, -0.49284062, -0.2804374 ,\n",
       "       -0.03049381,  0.07353812, -0.09107433,  0.10463557,  0.05944901,\n",
       "       -0.14591937,  0.373607  ,  0.1752543 , -0.00477857, -0.02695682,\n",
       "       -0.66422653,  0.11600067,  0.21480314,  0.09817894,  0.16027938,\n",
       "        0.2411571 ,  0.03635466,  0.15907653, -0.04783881,  0.07790831,\n",
       "        0.04149071, -0.02827205,  0.08291876,  0.05767456, -0.42951822,\n",
       "       -0.03121071,  0.12130278, -0.08235541, -0.05744348,  0.03457426,\n",
       "        0.01817455,  0.01147013, -0.15233172, -0.40252143, -0.05981462,\n",
       "       -0.22705446, -0.12559417, -0.01892656,  0.20755894, -0.01323722],\n",
       "      dtype=float32)"
      ]
     },
     "execution_count": 99,
     "metadata": {},
     "output_type": "execute_result"
    }
   ],
   "source": [
    "# Limiting to 100 dimensions\n",
    "musicD2V = gensim.models.doc2vec.Doc2Vec(df['TaggedAbstracts'], size = 100)\n",
    "musicD2V.docvecs[5]"
   ]
  },
  {
   "cell_type": "code",
   "execution_count": 101,
   "metadata": {},
   "outputs": [
    {
     "data": {
      "text/plain": [
       "[('claves', 0.8317840099334717)]"
      ]
     },
     "execution_count": 101,
     "metadata": {},
     "output_type": "execute_result"
    }
   ],
   "source": [
    "# Relationship\n",
    "musicD2V.most_similar(positive = ['blues', 'saxophone'], negative = ['rock'], topn = 1)"
   ]
  },
  {
   "cell_type": "code",
   "execution_count": 107,
   "metadata": {},
   "outputs": [
    {
     "data": {
      "text/plain": [
       "[('moombahton', 0.8168611526489258)]"
      ]
     },
     "execution_count": 107,
     "metadata": {},
     "output_type": "execute_result"
    }
   ],
   "source": [
    "musicD2V.most_similar(positive = ['rock', 'drum'], negative = ['blues'], topn = 1)"
   ]
  },
  {
   "cell_type": "code",
   "execution_count": 106,
   "metadata": {},
   "outputs": [
    {
     "data": {
      "text/plain": [
       "[('luening', 0.875085175037384)]"
      ]
     },
     "execution_count": 106,
     "metadata": {},
     "output_type": "execute_result"
    }
   ],
   "source": [
    "musicD2V.most_similar(positive = ['orchestra', 'symphony'], negative = ['rock'], topn = 1)"
   ]
  },
  {
   "cell_type": "code",
   "execution_count": null,
   "metadata": {
    "collapsed": true
   },
   "outputs": [],
   "source": [
    "# Smallest distance between a word and documents\n",
    "musicD2V.docvecs.most_similar([musicD2V['elegant'] ], topn=5 )"
   ]
  },
  {
   "cell_type": "code",
   "execution_count": null,
   "metadata": {
    "collapsed": true
   },
   "outputs": [],
   "source": [
    "musicD2V.docvecs.most_similar([musicD2V['crime'] ], topn=5 )"
   ]
  },
  {
   "cell_type": "code",
   "execution_count": null,
   "metadata": {
    "collapsed": true
   },
   "outputs": [],
   "source": [
    "musicD2V.docvecs.most_similar([musicD2V['party'] ], topn=5 )"
   ]
  },
  {
   "cell_type": "code",
   "execution_count": null,
   "metadata": {
    "collapsed": true
   },
   "outputs": [],
   "source": [
    "### Heatmap between key words\n",
    "## Data to plot\n",
    "WWheatmapMatrix = []\n",
    "for tagOuter in music_keywords:\n",
    "    column = []\n",
    "    tagVec = musicD2V.docvecs[tagOuter].reshape(1, -1)\n",
    "    for tagInner in music_keywords:\n",
    "        column.append(sklearn.metrics.pairwise.cosine_similarity(tagVec, musicD2V.docvecs[tagInner].reshape(1, -1))[0][0])\n",
    "    WWheatmapMatrix.append(column)\n",
    "WWheatmapMatrix = np.array(WWheatmapMatrix)"
   ]
  },
  {
   "cell_type": "code",
   "execution_count": null,
   "metadata": {
    "collapsed": true
   },
   "outputs": [],
   "source": [
    "## Plot\n",
    "fig, ax = plt.subplots()\n",
    "music_hmap = ax.pcolor(WWheatmapMatrix, cmap='terrain')\n",
    "cbar = plt.colorbar(music_hmap)\n",
    "# lable and axis\n",
    "cbar.set_label('cosine similarity', rotation=270)\n",
    "a = ax.set_xticks(np.arange(WWheatmapMatrix.shape[1]) + 0.5, minor=False)\n",
    "a = ax.set_yticks(np.arange(WWheatmapMatrix.shape[0]) + 0.5, minor=False)\n",
    "a = ax.set_xticklabels(music_keywords, minor=False, rotation=270)\n",
    "a = ax.set_yticklabels(music_keywords, minor=False)\n",
    "plt.show()"
   ]
  },
  {
   "cell_type": "code",
   "execution_count": null,
   "metadata": {
    "collapsed": true
   },
   "outputs": [],
   "source": [
    "### A subset of documents against each other\n",
    "## Data to plot\n",
    "music_targetDocs = df['music_type'][:10]\n",
    "music_heatmapMatrixD = []\n",
    "for tagOuter in music_targetDocs:\n",
    "    column = []\n",
    "    tagVec = musicD2V.docvecs[tagOuter].reshape(1, -1)\n",
    "    for tagInner in music_targetDocs:\n",
    "        column.append(sklearn.metrics.pairwise.cosine_similarity(tagVec, musicD2V.docvecs[tagInner].reshape(1, -1))[0][0])\n",
    "    music_heatmapMatrixD.append(column)\n",
    "music_heatmapMatrixD = np.array(music_heatmapMatrixD)"
   ]
  },
  {
   "cell_type": "code",
   "execution_count": null,
   "metadata": {
    "collapsed": true
   },
   "outputs": [],
   "source": [
    "## Plot\n",
    "fig, ax = plt.subplots()\n",
    "music_hmap1 = ax.pcolor(music_heatmapMatrixD, cmap='terrain')\n",
    "cbar = plt.colorbar(music_hmap1)\n",
    "# lables and axis\n",
    "cbar.set_label('cosine similarity', rotation=270)\n",
    "a = ax.set_xticks(np.arange(music_heatmapMatrixD.shape[1]) + 0.5, minor=False)\n",
    "a = ax.set_yticks(np.arange(music_heatmapMatrixD.shape[0]) + 0.5, minor=False)\n",
    "a = ax.set_xticklabels(music_targetDocs, minor=False, rotation=270)\n",
    "a = ax.set_yticklabels(music_targetDocs, minor=False)"
   ]
  },
  {
   "cell_type": "code",
   "execution_count": null,
   "metadata": {
    "collapsed": true
   },
   "outputs": [],
   "source": [
    "### A subset of documents and key words against each other\n",
    "## Data to plot\n",
    "music_heatmapMatrixC = []\n",
    "for tagOuter in music_targetDocs:\n",
    "    column = []\n",
    "    tagVec = musicD2V.docvecs[tagOuter].reshape(1, -1)\n",
    "    for tagInner in music_keywords:\n",
    "        column.append(sklearn.metrics.pairwise.cosine_similarity(tagVec, musicD2V.docvecs[tagInner].reshape(1, -1))[0][0])\n",
    "    music_heatmapMatrixC.append(column)\n",
    "music_heatmapMatrixC = np.array(music_heatmapMatrixC)"
   ]
  },
  {
   "cell_type": "code",
   "execution_count": null,
   "metadata": {
    "collapsed": true
   },
   "outputs": [],
   "source": [
    "## Plot\n",
    "fig, ax = plt.subplots()\n",
    "music_hmap2 = ax.pcolor(music_heatmapMatrixC, cmap='terrain')\n",
    "cbar = plt.colorbar(music_hmap2)\n",
    "# lables and axis\n",
    "cbar.set_label('cosine similarity', rotation=270)\n",
    "a = ax.set_xticks(np.arange(music_heatmapMatrixC.shape[1]) + 0.5, minor=False)\n",
    "a = ax.set_yticks(np.arange(music_heatmapMatrixC.shape[0]) + 0.5, minor=False)\n",
    "a = ax.set_xticklabels(music_keywords, minor=False, rotation=270)\n",
    "a = ax.set_yticklabels(music_targetDocs, minor=False)"
   ]
  },
  {
   "cell_type": "code",
   "execution_count": null,
   "metadata": {
    "collapsed": true
   },
   "outputs": [],
   "source": [
    "### Find distances between every document in your corpus and a word or query of interest\n",
    "# Document most like the query\n",
    "musicD2V.docvecs.most_similar([ musicD2V['crime']+musicD2V['alcohol']+musicD2V['marijuana']], topn=5 )"
   ]
  },
  {
   "cell_type": "code",
   "execution_count": null,
   "metadata": {
    "collapsed": true
   },
   "outputs": [],
   "source": [
    "musicD2V.docvecs.most_similar([ musicD2V['guitar']+musicD2V['piano']], topn=5 )"
   ]
  },
  {
   "cell_type": "code",
   "execution_count": null,
   "metadata": {
    "collapsed": true
   },
   "outputs": [],
   "source": []
  },
  {
   "cell_type": "markdown",
   "metadata": {},
   "source": [
    "# Projection"
   ]
  },
  {
   "cell_type": "markdown",
   "metadata": {},
   "source": [
    "We can also project word vectors to an arbitray semantic dimension. To demonstrate this possibility, let's first load a model trained with New York Times news articles. "
   ]
  },
  {
   "cell_type": "code",
   "execution_count": null,
   "metadata": {
    "collapsed": true
   },
   "outputs": [],
   "source": [
    "nytimes_model = gensim.models.KeyedVectors.load_word2vec_format('../data/nytimes_cbow.reduced.txt')"
   ]
  },
  {
   "cell_type": "markdown",
   "metadata": {},
   "source": [
    "First we can visualize with dimension reduction"
   ]
  },
  {
   "cell_type": "code",
   "execution_count": null,
   "metadata": {},
   "outputs": [],
   "source": [
    "#words to create dimensions\n",
    "tnytTargetWords = ['man','him','he', 'woman', 'her', 'she', 'black','blacks','African', 'white', 'whites', 'Caucasian', 'rich', 'richer', 'richest', 'expensive', 'wealthy', 'poor', 'poorer', 'poorest', 'cheap', 'inexpensive']\n",
    "#words we will be mapping\n",
    "tnytTargetWords += [\"doctor\",\"lawyer\",\"plumber\",\"scientist\",\"hairdresser\", \"nanny\",\"carpenter\",\"entrepreneur\",\"musician\",\"writer\", \"banker\",\"poet\",\"nurse\", \"steak\", \"bacon\", \"croissant\", \"cheesecake\", \"salad\", \"cheeseburger\", \"vegetables\", \"beer\", \"wine\", \"pastry\", \"basketball\", \"baseball\", \"boxing\", \"softball\", \"volleyball\", \"tennis\", \"golf\", \"hockey\", \"soccer\"]\n",
    "\n",
    "\n",
    "wordsSubMatrix = []\n",
    "for word in tnytTargetWords:\n",
    "    wordsSubMatrix.append(nytimes_model[word])\n",
    "wordsSubMatrix = np.array(wordsSubMatrix)\n",
    "wordsSubMatrix"
   ]
  },
  {
   "cell_type": "code",
   "execution_count": null,
   "metadata": {
    "collapsed": true
   },
   "outputs": [],
   "source": [
    "pcaWordsNYT = sklearn.decomposition.PCA(n_components = 50).fit(wordsSubMatrix)\n",
    "reducedPCA_dataNYT = pcaWordsNYT.transform(wordsSubMatrix)\n",
    "#T-SNE is theoretically better, but you should experiment\n",
    "tsneWordsNYT = sklearn.manifold.TSNE(n_components = 2).fit_transform(reducedPCA_dataNYT)"
   ]
  },
  {
   "cell_type": "code",
   "execution_count": null,
   "metadata": {},
   "outputs": [],
   "source": [
    "fig = plt.figure(figsize = (10,6))\n",
    "ax = fig.add_subplot(111)\n",
    "ax.set_frame_on(False)\n",
    "plt.scatter(tsneWordsNYT[:, 0], tsneWordsNYT[:, 1], alpha = 0) #Making the points invisible\n",
    "for i, word in enumerate(tnytTargetWords):\n",
    "    ax.annotate(word, (tsneWordsNYT[:, 0][i],tsneWordsNYT[:, 1][i]), size =  20 * (len(tnytTargetWords) - i) / len(tnytTargetWords))\n",
    "plt.xticks(())\n",
    "plt.yticks(())\n",
    "plt.show()"
   ]
  },
  {
   "cell_type": "markdown",
   "metadata": {},
   "source": [
    "Define some convenient functions for getting dimensions. "
   ]
  },
  {
   "cell_type": "code",
   "execution_count": null,
   "metadata": {
    "collapsed": true
   },
   "outputs": [],
   "source": [
    "def normalize(vector):\n",
    "    normalized_vector = vector / np.linalg.norm(vector)\n",
    "    return normalized_vector\n",
    "\n",
    "def dimension(model, positives, negatives):\n",
    "    diff = sum([normalize(model[x]) for x in positives]) - sum([normalize(model[y]) for y in negatives])\n",
    "    return diff"
   ]
  },
  {
   "cell_type": "markdown",
   "metadata": {},
   "source": [
    "Let's calculate three dimensions: gender, race, and class."
   ]
  },
  {
   "cell_type": "code",
   "execution_count": null,
   "metadata": {
    "collapsed": true
   },
   "outputs": [],
   "source": [
    "Gender = dimension(nytimes_model, ['man','him','he'], ['woman', 'her', 'she'])\n",
    "Race = dimension(nytimes_model, ['black','blacks','African'], ['white', 'whites', 'Caucasian'])\n",
    "Class = dimension(nytimes_model, ['rich', 'richer', 'richest', 'expensive', 'wealthy'], ['poor', 'poorer', 'poorest', 'cheap', 'inexpensive'])"
   ]
  },
  {
   "cell_type": "markdown",
   "metadata": {},
   "source": [
    "Here we have some words."
   ]
  },
  {
   "cell_type": "code",
   "execution_count": null,
   "metadata": {
    "collapsed": true
   },
   "outputs": [],
   "source": [
    "Occupations = [\"doctor\",\"lawyer\",\"plumber\",\"scientist\",\"hairdresser\", \"nanny\",\"carpenter\",\"entrepreneur\",\"musician\",\"writer\", \"banker\",\"poet\",\"nurse\"]\n",
    "\n",
    "Foods = [\"steak\", \"bacon\", \"croissant\", \"cheesecake\", \"salad\", \"cheeseburger\", \"vegetables\", \"beer\", \"wine\", \"pastry\"]\n",
    "\n",
    "Sports  = [\"basketball\", \"baseball\", \"boxing\", \"softball\", \"volleyball\", \"tennis\", \"golf\", \"hockey\", \"soccer\"]"
   ]
  },
  {
   "cell_type": "markdown",
   "metadata": {},
   "source": [
    "Define a function to project words in a word list to each of the three dimensions."
   ]
  },
  {
   "cell_type": "code",
   "execution_count": null,
   "metadata": {
    "collapsed": true
   },
   "outputs": [],
   "source": [
    "def makeDF(model, word_list):\n",
    "    g = []\n",
    "    r = []\n",
    "    c = []\n",
    "    for word in word_list:\n",
    "        g.append(sklearn.metrics.pairwise.cosine_similarity(nytimes_model[word].reshape(1,-1), Gender.reshape(1,-1))[0][0])\n",
    "        r.append(sklearn.metrics.pairwise.cosine_similarity(nytimes_model[word].reshape(1,-1), Race.reshape(1,-1))[0][0])\n",
    "        c.append(sklearn.metrics.pairwise.cosine_similarity(nytimes_model[word].reshape(1,-1), Class.reshape(1,-1))[0][0])\n",
    "    df = pandas.DataFrame({'gender': g, 'race': r, 'class': c}, index = word_list)\n",
    "    return df"
   ]
  },
  {
   "cell_type": "markdown",
   "metadata": {},
   "source": [
    "Get the projections."
   ]
  },
  {
   "cell_type": "code",
   "execution_count": null,
   "metadata": {
    "collapsed": true
   },
   "outputs": [],
   "source": [
    "OCCdf = makeDF(nytimes_model, Occupations) \n",
    "Fooddf = makeDF(nytimes_model, Foods)\n",
    "Sportsdf = makeDF(nytimes_model, Sports)"
   ]
  },
  {
   "cell_type": "markdown",
   "metadata": {},
   "source": [
    "Define some useful functions for plotting."
   ]
  },
  {
   "cell_type": "code",
   "execution_count": null,
   "metadata": {
    "collapsed": true
   },
   "outputs": [],
   "source": [
    "def Coloring(Series):\n",
    "    x = Series.values\n",
    "    y = x-x.min()\n",
    "    z = y/y.max()\n",
    "    c = list(plt.cm.rainbow(z))\n",
    "    return c\n",
    "\n",
    "def PlotDimension(ax,df, dim):\n",
    "    ax.set_frame_on(False)\n",
    "    ax.set_title(dim, fontsize = 20)\n",
    "    colors = Coloring(df[dim])\n",
    "    for i, word in enumerate(df.index):\n",
    "        ax.annotate(word, (0, df[dim][i]), color = colors[i], alpha = 0.6, fontsize = 12)\n",
    "    MaxY = df[dim].max()\n",
    "    MinY = df[dim].min()\n",
    "    plt.ylim(MinY,MaxY)\n",
    "    plt.yticks(())\n",
    "    plt.xticks(())"
   ]
  },
  {
   "cell_type": "markdown",
   "metadata": {},
   "source": [
    "Plot the occupational words in each of the three dimensions."
   ]
  },
  {
   "cell_type": "code",
   "execution_count": null,
   "metadata": {
    "scrolled": true
   },
   "outputs": [],
   "source": [
    "fig = plt.figure(figsize = (12,4))\n",
    "ax1 = fig.add_subplot(131)\n",
    "PlotDimension(ax1, OCCdf, 'gender')\n",
    "ax2 = fig.add_subplot(132)\n",
    "PlotDimension(ax2, OCCdf, 'race')\n",
    "ax3 = fig.add_subplot(133)\n",
    "PlotDimension(ax3, OCCdf, 'class')\n",
    "plt.show()"
   ]
  },
  {
   "cell_type": "markdown",
   "metadata": {},
   "source": [
    "Foods:"
   ]
  },
  {
   "cell_type": "code",
   "execution_count": null,
   "metadata": {},
   "outputs": [],
   "source": [
    "fig = plt.figure(figsize = (12,4))\n",
    "ax1 = fig.add_subplot(131)\n",
    "PlotDimension(ax1, Fooddf, 'gender')\n",
    "ax2 = fig.add_subplot(132)\n",
    "PlotDimension(ax2, Fooddf, 'race')\n",
    "ax3 = fig.add_subplot(133)\n",
    "PlotDimension(ax3, Fooddf, 'class')\n",
    "plt.show()"
   ]
  },
  {
   "cell_type": "markdown",
   "metadata": {},
   "source": [
    "Sports:"
   ]
  },
  {
   "cell_type": "code",
   "execution_count": null,
   "metadata": {},
   "outputs": [],
   "source": [
    "fig = plt.figure(figsize = (12,4))\n",
    "ax1 = fig.add_subplot(131)\n",
    "PlotDimension(ax1, Sportsdf, 'gender')\n",
    "ax2 = fig.add_subplot(132)\n",
    "PlotDimension(ax2, Sportsdf, 'race')\n",
    "ax3 = fig.add_subplot(133)\n",
    "PlotDimension(ax3, Sportsdf, 'class')\n",
    "plt.show()"
   ]
  },
  {
   "cell_type": "markdown",
   "metadata": {},
   "source": [
    "## <span style=\"color:red\">*Exercise 3*</span>\n",
    "\n",
    "<span style=\"color:red\">Construct cells immediately below this that identify semantic dimensions of interest from your data (e.g., gender: man-woman) and project words onto these dimensions. Plot the array of relevant words along each semantic dimension. Which words are most different. Which dimensions are most different? On which dimension are your words most different? Print three short textual examples from the corpus that illustrate the association you have explored.\n",
    "\n",
    "<span style=\"color:red\">***Stretch***: Project documents from your corpus along a dimension of interest. Sample relevant documents from your corpus with this functionality and explain your rationale? Calculate the cosine of the angle between two dimensions (encoded as vectors) of interest. What does this suggest about the relationship between them within your corpus? \n",
    "\n",
    "<span style=\"color:red\">***Stretch***: Create 90% bootstrap confidence intervals around your word projections onto a given dimension. Which words are *significantly* different on your semantic dimension of interest?"
   ]
  },
  {
   "cell_type": "code",
   "execution_count": null,
   "metadata": {
    "collapsed": true
   },
   "outputs": [],
   "source": []
  }
 ],
 "metadata": {
  "anaconda-cloud": {},
  "kernelspec": {
   "display_name": "Python 3",
   "language": "python",
   "name": "python3"
  },
  "language_info": {
   "codemirror_mode": {
    "name": "ipython",
    "version": 3
   },
   "file_extension": ".py",
   "mimetype": "text/x-python",
   "name": "python",
   "nbconvert_exporter": "python",
   "pygments_lexer": "ipython3",
   "version": "3.6.3"
  }
 },
 "nbformat": 4,
 "nbformat_minor": 1
}
