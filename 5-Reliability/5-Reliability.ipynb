{
 "cells": [
  {
   "cell_type": "markdown",
   "metadata": {},
   "source": [
    "# Week 5 - Sampling & Reliability\n",
    "\n",
    "Up until this week, we have assumed that the corpus you have used for analysis assignments represented a *meaningful* assemblage of texts from which reasonable inferences could be drawn about the social game, social world and social actors that produced it. This week, we ask you to articulate what your sample represents in context of your final project, and draw upon methods we have developed over the last three weeks to draw reasonable and representative samples. \n",
    "\n",
    "This week we also pivot from our recent work on unsupervized machine learning approaches to explore how we can get *human* readings of content at scale. We want to gather and utilize human responses for several reasons. First, we may want to use crowdsourced human scores as the primary method of coding, extracting or organizing content (as it was in the two of the assigned readings). Second, we may want to validate or tune a computational algorithm we may have developed in terms of how it is associated with human meanings or experience. Finally, we may want to use human coding on a sample of data as the basis for training a model or algorithm to then extrapolate *human-like* annotations to the entire population. Here intelligent sampling is critical to maximize effective maching training. \n",
    "\n",
    "For this notebook we will be using the following packages"
   ]
  },
  {
   "cell_type": "code",
   "execution_count": 1,
   "metadata": {
    "collapsed": true
   },
   "outputs": [],
   "source": [
    "#Special module written for this class\n",
    "#This provides access to data and to helper functions from previous weeks\n",
    "#Make sure you update it before starting this notebook\n",
    "import lucem_illud #pip install -U git+git://github.com/Computational-Content-Analysis-2018/lucem_illud.git\n",
    "\n",
    "#All these packages need to be installed from pip\n",
    "import numpy as np #For arrays\n",
    "import scipy as sp #For some stats\n",
    "import pandas #Gives us DataFrames\n",
    "import matplotlib.pyplot as plt #For graphics\n",
    "import seaborn #Makes the graphics look nicer\n",
    "import pyanno #On python3 make sure to pip install pyanno3\n",
    "\n",
    "#We need to import these this way due to how pyanno is setup\n",
    "from pyanno.measures import pairwise_matrix, agreement, cohens_kappa, cohens_weighted_kappa, fleiss_kappa, krippendorffs_alpha, pearsons_rho, scotts_pi, spearmans_rho\n",
    "from pyanno.annotations import AnnotationsContainer\n",
    "from pyanno.models import ModelA, ModelBt, ModelB\n",
    "\n",
    "from functools import reduce\n",
    "from itertools import permutations\n",
    "import math\n",
    "\n",
    "\n",
    "#This 'magic' command makes the plots work better\n",
    "#in the notebook, don't use it outside of a notebook.\n",
    "#Also you can ignore the warning\n",
    "%matplotlib inline\n",
    "\n",
    "import os #For looking through files\n",
    "import os.path #For managing file paths"
   ]
  },
  {
   "cell_type": "markdown",
   "metadata": {},
   "source": [
    "## <span style=\"color:red\">*Pitch Your Project*</span>\n",
    "\n",
    "<span style=\"color:red\">In the three cells immediately following, describe **WHAT** you are planning to analyze for your final project (i.e., texts, contexts and the social game, world and actors you intend to learn about through your analysis) (<200 words), **WHY** you are going to do it (i.e., why would theory and/or the average person benefit from knowing the results of your investigation) (<200 words), and **HOW** you plan to investigate it (i.e., what are the approaches and operations you plan to perform, in sequence, to yield this insight) (<400 words)."
   ]
  },
  {
   "cell_type": "markdown",
   "metadata": {},
   "source": [
    "## ***What?*** \n",
    "<200 words"
   ]
  },
  {
   "cell_type": "markdown",
   "metadata": {},
   "source": [
    "<span style=\"color:blue\"> I am working with my teammate Oscar and Hyunku on transcripts of soap operas. We would scrape transcripts of 11 soap operas, approximately 30,000 episodes in total, to support this project. We aim to analyze social interaction within and between genders, on the basis of dialogs in the soap opera. In detail, we want to know men's reaction to women's talk, women's reaction to men's talk, men's reaction to men's talk, and women's reaction to men's talk. Since that website contains transcripts of the same soap operas along several years, we would also analyze the dynamics of the interactions, which is very likely to reflect changes of the real world. We would also compare topics of dialogs within and between genders, and look at the changes along these years.</span>"
   ]
  },
  {
   "cell_type": "markdown",
   "metadata": {},
   "source": [
    "## ***Why?***\n",
    "<200 words"
   ]
  },
  {
   "cell_type": "markdown",
   "metadata": {},
   "source": [
    "<span style=\"color:blue\"> This project would help both academia and average people by developing better understanding of the interaction within and between genders. Compared to research with traditional methods, this project could easily keep track of dynamics of the relationship. In addition, this project allows us to capture various possible patterns, without the constraints set by many other forms of data collection.</span>"
   ]
  },
  {
   "cell_type": "markdown",
   "metadata": {},
   "source": [
    "## ***How?***\n",
    "<400 words"
   ]
  },
  {
   "cell_type": "markdown",
   "metadata": {},
   "source": [
    "<span style=\"color:blue\"> The transcripts are posted on a website \"http://tvmegasite.net\". We first construct programs to scrape the transcripts from it, which is already in processing. I first construct a program to scrape all the urls of the webpages posting the transcripts, with each webpage posting a single episode. And the total quantity of episodes is 29994. I've also construct a program to scrape transcripts. By now, I've scraped transcripts of 2 soap operas, approximately 100 MB.</span>"
   ]
  },
  {
   "cell_type": "markdown",
   "metadata": {},
   "source": [
    "<span style=\"color:blue\"> By now, we plan to use topic modeling, word embedding, clustering, and MTurk for the analysis. One problem of the transcripts is that they contains many names of people. If there is no existing package to distinguish men's names and women's names, we would use MTurk to ask the workders to do the distinguishment. We would use clustering methods to get the structure of the texts. Since we want to analyze the interactions, we would use word embedding methods to get the similarities among words, scenes (dialogs), or episodes (since we haven't decided what level we should start with). And we would use topic modeling to get the topics of our research unit.</span>"
   ]
  },
  {
   "cell_type": "markdown",
   "metadata": {},
   "source": [
    "## <span style=\"color:red\">*Pitch Your Sample*</span>\n",
    "\n",
    "<span style=\"color:red\">In the cell immediately following, describe the rationale behind your proposed sample design for your final project. What is the social game, social work, or social actors you about whom you are seeking to make inferences? What are its virtues with respect to your research questions? What are its limitations? What are alternatives? What would be a reasonable path to \"scale up\" your sample for further analysis (i.e., high-profile publication)? (<200 words)."
   ]
  },
  {
   "cell_type": "markdown",
   "metadata": {},
   "source": [
    "### What is the social game, social work, or social actors about whom you are seeking to make inferences?"
   ]
  },
  {
   "cell_type": "markdown",
   "metadata": {},
   "source": [
    "<span style=\"color:blue\"> The social game is the interaction within and between genders. Since the soap operas are made and played in US, they could reflect phenomena in US society. So the social actors of our interest is general men and women within US society.</span>"
   ]
  },
  {
   "cell_type": "markdown",
   "metadata": {},
   "source": [
    "### What are its virtues with respect to your research questions?"
   ]
  },
  {
   "cell_type": "markdown",
   "metadata": {},
   "source": [
    "<span style=\"color:blue\"> Dialogs in the soap operas could be a good material to capture the interaction within and between genders, and their perspectives on themselves and each other. In addidion, many soap operas in our corpus are made and played for many years, which allows us to trace back to, like, 10 years ago, to captures the dynamics of the interaction and perspectives.</span>"
   ]
  },
  {
   "cell_type": "markdown",
   "metadata": {},
   "source": [
    "### What are its limitations? What are alternatives?"
   ]
  },
  {
   "cell_type": "markdown",
   "metadata": {},
   "source": [
    "<span style=\"color:blue\"> The limitation is that soap opera is not the real world, although they reflect the real world. One alternative is to analyze interaction in the real world, by recording interaction among people, but the process for data collection is both resource-demanding and time-demanding.</span>"
   ]
  },
  {
   "cell_type": "markdown",
   "metadata": {},
   "source": [
    "### What would be a reasonable path to \"scale up\" your sample for further analysis (i.e., high-profile publication)?"
   ]
  },
  {
   "cell_type": "markdown",
   "metadata": {},
   "source": [
    "<span style=\"color:blue\"> Expand our resources of transcripts, to include soap operas of various types.</span>"
   ]
  },
  {
   "cell_type": "markdown",
   "metadata": {},
   "source": [
    "## ***Which (words)?***\n",
    "<300 words"
   ]
  },
  {
   "cell_type": "markdown",
   "metadata": {},
   "source": [
    "<span style=\"color:blue\"> The meaning of this question is very vague. I guess it asks which words we are planning to emphasize in analysis. We're looking for agreement/disagreement, attitudes, and these in different contexts (e.g. at home, at work, at social occasions). I have been already working on the data scraping and analytical work. Please see our github repo (https://github.com/gloriawu331/content_analysis_project) for our current stages, and see the sample approaches below \"Exercise 1\" to look at what analytical approaches I'm planning to do. Details are in discussion.</span>"
   ]
  },
  {
   "cell_type": "markdown",
   "metadata": {},
   "source": [
    "## <span style=\"color:red\">*Exercise 1*</span>\n",
    "\n",
    "<span style=\"color:red\">In the cells immediately following, demonstrate three approaches drawn from any of the last three weeks to create subsamples of your corpus (e.g., for crowd-sourced subcoding like we'll be doing this week). Methods of subsampling include (a) corpus linguistic approaches drawing on word presence or co-presence, conditional frequencies, weighted words (e.g., tf.idf), KL or JS divergences, etc.; (b) hierarchical or flat clustering approaches; (c) topic modeling; or (d) word-embedding. (<200 words)."
   ]
  },
  {
   "cell_type": "markdown",
   "metadata": {},
   "source": [
    "<span style=\"color:blue\"> If we get subsamples from our corpus, we could analyze the differences among different contexts. To use the methods we learned in the past weeks, we plan to apply (b), (c), and (d) on our data. We could use flat clustering technique to get clusters of the episodes, then explore the interaction within and between men and women in each cluster. We could also use topic modeling to get the main topics of the episodes, to reduce the dimension. And within each topic, we could look at how men and women interact with each other, and whether there is any difference among different topics. And we could use the word-embedding to explore how men and women look at themselves, each other, and a series of concepts/items.</span>"
   ]
  },
  {
   "cell_type": "markdown",
   "metadata": {},
   "source": [
    "## Sample Approaches"
   ]
  },
  {
   "cell_type": "markdown",
   "metadata": {},
   "source": [
    "### Initialize: Get the Data"
   ]
  },
  {
   "cell_type": "code",
   "execution_count": 59,
   "metadata": {
    "collapsed": true
   },
   "outputs": [],
   "source": [
    "# Read in sample data: transcripts of the soap opera All My Children\n",
    "d = {'filename':[], 'text':[]}\n",
    "dir_amc = '/Users/hsswyx/Desktop/content_analysis/content_analysis_project/data/amc'\n",
    "year_lst = os.listdir(dir_amc) [1:]\n",
    "for i in range(len(year_lst)):\n",
    "    episodes = os.listdir(dir_amc+'/'+year_lst[i])\n",
    "    for j in range(len(episodes)):\n",
    "        file_name = year_lst[i]+'/'+episodes[j]\n",
    "        temp_text = ''\n",
    "        with open(dir_amc+'/'+file_name) as f:\n",
    "            for line in f:\n",
    "                temp_text += line.replace('\\n', ' ')\n",
    "        d['filename'].append(file_name)\n",
    "        d['text'].append(temp_text)\n",
    "\n",
    "# Write data into Pandas DataFrame\n",
    "amcDF = pandas.DataFrame(d)"
   ]
  },
  {
   "cell_type": "code",
   "execution_count": 68,
   "metadata": {},
   "outputs": [
    {
     "data": {
      "text/html": [
       "<div>\n",
       "<style scoped>\n",
       "    .dataframe tbody tr th:only-of-type {\n",
       "        vertical-align: middle;\n",
       "    }\n",
       "\n",
       "    .dataframe tbody tr th {\n",
       "        vertical-align: top;\n",
       "    }\n",
       "\n",
       "    .dataframe thead th {\n",
       "        text-align: right;\n",
       "    }\n",
       "</style>\n",
       "<table border=\"1\" class=\"dataframe\">\n",
       "  <thead>\n",
       "    <tr style=\"text-align: right;\">\n",
       "      <th></th>\n",
       "      <th>filename</th>\n",
       "      <th>text</th>\n",
       "      <th>kmeans_predictions</th>\n",
       "      <th>tokenized_text</th>\n",
       "      <th>normalized_tokens</th>\n",
       "      <th>reduced_tokens</th>\n",
       "    </tr>\n",
       "  </thead>\n",
       "  <tbody>\n",
       "    <tr>\n",
       "      <th>0</th>\n",
       "      <td>1998/02-14-84.txt</td>\n",
       "      <td>All My Children Transcript Tuesday 2/14/84    ...</td>\n",
       "      <td>3</td>\n",
       "      <td>[All, My, Children, Transcript, Tuesday, 2/14/...</td>\n",
       "      <td>[children, transcript, tuesday, pleas, click, ...</td>\n",
       "      <td>[children, transcript, tuesday, pleas, click, ...</td>\n",
       "    </tr>\n",
       "    <tr>\n",
       "      <th>1</th>\n",
       "      <td>1998/03-04-93.txt</td>\n",
       "      <td>All My Children Transcript Thursday 3/4/93    ...</td>\n",
       "      <td>3</td>\n",
       "      <td>[All, My, Children, Transcript, Thursday, 3/4/...</td>\n",
       "      <td>[children, transcript, thursday, pleas, click,...</td>\n",
       "      <td>[children, transcript, thursday, pleas, click,...</td>\n",
       "    </tr>\n",
       "    <tr>\n",
       "      <th>2</th>\n",
       "      <td>1998/06-04-98.txt</td>\n",
       "      <td>All My Children Transcript Thursday 6/4/98 Pro...</td>\n",
       "      <td>2</td>\n",
       "      <td>[All, My, Children, Transcript, Thursday, 6/4/...</td>\n",
       "      <td>[children, transcript, thursday, provid, suzan...</td>\n",
       "      <td>[children, transcript, thursday, suzann, hayle...</td>\n",
       "    </tr>\n",
       "    <tr>\n",
       "      <th>3</th>\n",
       "      <td>1998/07-07-98.txt</td>\n",
       "      <td>All My Children Transcript Tuesday 7/7/98 Prov...</td>\n",
       "      <td>2</td>\n",
       "      <td>[All, My, Children, Transcript, Tuesday, 7/7/9...</td>\n",
       "      <td>[children, transcript, tuesday, provid, suzann...</td>\n",
       "      <td>[children, transcript, tuesday, suzann, proofr...</td>\n",
       "    </tr>\n",
       "    <tr>\n",
       "      <th>4</th>\n",
       "      <td>1998/09-03-80.txt</td>\n",
       "      <td>All My Children Transcript Wednesday 9/3/80   ...</td>\n",
       "      <td>3</td>\n",
       "      <td>[All, My, Children, Transcript, Wednesday, 9/3...</td>\n",
       "      <td>[children, transcript, wednesday, pleas, click...</td>\n",
       "      <td>[children, transcript, wednesday, pleas, click...</td>\n",
       "    </tr>\n",
       "    <tr>\n",
       "      <th>5</th>\n",
       "      <td>1999/02-22-99.txt</td>\n",
       "      <td>All My Children Transcript Monday 2/22/99 Prov...</td>\n",
       "      <td>3</td>\n",
       "      <td>[All, My, Children, Transcript, Monday, 2/22/9...</td>\n",
       "      <td>[children, transcript, monday, provid, suzann,...</td>\n",
       "      <td>[children, transcript, monday, suzann, raquel,...</td>\n",
       "    </tr>\n",
       "    <tr>\n",
       "      <th>6</th>\n",
       "      <td>1999/07-08-99.txt</td>\n",
       "      <td>[an error occurred while processing this dire...</td>\n",
       "      <td>3</td>\n",
       "      <td>[[, an, error, occurred, while, processing, th...</td>\n",
       "      <td>[error, occur, process, thi, direct, children,...</td>\n",
       "      <td>[error, occur, process, direct, children, tran...</td>\n",
       "    </tr>\n",
       "    <tr>\n",
       "      <th>7</th>\n",
       "      <td>2001/04-09-01.txt</td>\n",
       "      <td>All My Children Transcript Monday  4/9/01    \\...</td>\n",
       "      <td>2</td>\n",
       "      <td>[All, My, Children, Transcript, Monday, 4/9/01...</td>\n",
       "      <td>[children, transcript, monday, pleas, click, d...</td>\n",
       "      <td>[children, transcript, monday, pleas, click, s...</td>\n",
       "    </tr>\n",
       "    <tr>\n",
       "      <th>8</th>\n",
       "      <td>2001/05-09-01.txt</td>\n",
       "      <td>All My Children Transcript Wednesday 5/9/01 Pr...</td>\n",
       "      <td>2</td>\n",
       "      <td>[All, My, Children, Transcript, Wednesday, 5/9...</td>\n",
       "      <td>[children, transcript, wednesday, provid, aman...</td>\n",
       "      <td>[children, transcript, wednesday, amanda, proo...</td>\n",
       "    </tr>\n",
       "    <tr>\n",
       "      <th>9</th>\n",
       "      <td>2001/06-20-01.txt</td>\n",
       "      <td>All My Children Transcript Wednesday 6/20/01 ...</td>\n",
       "      <td>2</td>\n",
       "      <td>[All, My, Children, Transcript, Wednesday, 6/2...</td>\n",
       "      <td>[children, transcript, wednesday, provid, suza...</td>\n",
       "      <td>[children, transcript, wednesday, suzann, proo...</td>\n",
       "    </tr>\n",
       "    <tr>\n",
       "      <th>10</th>\n",
       "      <td>2001/08-07-01.txt</td>\n",
       "      <td>All My Children Transcript Tuesday 8/7/01 Pr...</td>\n",
       "      <td>3</td>\n",
       "      <td>[All, My, Children, Transcript, Tuesday, 8/7/0...</td>\n",
       "      <td>[children, transcript, tuesday, provid, amanda...</td>\n",
       "      <td>[children, transcript, tuesday, amanda, freder...</td>\n",
       "    </tr>\n",
       "    <tr>\n",
       "      <th>11</th>\n",
       "      <td>2001/08-08-01.txt</td>\n",
       "      <td>All My Children Transcript Wednesday 8/8/01 ...</td>\n",
       "      <td>2</td>\n",
       "      <td>[All, My, Children, Transcript, Wednesday, 8/8...</td>\n",
       "      <td>[children, transcript, wednesday, provid, aman...</td>\n",
       "      <td>[children, transcript, wednesday, amanda, opal...</td>\n",
       "    </tr>\n",
       "    <tr>\n",
       "      <th>12</th>\n",
       "      <td>2001/08-09-01.txt</td>\n",
       "      <td>All My Children Transcript Thursday 8/9/01 P...</td>\n",
       "      <td>2</td>\n",
       "      <td>[All, My, Children, Transcript, Thursday, 8/9/...</td>\n",
       "      <td>[children, transcript, thursday, provid, amand...</td>\n",
       "      <td>[children, transcript, thursday, amanda, ryan,...</td>\n",
       "    </tr>\n",
       "    <tr>\n",
       "      <th>13</th>\n",
       "      <td>2001/08-10-01.txt</td>\n",
       "      <td>All My Children Transcript Friday 8/10/01 Pr...</td>\n",
       "      <td>2</td>\n",
       "      <td>[All, My, Children, Transcript, Friday, 8/10/0...</td>\n",
       "      <td>[children, transcript, friday, provid, amanda,...</td>\n",
       "      <td>[children, transcript, friday, amanda, david, ...</td>\n",
       "    </tr>\n",
       "    <tr>\n",
       "      <th>14</th>\n",
       "      <td>2001/08-13-01.txt</td>\n",
       "      <td>All My Children Transcript Monday 8/13/01 Pr...</td>\n",
       "      <td>2</td>\n",
       "      <td>[All, My, Children, Transcript, Monday, 8/13/0...</td>\n",
       "      <td>[children, transcript, monday, provid, amanda,...</td>\n",
       "      <td>[children, transcript, monday, amanda, tad, me...</td>\n",
       "    </tr>\n",
       "    <tr>\n",
       "      <th>15</th>\n",
       "      <td>2001/08-14-01.txt</td>\n",
       "      <td>All My Children Transcript Tuesday 8/14/01 P...</td>\n",
       "      <td>2</td>\n",
       "      <td>[All, My, Children, Transcript, Tuesday, 8/14/...</td>\n",
       "      <td>[children, transcript, tuesday, provid, amanda...</td>\n",
       "      <td>[children, transcript, tuesday, amanda, laura,...</td>\n",
       "    </tr>\n",
       "    <tr>\n",
       "      <th>16</th>\n",
       "      <td>2001/08-15-01.txt</td>\n",
       "      <td>All My Children Transcript Wednesday 8/15/01...</td>\n",
       "      <td>2</td>\n",
       "      <td>[All, My, Children, Transcript, Wednesday, 8/1...</td>\n",
       "      <td>[children, transcript, wednesday, provid, aman...</td>\n",
       "      <td>[children, transcript, wednesday, amanda, liza...</td>\n",
       "    </tr>\n",
       "    <tr>\n",
       "      <th>17</th>\n",
       "      <td>2001/08-16-01.txt</td>\n",
       "      <td>All My Children Transcript Thursday 8/24/01 ...</td>\n",
       "      <td>2</td>\n",
       "      <td>[All, My, Children, Transcript, Thursday, 8/24...</td>\n",
       "      <td>[children, transcript, thursday, provid, amand...</td>\n",
       "      <td>[children, transcript, thursday, amanda, laura...</td>\n",
       "    </tr>\n",
       "    <tr>\n",
       "      <th>18</th>\n",
       "      <td>2001/08-17-01.txt</td>\n",
       "      <td>All My Children Transcript Friday 8/17/01 Pr...</td>\n",
       "      <td>2</td>\n",
       "      <td>[All, My, Children, Transcript, Friday, 8/17/0...</td>\n",
       "      <td>[children, transcript, friday, provid, amanda,...</td>\n",
       "      <td>[children, transcript, friday, amanda, leo, sw...</td>\n",
       "    </tr>\n",
       "    <tr>\n",
       "      <th>19</th>\n",
       "      <td>2001/08-20-01.txt</td>\n",
       "      <td>All My Children Transcript Monday 8/20/01 Pr...</td>\n",
       "      <td>2</td>\n",
       "      <td>[All, My, Children, Transcript, Monday, 8/20/0...</td>\n",
       "      <td>[children, transcript, monday, provid, amanda,...</td>\n",
       "      <td>[children, transcript, monday, amanda, edmund,...</td>\n",
       "    </tr>\n",
       "    <tr>\n",
       "      <th>20</th>\n",
       "      <td>2001/08-21-01.txt</td>\n",
       "      <td>All My Children Transcript Tuesday 8/21/01 P...</td>\n",
       "      <td>2</td>\n",
       "      <td>[All, My, Children, Transcript, Tuesday, 8/21/...</td>\n",
       "      <td>[children, transcript, tuesday, provid, amanda...</td>\n",
       "      <td>[children, transcript, tuesday, amanda, edmund...</td>\n",
       "    </tr>\n",
       "    <tr>\n",
       "      <th>21</th>\n",
       "      <td>2001/08-22-01.txt</td>\n",
       "      <td>All My Children Transcript Wednesday 8/22/01...</td>\n",
       "      <td>2</td>\n",
       "      <td>[All, My, Children, Transcript, Wednesday, 8/2...</td>\n",
       "      <td>[children, transcript, wednesday, provid, aman...</td>\n",
       "      <td>[children, transcript, wednesday, amanda, liza...</td>\n",
       "    </tr>\n",
       "    <tr>\n",
       "      <th>22</th>\n",
       "      <td>2001/08-23-01.txt</td>\n",
       "      <td>All My Children Transcript Thursday 8/23/01 ...</td>\n",
       "      <td>2</td>\n",
       "      <td>[All, My, Children, Transcript, Thursday, 8/23...</td>\n",
       "      <td>[children, transcript, thursday, provid, amand...</td>\n",
       "      <td>[children, transcript, thursday, amanda, told,...</td>\n",
       "    </tr>\n",
       "    <tr>\n",
       "      <th>23</th>\n",
       "      <td>2001/08-24-01.txt</td>\n",
       "      <td>All My Children Transcript Friday 8/24/01 Pr...</td>\n",
       "      <td>2</td>\n",
       "      <td>[All, My, Children, Transcript, Friday, 8/24/0...</td>\n",
       "      <td>[children, transcript, friday, provid, amanda,...</td>\n",
       "      <td>[children, transcript, friday, amanda, mateo, ...</td>\n",
       "    </tr>\n",
       "    <tr>\n",
       "      <th>24</th>\n",
       "      <td>2001/08-27-01.txt</td>\n",
       "      <td>All My Children Transcript Monday 8/27/01 Pr...</td>\n",
       "      <td>2</td>\n",
       "      <td>[All, My, Children, Transcript, Monday, 8/27/0...</td>\n",
       "      <td>[children, transcript, monday, provid, amanda,...</td>\n",
       "      <td>[children, transcript, monday, amanda, hayley,...</td>\n",
       "    </tr>\n",
       "    <tr>\n",
       "      <th>25</th>\n",
       "      <td>2001/08-28-01.txt</td>\n",
       "      <td>All My Children Transcript Tuesday 8/28/01 P...</td>\n",
       "      <td>2</td>\n",
       "      <td>[All, My, Children, Transcript, Tuesday, 8/28/...</td>\n",
       "      <td>[children, transcript, tuesday, provid, amanda...</td>\n",
       "      <td>[children, transcript, tuesday, amanda, mateo,...</td>\n",
       "    </tr>\n",
       "    <tr>\n",
       "      <th>26</th>\n",
       "      <td>2001/08-29-01.txt</td>\n",
       "      <td>All My Children Transcript Wednesday 8/29/01...</td>\n",
       "      <td>2</td>\n",
       "      <td>[All, My, Children, Transcript, Wednesday, 8/2...</td>\n",
       "      <td>[children, transcript, wednesday, provid, aman...</td>\n",
       "      <td>[children, transcript, wednesday, amanda, tad,...</td>\n",
       "    </tr>\n",
       "    <tr>\n",
       "      <th>27</th>\n",
       "      <td>2001/08-30-01.txt</td>\n",
       "      <td>All My Children Transcript Thursday 8/30/01 ...</td>\n",
       "      <td>2</td>\n",
       "      <td>[All, My, Children, Transcript, Thursday, 8/30...</td>\n",
       "      <td>[children, transcript, thursday, suzann, hayle...</td>\n",
       "      <td>[children, transcript, thursday, suzann, hayle...</td>\n",
       "    </tr>\n",
       "    <tr>\n",
       "      <th>28</th>\n",
       "      <td>2001/08-31-01.txt</td>\n",
       "      <td>All My Children Transcript Friday 8/31/01 By...</td>\n",
       "      <td>2</td>\n",
       "      <td>[All, My, Children, Transcript, Friday, 8/31/0...</td>\n",
       "      <td>[children, transcript, friday, suzann, previou...</td>\n",
       "      <td>[children, transcript, friday, suzann, previou...</td>\n",
       "    </tr>\n",
       "    <tr>\n",
       "      <th>29</th>\n",
       "      <td>2001/09-03-01.txt</td>\n",
       "      <td>All My Children Transcript Friday 9/3/01 Prov...</td>\n",
       "      <td>2</td>\n",
       "      <td>[All, My, Children, Transcript, Friday, 9/3/01...</td>\n",
       "      <td>[children, transcript, friday, provid, amanda,...</td>\n",
       "      <td>[children, transcript, friday, amanda, ryan, s...</td>\n",
       "    </tr>\n",
       "    <tr>\n",
       "      <th>...</th>\n",
       "      <td>...</td>\n",
       "      <td>...</td>\n",
       "      <td>...</td>\n",
       "      <td>...</td>\n",
       "      <td>...</td>\n",
       "      <td>...</td>\n",
       "    </tr>\n",
       "    <tr>\n",
       "      <th>2560</th>\n",
       "      <td>2013/05-06-13.txt</td>\n",
       "      <td>All My Children Transcript Monday 5/6/13    \\t...</td>\n",
       "      <td>3</td>\n",
       "      <td>[All, My, Children, Transcript, Monday, 5/6/13...</td>\n",
       "      <td>[children, transcript, monday, pleas, click, d...</td>\n",
       "      <td>[children, transcript, monday, pleas, click, s...</td>\n",
       "    </tr>\n",
       "    <tr>\n",
       "      <th>2561</th>\n",
       "      <td>2013/05-07-13.txt</td>\n",
       "      <td>All My Children Transcript Tuesday 5/7/13    \\...</td>\n",
       "      <td>3</td>\n",
       "      <td>[All, My, Children, Transcript, Tuesday, 5/7/1...</td>\n",
       "      <td>[children, transcript, tuesday, pleas, click, ...</td>\n",
       "      <td>[children, transcript, tuesday, pleas, click, ...</td>\n",
       "    </tr>\n",
       "    <tr>\n",
       "      <th>2562</th>\n",
       "      <td>2013/05-08-13.txt</td>\n",
       "      <td>All My Children Transcript Wednesday 5/8/13   ...</td>\n",
       "      <td>3</td>\n",
       "      <td>[All, My, Children, Transcript, Wednesday, 5/8...</td>\n",
       "      <td>[children, transcript, wednesday, pleas, click...</td>\n",
       "      <td>[children, transcript, wednesday, pleas, click...</td>\n",
       "    </tr>\n",
       "    <tr>\n",
       "      <th>2563</th>\n",
       "      <td>2013/05-09-13.txt</td>\n",
       "      <td>All My Children Transcript Thursday 5/9/13    ...</td>\n",
       "      <td>3</td>\n",
       "      <td>[All, My, Children, Transcript, Thursday, 5/9/...</td>\n",
       "      <td>[children, transcript, thursday, pleas, click,...</td>\n",
       "      <td>[children, transcript, thursday, pleas, click,...</td>\n",
       "    </tr>\n",
       "    <tr>\n",
       "      <th>2564</th>\n",
       "      <td>2013/05-13-13.txt</td>\n",
       "      <td>All My Children Transcript Monday 5/13/13    \\...</td>\n",
       "      <td>3</td>\n",
       "      <td>[All, My, Children, Transcript, Monday, 5/13/1...</td>\n",
       "      <td>[children, transcript, monday, pleas, click, d...</td>\n",
       "      <td>[children, transcript, monday, pleas, click, s...</td>\n",
       "    </tr>\n",
       "    <tr>\n",
       "      <th>2565</th>\n",
       "      <td>2013/05-14-13.txt</td>\n",
       "      <td>All My Children Transcript Tuesday 5/14/13    ...</td>\n",
       "      <td>3</td>\n",
       "      <td>[All, My, Children, Transcript, Tuesday, 5/14/...</td>\n",
       "      <td>[children, transcript, tuesday, pleas, click, ...</td>\n",
       "      <td>[children, transcript, tuesday, pleas, click, ...</td>\n",
       "    </tr>\n",
       "    <tr>\n",
       "      <th>2566</th>\n",
       "      <td>2013/05-15-13.txt</td>\n",
       "      <td>All My Children Transcript Wednesday 5/15/13  ...</td>\n",
       "      <td>3</td>\n",
       "      <td>[All, My, Children, Transcript, Wednesday, 5/1...</td>\n",
       "      <td>[children, transcript, wednesday, pleas, click...</td>\n",
       "      <td>[children, transcript, wednesday, pleas, click...</td>\n",
       "    </tr>\n",
       "    <tr>\n",
       "      <th>2567</th>\n",
       "      <td>2013/05-16-13.txt</td>\n",
       "      <td>All My Children Transcript Thursday 5/16/13   ...</td>\n",
       "      <td>3</td>\n",
       "      <td>[All, My, Children, Transcript, Thursday, 5/16...</td>\n",
       "      <td>[children, transcript, thursday, pleas, click,...</td>\n",
       "      <td>[children, transcript, thursday, pleas, click,...</td>\n",
       "    </tr>\n",
       "    <tr>\n",
       "      <th>2568</th>\n",
       "      <td>2013/05-20-13.txt</td>\n",
       "      <td>All My Children Transcript Monday 5/20/13    \\...</td>\n",
       "      <td>3</td>\n",
       "      <td>[All, My, Children, Transcript, Monday, 5/20/1...</td>\n",
       "      <td>[children, transcript, monday, pleas, click, d...</td>\n",
       "      <td>[children, transcript, monday, pleas, click, s...</td>\n",
       "    </tr>\n",
       "    <tr>\n",
       "      <th>2569</th>\n",
       "      <td>2013/05-22-13.txt</td>\n",
       "      <td>All My Children Transcript Wednesday 5/22/13  ...</td>\n",
       "      <td>3</td>\n",
       "      <td>[All, My, Children, Transcript, Wednesday, 5/2...</td>\n",
       "      <td>[children, transcript, wednesday, pleas, click...</td>\n",
       "      <td>[children, transcript, wednesday, pleas, click...</td>\n",
       "    </tr>\n",
       "    <tr>\n",
       "      <th>2570</th>\n",
       "      <td>2013/05-27-13.txt</td>\n",
       "      <td>All My Children Transcript Monday 5/27/13    \\...</td>\n",
       "      <td>3</td>\n",
       "      <td>[All, My, Children, Transcript, Monday, 5/27/1...</td>\n",
       "      <td>[children, transcript, monday, pleas, click, d...</td>\n",
       "      <td>[children, transcript, monday, pleas, click, s...</td>\n",
       "    </tr>\n",
       "    <tr>\n",
       "      <th>2571</th>\n",
       "      <td>2013/05-29-13.txt</td>\n",
       "      <td>All My Children Transcript Wednesday 5/29/13  ...</td>\n",
       "      <td>3</td>\n",
       "      <td>[All, My, Children, Transcript, Wednesday, 5/2...</td>\n",
       "      <td>[children, transcript, wednesday, pleas, click...</td>\n",
       "      <td>[children, transcript, wednesday, pleas, click...</td>\n",
       "    </tr>\n",
       "    <tr>\n",
       "      <th>2572</th>\n",
       "      <td>2013/06-03-13.txt</td>\n",
       "      <td>All My Children Transcript Monday 6/3/13    \\t...</td>\n",
       "      <td>3</td>\n",
       "      <td>[All, My, Children, Transcript, Monday, 6/3/13...</td>\n",
       "      <td>[children, transcript, monday, pleas, click, d...</td>\n",
       "      <td>[children, transcript, monday, pleas, click, s...</td>\n",
       "    </tr>\n",
       "    <tr>\n",
       "      <th>2573</th>\n",
       "      <td>2013/06-05-13.txt</td>\n",
       "      <td>All My Children Transcript Wednesday 6/5/13   ...</td>\n",
       "      <td>3</td>\n",
       "      <td>[All, My, Children, Transcript, Wednesday, 6/5...</td>\n",
       "      <td>[children, transcript, wednesday, pleas, click...</td>\n",
       "      <td>[children, transcript, wednesday, pleas, click...</td>\n",
       "    </tr>\n",
       "    <tr>\n",
       "      <th>2574</th>\n",
       "      <td>2013/06-10-13.txt</td>\n",
       "      <td>All My Children Transcript Monday 6/10/13    \\...</td>\n",
       "      <td>3</td>\n",
       "      <td>[All, My, Children, Transcript, Monday, 6/10/1...</td>\n",
       "      <td>[children, transcript, monday, pleas, click, d...</td>\n",
       "      <td>[children, transcript, monday, pleas, click, s...</td>\n",
       "    </tr>\n",
       "    <tr>\n",
       "      <th>2575</th>\n",
       "      <td>2013/06-12-13.txt</td>\n",
       "      <td>All My Children Transcript Wednesday 6/12/13  ...</td>\n",
       "      <td>3</td>\n",
       "      <td>[All, My, Children, Transcript, Wednesday, 6/1...</td>\n",
       "      <td>[children, transcript, wednesday, pleas, click...</td>\n",
       "      <td>[children, transcript, wednesday, pleas, click...</td>\n",
       "    </tr>\n",
       "    <tr>\n",
       "      <th>2576</th>\n",
       "      <td>2013/06-17-13.txt</td>\n",
       "      <td>All My Children Transcript Monday 6/17/13    \\...</td>\n",
       "      <td>3</td>\n",
       "      <td>[All, My, Children, Transcript, Monday, 6/17/1...</td>\n",
       "      <td>[children, transcript, monday, pleas, click, d...</td>\n",
       "      <td>[children, transcript, monday, pleas, click, s...</td>\n",
       "    </tr>\n",
       "    <tr>\n",
       "      <th>2577</th>\n",
       "      <td>2013/06-19-13.txt</td>\n",
       "      <td>All My Children Transcript Wednesday 6/19/13  ...</td>\n",
       "      <td>3</td>\n",
       "      <td>[All, My, Children, Transcript, Wednesday, 6/1...</td>\n",
       "      <td>[children, transcript, wednesday, pleas, click...</td>\n",
       "      <td>[children, transcript, wednesday, pleas, click...</td>\n",
       "    </tr>\n",
       "    <tr>\n",
       "      <th>2578</th>\n",
       "      <td>2013/06-24-13.txt</td>\n",
       "      <td>All My Children Transcript Monday 6/24/13    \\...</td>\n",
       "      <td>3</td>\n",
       "      <td>[All, My, Children, Transcript, Monday, 6/24/1...</td>\n",
       "      <td>[children, transcript, monday, pleas, click, d...</td>\n",
       "      <td>[children, transcript, monday, pleas, click, s...</td>\n",
       "    </tr>\n",
       "    <tr>\n",
       "      <th>2579</th>\n",
       "      <td>2013/06-26-13.txt</td>\n",
       "      <td>All My Children Transcript Wednesday 6/26/13  ...</td>\n",
       "      <td>3</td>\n",
       "      <td>[All, My, Children, Transcript, Wednesday, 6/2...</td>\n",
       "      <td>[children, transcript, wednesday, pleas, click...</td>\n",
       "      <td>[children, transcript, wednesday, pleas, click...</td>\n",
       "    </tr>\n",
       "    <tr>\n",
       "      <th>2580</th>\n",
       "      <td>2013/07-01-13.txt</td>\n",
       "      <td>All My Children Transcript Monday 7/1/13    \\t...</td>\n",
       "      <td>3</td>\n",
       "      <td>[All, My, Children, Transcript, Monday, 7/1/13...</td>\n",
       "      <td>[children, transcript, monday, pleas, click, d...</td>\n",
       "      <td>[children, transcript, monday, pleas, click, s...</td>\n",
       "    </tr>\n",
       "    <tr>\n",
       "      <th>2581</th>\n",
       "      <td>2013/07-08-13.txt</td>\n",
       "      <td>All My Children Transcript Monday 7/8/13 Aired...</td>\n",
       "      <td>3</td>\n",
       "      <td>[All, My, Children, Transcript, Monday, 7/8/13...</td>\n",
       "      <td>[children, transcript, monday, air, pleas, cli...</td>\n",
       "      <td>[children, transcript, monday, air, pleas, cli...</td>\n",
       "    </tr>\n",
       "    <tr>\n",
       "      <th>2582</th>\n",
       "      <td>2013/07-15-13.txt</td>\n",
       "      <td>All My Children Transcript Monday 7/15/13 Aire...</td>\n",
       "      <td>3</td>\n",
       "      <td>[All, My, Children, Transcript, Monday, 7/15/1...</td>\n",
       "      <td>[children, transcript, monday, air, pleas, cli...</td>\n",
       "      <td>[children, transcript, monday, air, pleas, cli...</td>\n",
       "    </tr>\n",
       "    <tr>\n",
       "      <th>2583</th>\n",
       "      <td>2013/07-22-13.txt</td>\n",
       "      <td>All My Children Transcript Monday 7/22/13    \\...</td>\n",
       "      <td>3</td>\n",
       "      <td>[All, My, Children, Transcript, Monday, 7/22/1...</td>\n",
       "      <td>[children, transcript, monday, pleas, click, d...</td>\n",
       "      <td>[children, transcript, monday, pleas, click, s...</td>\n",
       "    </tr>\n",
       "    <tr>\n",
       "      <th>2584</th>\n",
       "      <td>2013/07-29-13.txt</td>\n",
       "      <td>All My Children Transcript Monday 7/29/13    \\...</td>\n",
       "      <td>3</td>\n",
       "      <td>[All, My, Children, Transcript, Monday, 7/29/1...</td>\n",
       "      <td>[children, transcript, monday, pleas, click, d...</td>\n",
       "      <td>[children, transcript, monday, pleas, click, s...</td>\n",
       "    </tr>\n",
       "    <tr>\n",
       "      <th>2585</th>\n",
       "      <td>2013/08-05-13.txt</td>\n",
       "      <td>All My Children Transcript Monday 8/5/13 Aired...</td>\n",
       "      <td>3</td>\n",
       "      <td>[All, My, Children, Transcript, Monday, 8/5/13...</td>\n",
       "      <td>[children, transcript, monday, air, pleas, cli...</td>\n",
       "      <td>[children, transcript, monday, air, pleas, cli...</td>\n",
       "    </tr>\n",
       "    <tr>\n",
       "      <th>2586</th>\n",
       "      <td>2013/08-12-13.txt</td>\n",
       "      <td>All My Children Transcript Monday 8/12/13 Aire...</td>\n",
       "      <td>3</td>\n",
       "      <td>[All, My, Children, Transcript, Monday, 8/12/1...</td>\n",
       "      <td>[children, transcript, monday, air, pleas, cli...</td>\n",
       "      <td>[children, transcript, monday, air, pleas, cli...</td>\n",
       "    </tr>\n",
       "    <tr>\n",
       "      <th>2587</th>\n",
       "      <td>2013/08-19-13.txt</td>\n",
       "      <td>All My Children Transcript Monday 8/19/13 Aire...</td>\n",
       "      <td>3</td>\n",
       "      <td>[All, My, Children, Transcript, Monday, 8/19/1...</td>\n",
       "      <td>[children, transcript, monday, air, pleas, cli...</td>\n",
       "      <td>[children, transcript, monday, air, pleas, cli...</td>\n",
       "    </tr>\n",
       "    <tr>\n",
       "      <th>2588</th>\n",
       "      <td>2013/08-26-13.txt</td>\n",
       "      <td>All My Children Transcript Monday 8/26/13 Aire...</td>\n",
       "      <td>3</td>\n",
       "      <td>[All, My, Children, Transcript, Monday, 8/26/1...</td>\n",
       "      <td>[children, transcript, monday, air, pleas, cli...</td>\n",
       "      <td>[children, transcript, monday, air, pleas, cli...</td>\n",
       "    </tr>\n",
       "    <tr>\n",
       "      <th>2589</th>\n",
       "      <td>2013/09-02-13.txt</td>\n",
       "      <td>All My Children Transcript Monday 9/2/13 Aired...</td>\n",
       "      <td>3</td>\n",
       "      <td>[All, My, Children, Transcript, Monday, 9/2/13...</td>\n",
       "      <td>[children, transcript, monday, air, pleas, cli...</td>\n",
       "      <td>[children, transcript, monday, air, pleas, cli...</td>\n",
       "    </tr>\n",
       "  </tbody>\n",
       "</table>\n",
       "<p>2590 rows × 6 columns</p>\n",
       "</div>"
      ],
      "text/plain": [
       "               filename                                               text  \\\n",
       "0     1998/02-14-84.txt  All My Children Transcript Tuesday 2/14/84    ...   \n",
       "1     1998/03-04-93.txt  All My Children Transcript Thursday 3/4/93    ...   \n",
       "2     1998/06-04-98.txt  All My Children Transcript Thursday 6/4/98 Pro...   \n",
       "3     1998/07-07-98.txt  All My Children Transcript Tuesday 7/7/98 Prov...   \n",
       "4     1998/09-03-80.txt  All My Children Transcript Wednesday 9/3/80   ...   \n",
       "5     1999/02-22-99.txt  All My Children Transcript Monday 2/22/99 Prov...   \n",
       "6     1999/07-08-99.txt   [an error occurred while processing this dire...   \n",
       "7     2001/04-09-01.txt  All My Children Transcript Monday  4/9/01    \\...   \n",
       "8     2001/05-09-01.txt  All My Children Transcript Wednesday 5/9/01 Pr...   \n",
       "9     2001/06-20-01.txt   All My Children Transcript Wednesday 6/20/01 ...   \n",
       "10    2001/08-07-01.txt    All My Children Transcript Tuesday 8/7/01 Pr...   \n",
       "11    2001/08-08-01.txt    All My Children Transcript Wednesday 8/8/01 ...   \n",
       "12    2001/08-09-01.txt    All My Children Transcript Thursday 8/9/01 P...   \n",
       "13    2001/08-10-01.txt    All My Children Transcript Friday 8/10/01 Pr...   \n",
       "14    2001/08-13-01.txt    All My Children Transcript Monday 8/13/01 Pr...   \n",
       "15    2001/08-14-01.txt    All My Children Transcript Tuesday 8/14/01 P...   \n",
       "16    2001/08-15-01.txt    All My Children Transcript Wednesday 8/15/01...   \n",
       "17    2001/08-16-01.txt    All My Children Transcript Thursday 8/24/01 ...   \n",
       "18    2001/08-17-01.txt    All My Children Transcript Friday 8/17/01 Pr...   \n",
       "19    2001/08-20-01.txt    All My Children Transcript Monday 8/20/01 Pr...   \n",
       "20    2001/08-21-01.txt    All My Children Transcript Tuesday 8/21/01 P...   \n",
       "21    2001/08-22-01.txt    All My Children Transcript Wednesday 8/22/01...   \n",
       "22    2001/08-23-01.txt    All My Children Transcript Thursday 8/23/01 ...   \n",
       "23    2001/08-24-01.txt    All My Children Transcript Friday 8/24/01 Pr...   \n",
       "24    2001/08-27-01.txt    All My Children Transcript Monday 8/27/01 Pr...   \n",
       "25    2001/08-28-01.txt    All My Children Transcript Tuesday 8/28/01 P...   \n",
       "26    2001/08-29-01.txt    All My Children Transcript Wednesday 8/29/01...   \n",
       "27    2001/08-30-01.txt    All My Children Transcript Thursday 8/30/01 ...   \n",
       "28    2001/08-31-01.txt    All My Children Transcript Friday 8/31/01 By...   \n",
       "29    2001/09-03-01.txt   All My Children Transcript Friday 9/3/01 Prov...   \n",
       "...                 ...                                                ...   \n",
       "2560  2013/05-06-13.txt  All My Children Transcript Monday 5/6/13    \\t...   \n",
       "2561  2013/05-07-13.txt  All My Children Transcript Tuesday 5/7/13    \\...   \n",
       "2562  2013/05-08-13.txt  All My Children Transcript Wednesday 5/8/13   ...   \n",
       "2563  2013/05-09-13.txt  All My Children Transcript Thursday 5/9/13    ...   \n",
       "2564  2013/05-13-13.txt  All My Children Transcript Monday 5/13/13    \\...   \n",
       "2565  2013/05-14-13.txt  All My Children Transcript Tuesday 5/14/13    ...   \n",
       "2566  2013/05-15-13.txt  All My Children Transcript Wednesday 5/15/13  ...   \n",
       "2567  2013/05-16-13.txt  All My Children Transcript Thursday 5/16/13   ...   \n",
       "2568  2013/05-20-13.txt  All My Children Transcript Monday 5/20/13    \\...   \n",
       "2569  2013/05-22-13.txt  All My Children Transcript Wednesday 5/22/13  ...   \n",
       "2570  2013/05-27-13.txt  All My Children Transcript Monday 5/27/13    \\...   \n",
       "2571  2013/05-29-13.txt  All My Children Transcript Wednesday 5/29/13  ...   \n",
       "2572  2013/06-03-13.txt  All My Children Transcript Monday 6/3/13    \\t...   \n",
       "2573  2013/06-05-13.txt  All My Children Transcript Wednesday 6/5/13   ...   \n",
       "2574  2013/06-10-13.txt  All My Children Transcript Monday 6/10/13    \\...   \n",
       "2575  2013/06-12-13.txt  All My Children Transcript Wednesday 6/12/13  ...   \n",
       "2576  2013/06-17-13.txt  All My Children Transcript Monday 6/17/13    \\...   \n",
       "2577  2013/06-19-13.txt  All My Children Transcript Wednesday 6/19/13  ...   \n",
       "2578  2013/06-24-13.txt  All My Children Transcript Monday 6/24/13    \\...   \n",
       "2579  2013/06-26-13.txt  All My Children Transcript Wednesday 6/26/13  ...   \n",
       "2580  2013/07-01-13.txt  All My Children Transcript Monday 7/1/13    \\t...   \n",
       "2581  2013/07-08-13.txt  All My Children Transcript Monday 7/8/13 Aired...   \n",
       "2582  2013/07-15-13.txt  All My Children Transcript Monday 7/15/13 Aire...   \n",
       "2583  2013/07-22-13.txt  All My Children Transcript Monday 7/22/13    \\...   \n",
       "2584  2013/07-29-13.txt  All My Children Transcript Monday 7/29/13    \\...   \n",
       "2585  2013/08-05-13.txt  All My Children Transcript Monday 8/5/13 Aired...   \n",
       "2586  2013/08-12-13.txt  All My Children Transcript Monday 8/12/13 Aire...   \n",
       "2587  2013/08-19-13.txt  All My Children Transcript Monday 8/19/13 Aire...   \n",
       "2588  2013/08-26-13.txt  All My Children Transcript Monday 8/26/13 Aire...   \n",
       "2589  2013/09-02-13.txt  All My Children Transcript Monday 9/2/13 Aired...   \n",
       "\n",
       "      kmeans_predictions                                     tokenized_text  \\\n",
       "0                      3  [All, My, Children, Transcript, Tuesday, 2/14/...   \n",
       "1                      3  [All, My, Children, Transcript, Thursday, 3/4/...   \n",
       "2                      2  [All, My, Children, Transcript, Thursday, 6/4/...   \n",
       "3                      2  [All, My, Children, Transcript, Tuesday, 7/7/9...   \n",
       "4                      3  [All, My, Children, Transcript, Wednesday, 9/3...   \n",
       "5                      3  [All, My, Children, Transcript, Monday, 2/22/9...   \n",
       "6                      3  [[, an, error, occurred, while, processing, th...   \n",
       "7                      2  [All, My, Children, Transcript, Monday, 4/9/01...   \n",
       "8                      2  [All, My, Children, Transcript, Wednesday, 5/9...   \n",
       "9                      2  [All, My, Children, Transcript, Wednesday, 6/2...   \n",
       "10                     3  [All, My, Children, Transcript, Tuesday, 8/7/0...   \n",
       "11                     2  [All, My, Children, Transcript, Wednesday, 8/8...   \n",
       "12                     2  [All, My, Children, Transcript, Thursday, 8/9/...   \n",
       "13                     2  [All, My, Children, Transcript, Friday, 8/10/0...   \n",
       "14                     2  [All, My, Children, Transcript, Monday, 8/13/0...   \n",
       "15                     2  [All, My, Children, Transcript, Tuesday, 8/14/...   \n",
       "16                     2  [All, My, Children, Transcript, Wednesday, 8/1...   \n",
       "17                     2  [All, My, Children, Transcript, Thursday, 8/24...   \n",
       "18                     2  [All, My, Children, Transcript, Friday, 8/17/0...   \n",
       "19                     2  [All, My, Children, Transcript, Monday, 8/20/0...   \n",
       "20                     2  [All, My, Children, Transcript, Tuesday, 8/21/...   \n",
       "21                     2  [All, My, Children, Transcript, Wednesday, 8/2...   \n",
       "22                     2  [All, My, Children, Transcript, Thursday, 8/23...   \n",
       "23                     2  [All, My, Children, Transcript, Friday, 8/24/0...   \n",
       "24                     2  [All, My, Children, Transcript, Monday, 8/27/0...   \n",
       "25                     2  [All, My, Children, Transcript, Tuesday, 8/28/...   \n",
       "26                     2  [All, My, Children, Transcript, Wednesday, 8/2...   \n",
       "27                     2  [All, My, Children, Transcript, Thursday, 8/30...   \n",
       "28                     2  [All, My, Children, Transcript, Friday, 8/31/0...   \n",
       "29                     2  [All, My, Children, Transcript, Friday, 9/3/01...   \n",
       "...                  ...                                                ...   \n",
       "2560                   3  [All, My, Children, Transcript, Monday, 5/6/13...   \n",
       "2561                   3  [All, My, Children, Transcript, Tuesday, 5/7/1...   \n",
       "2562                   3  [All, My, Children, Transcript, Wednesday, 5/8...   \n",
       "2563                   3  [All, My, Children, Transcript, Thursday, 5/9/...   \n",
       "2564                   3  [All, My, Children, Transcript, Monday, 5/13/1...   \n",
       "2565                   3  [All, My, Children, Transcript, Tuesday, 5/14/...   \n",
       "2566                   3  [All, My, Children, Transcript, Wednesday, 5/1...   \n",
       "2567                   3  [All, My, Children, Transcript, Thursday, 5/16...   \n",
       "2568                   3  [All, My, Children, Transcript, Monday, 5/20/1...   \n",
       "2569                   3  [All, My, Children, Transcript, Wednesday, 5/2...   \n",
       "2570                   3  [All, My, Children, Transcript, Monday, 5/27/1...   \n",
       "2571                   3  [All, My, Children, Transcript, Wednesday, 5/2...   \n",
       "2572                   3  [All, My, Children, Transcript, Monday, 6/3/13...   \n",
       "2573                   3  [All, My, Children, Transcript, Wednesday, 6/5...   \n",
       "2574                   3  [All, My, Children, Transcript, Monday, 6/10/1...   \n",
       "2575                   3  [All, My, Children, Transcript, Wednesday, 6/1...   \n",
       "2576                   3  [All, My, Children, Transcript, Monday, 6/17/1...   \n",
       "2577                   3  [All, My, Children, Transcript, Wednesday, 6/1...   \n",
       "2578                   3  [All, My, Children, Transcript, Monday, 6/24/1...   \n",
       "2579                   3  [All, My, Children, Transcript, Wednesday, 6/2...   \n",
       "2580                   3  [All, My, Children, Transcript, Monday, 7/1/13...   \n",
       "2581                   3  [All, My, Children, Transcript, Monday, 7/8/13...   \n",
       "2582                   3  [All, My, Children, Transcript, Monday, 7/15/1...   \n",
       "2583                   3  [All, My, Children, Transcript, Monday, 7/22/1...   \n",
       "2584                   3  [All, My, Children, Transcript, Monday, 7/29/1...   \n",
       "2585                   3  [All, My, Children, Transcript, Monday, 8/5/13...   \n",
       "2586                   3  [All, My, Children, Transcript, Monday, 8/12/1...   \n",
       "2587                   3  [All, My, Children, Transcript, Monday, 8/19/1...   \n",
       "2588                   3  [All, My, Children, Transcript, Monday, 8/26/1...   \n",
       "2589                   3  [All, My, Children, Transcript, Monday, 9/2/13...   \n",
       "\n",
       "                                      normalized_tokens  \\\n",
       "0     [children, transcript, tuesday, pleas, click, ...   \n",
       "1     [children, transcript, thursday, pleas, click,...   \n",
       "2     [children, transcript, thursday, provid, suzan...   \n",
       "3     [children, transcript, tuesday, provid, suzann...   \n",
       "4     [children, transcript, wednesday, pleas, click...   \n",
       "5     [children, transcript, monday, provid, suzann,...   \n",
       "6     [error, occur, process, thi, direct, children,...   \n",
       "7     [children, transcript, monday, pleas, click, d...   \n",
       "8     [children, transcript, wednesday, provid, aman...   \n",
       "9     [children, transcript, wednesday, provid, suza...   \n",
       "10    [children, transcript, tuesday, provid, amanda...   \n",
       "11    [children, transcript, wednesday, provid, aman...   \n",
       "12    [children, transcript, thursday, provid, amand...   \n",
       "13    [children, transcript, friday, provid, amanda,...   \n",
       "14    [children, transcript, monday, provid, amanda,...   \n",
       "15    [children, transcript, tuesday, provid, amanda...   \n",
       "16    [children, transcript, wednesday, provid, aman...   \n",
       "17    [children, transcript, thursday, provid, amand...   \n",
       "18    [children, transcript, friday, provid, amanda,...   \n",
       "19    [children, transcript, monday, provid, amanda,...   \n",
       "20    [children, transcript, tuesday, provid, amanda...   \n",
       "21    [children, transcript, wednesday, provid, aman...   \n",
       "22    [children, transcript, thursday, provid, amand...   \n",
       "23    [children, transcript, friday, provid, amanda,...   \n",
       "24    [children, transcript, monday, provid, amanda,...   \n",
       "25    [children, transcript, tuesday, provid, amanda...   \n",
       "26    [children, transcript, wednesday, provid, aman...   \n",
       "27    [children, transcript, thursday, suzann, hayle...   \n",
       "28    [children, transcript, friday, suzann, previou...   \n",
       "29    [children, transcript, friday, provid, amanda,...   \n",
       "...                                                 ...   \n",
       "2560  [children, transcript, monday, pleas, click, d...   \n",
       "2561  [children, transcript, tuesday, pleas, click, ...   \n",
       "2562  [children, transcript, wednesday, pleas, click...   \n",
       "2563  [children, transcript, thursday, pleas, click,...   \n",
       "2564  [children, transcript, monday, pleas, click, d...   \n",
       "2565  [children, transcript, tuesday, pleas, click, ...   \n",
       "2566  [children, transcript, wednesday, pleas, click...   \n",
       "2567  [children, transcript, thursday, pleas, click,...   \n",
       "2568  [children, transcript, monday, pleas, click, d...   \n",
       "2569  [children, transcript, wednesday, pleas, click...   \n",
       "2570  [children, transcript, monday, pleas, click, d...   \n",
       "2571  [children, transcript, wednesday, pleas, click...   \n",
       "2572  [children, transcript, monday, pleas, click, d...   \n",
       "2573  [children, transcript, wednesday, pleas, click...   \n",
       "2574  [children, transcript, monday, pleas, click, d...   \n",
       "2575  [children, transcript, wednesday, pleas, click...   \n",
       "2576  [children, transcript, monday, pleas, click, d...   \n",
       "2577  [children, transcript, wednesday, pleas, click...   \n",
       "2578  [children, transcript, monday, pleas, click, d...   \n",
       "2579  [children, transcript, wednesday, pleas, click...   \n",
       "2580  [children, transcript, monday, pleas, click, d...   \n",
       "2581  [children, transcript, monday, air, pleas, cli...   \n",
       "2582  [children, transcript, monday, air, pleas, cli...   \n",
       "2583  [children, transcript, monday, pleas, click, d...   \n",
       "2584  [children, transcript, monday, pleas, click, d...   \n",
       "2585  [children, transcript, monday, air, pleas, cli...   \n",
       "2586  [children, transcript, monday, air, pleas, cli...   \n",
       "2587  [children, transcript, monday, air, pleas, cli...   \n",
       "2588  [children, transcript, monday, air, pleas, cli...   \n",
       "2589  [children, transcript, monday, air, pleas, cli...   \n",
       "\n",
       "                                         reduced_tokens  \n",
       "0     [children, transcript, tuesday, pleas, click, ...  \n",
       "1     [children, transcript, thursday, pleas, click,...  \n",
       "2     [children, transcript, thursday, suzann, hayle...  \n",
       "3     [children, transcript, tuesday, suzann, proofr...  \n",
       "4     [children, transcript, wednesday, pleas, click...  \n",
       "5     [children, transcript, monday, suzann, raquel,...  \n",
       "6     [error, occur, process, direct, children, tran...  \n",
       "7     [children, transcript, monday, pleas, click, s...  \n",
       "8     [children, transcript, wednesday, amanda, proo...  \n",
       "9     [children, transcript, wednesday, suzann, proo...  \n",
       "10    [children, transcript, tuesday, amanda, freder...  \n",
       "11    [children, transcript, wednesday, amanda, opal...  \n",
       "12    [children, transcript, thursday, amanda, ryan,...  \n",
       "13    [children, transcript, friday, amanda, david, ...  \n",
       "14    [children, transcript, monday, amanda, tad, me...  \n",
       "15    [children, transcript, tuesday, amanda, laura,...  \n",
       "16    [children, transcript, wednesday, amanda, liza...  \n",
       "17    [children, transcript, thursday, amanda, laura...  \n",
       "18    [children, transcript, friday, amanda, leo, sw...  \n",
       "19    [children, transcript, monday, amanda, edmund,...  \n",
       "20    [children, transcript, tuesday, amanda, edmund...  \n",
       "21    [children, transcript, wednesday, amanda, liza...  \n",
       "22    [children, transcript, thursday, amanda, told,...  \n",
       "23    [children, transcript, friday, amanda, mateo, ...  \n",
       "24    [children, transcript, monday, amanda, hayley,...  \n",
       "25    [children, transcript, tuesday, amanda, mateo,...  \n",
       "26    [children, transcript, wednesday, amanda, tad,...  \n",
       "27    [children, transcript, thursday, suzann, hayle...  \n",
       "28    [children, transcript, friday, suzann, previou...  \n",
       "29    [children, transcript, friday, amanda, ryan, s...  \n",
       "...                                                 ...  \n",
       "2560  [children, transcript, monday, pleas, click, s...  \n",
       "2561  [children, transcript, tuesday, pleas, click, ...  \n",
       "2562  [children, transcript, wednesday, pleas, click...  \n",
       "2563  [children, transcript, thursday, pleas, click,...  \n",
       "2564  [children, transcript, monday, pleas, click, s...  \n",
       "2565  [children, transcript, tuesday, pleas, click, ...  \n",
       "2566  [children, transcript, wednesday, pleas, click...  \n",
       "2567  [children, transcript, thursday, pleas, click,...  \n",
       "2568  [children, transcript, monday, pleas, click, s...  \n",
       "2569  [children, transcript, wednesday, pleas, click...  \n",
       "2570  [children, transcript, monday, pleas, click, s...  \n",
       "2571  [children, transcript, wednesday, pleas, click...  \n",
       "2572  [children, transcript, monday, pleas, click, s...  \n",
       "2573  [children, transcript, wednesday, pleas, click...  \n",
       "2574  [children, transcript, monday, pleas, click, s...  \n",
       "2575  [children, transcript, wednesday, pleas, click...  \n",
       "2576  [children, transcript, monday, pleas, click, s...  \n",
       "2577  [children, transcript, wednesday, pleas, click...  \n",
       "2578  [children, transcript, monday, pleas, click, s...  \n",
       "2579  [children, transcript, wednesday, pleas, click...  \n",
       "2580  [children, transcript, monday, pleas, click, s...  \n",
       "2581  [children, transcript, monday, air, pleas, cli...  \n",
       "2582  [children, transcript, monday, air, pleas, cli...  \n",
       "2583  [children, transcript, monday, pleas, click, s...  \n",
       "2584  [children, transcript, monday, pleas, click, s...  \n",
       "2585  [children, transcript, monday, air, pleas, cli...  \n",
       "2586  [children, transcript, monday, air, pleas, cli...  \n",
       "2587  [children, transcript, monday, air, pleas, cli...  \n",
       "2588  [children, transcript, monday, air, pleas, cli...  \n",
       "2589  [children, transcript, monday, air, pleas, cli...  \n",
       "\n",
       "[2590 rows x 6 columns]"
      ]
     },
     "execution_count": 68,
     "metadata": {},
     "output_type": "execute_result"
    }
   ],
   "source": [
    "amcDF"
   ]
  },
  {
   "cell_type": "markdown",
   "metadata": {},
   "source": [
    "### (b) Flat Clustering Approach"
   ]
  },
  {
   "cell_type": "code",
   "execution_count": 60,
   "metadata": {
    "collapsed": true
   },
   "outputs": [],
   "source": [
    "## Flat Clustering Approach: K-Means\n",
    "\n",
    "# First, import all the packages\n",
    "import sklearn\n",
    "import sklearn.feature_extraction.text\n",
    "import sklearn.pipeline\n",
    "import sklearn.preprocessing\n",
    "import sklearn.datasets\n",
    "import sklearn.cluster\n",
    "import sklearn.decomposition\n",
    "import sklearn.metrics\n",
    "\n",
    "# Convert the documents into word count vectors\n",
    "# Initialize without tf-idf weights\n",
    "ngCountVectorizer = sklearn.feature_extraction.text.CountVectorizer()\n",
    "# Train\n",
    "amcgroupsVects = ngCountVectorizer.fit_transform(amcDF['text'])\n",
    "#print(amcgroupsVects.shape)\n",
    "#musicgroupsVects[:10,:20].toarray()\n",
    "ngCountVectorizer.vocabulary_.get('vector')\n",
    "\n",
    "# Initialize with tf-idf weights\n",
    "amcgroupsTFTransformer = sklearn.feature_extraction.text.TfidfTransformer().fit(amcgroupsVects)\n",
    "# Train\n",
    "amcgroupsTF = amcgroupsTFTransformer.transform(amcgroupsVects)\n",
    "#print(amcgroupsTF.shape)\n",
    "#initialize\n",
    "ngTFVectorizer = sklearn.feature_extraction.text.TfidfVectorizer(stop_words='english')\n",
    "#train\n",
    "amcgroupsTFVects = ngTFVectorizer.fit_transform(amcDF['text'])"
   ]
  },
  {
   "cell_type": "code",
   "execution_count": 62,
   "metadata": {
    "collapsed": true
   },
   "outputs": [],
   "source": [
    "# Initiate K-means cluster finder\n",
    "km = sklearn.cluster.KMeans(n_clusters=4, init='k-means++')\n",
    "km.fit(amcgroupsTFVects)\n",
    "amcDF['kmeans_predictions'] = km.labels_"
   ]
  },
  {
   "cell_type": "code",
   "execution_count": 64,
   "metadata": {},
   "outputs": [
    {
     "name": "stdout",
     "output_type": "stream",
     "text": [
      "Top terms per cluster:\n",
      "Cluster 0:\n",
      " babe\n",
      " kendall\n",
      " zach\n",
      " ryan\n",
      " know\n",
      " josh\n",
      " don\n",
      " just\n",
      " tad\n",
      " greenlee\n",
      "\n",
      "\n",
      "Cluster 1:\n",
      " bianca\n",
      " kendall\n",
      " know\n",
      " greenlee\n",
      " babe\n",
      " just\n",
      " ryan\n",
      " don\n",
      " erica\n",
      " maria\n",
      "\n",
      "\n",
      "Cluster 2:\n",
      " leo\n",
      " anna\n",
      " chris\n",
      " know\n",
      " mia\n",
      " greenlee\n",
      " liza\n",
      " david\n",
      " edmund\n",
      " don\n",
      "\n",
      "\n",
      "Cluster 3:\n",
      " annie\n",
      " know\n",
      " just\n",
      " jesse\n",
      " ryan\n",
      " jake\n",
      " don\n",
      " david\n",
      " greenlee\n",
      " angie\n",
      "\n",
      "\n"
     ]
    }
   ],
   "source": [
    "# Check distinguishing features in each cluster\n",
    "terms = ngTFVectorizer.get_feature_names()\n",
    "print(\"Top terms per cluster:\")\n",
    "order_centroids = km.cluster_centers_.argsort()[:, ::-1]\n",
    "for i in range(4):\n",
    "    print(\"Cluster %d:\" % i)\n",
    "    for ind in order_centroids[i, :10]:\n",
    "        print(' %s' % terms[ind])\n",
    "    print('\\n')"
   ]
  },
  {
   "cell_type": "markdown",
   "metadata": {},
   "source": [
    "### Topic Modeling"
   ]
  },
  {
   "cell_type": "code",
   "execution_count": 65,
   "metadata": {
    "collapsed": true
   },
   "outputs": [],
   "source": [
    "# First, import all the packages\n",
    "import nltk #the Natural Language Toolkit\n",
    "\n",
    "# Tokenize the texts\n",
    "amcDF['tokenized_text'] = amcDF['text'].apply(lambda x: nltk.word_tokenize(x))"
   ]
  },
  {
   "cell_type": "code",
   "execution_count": 66,
   "metadata": {
    "collapsed": true
   },
   "outputs": [],
   "source": [
    "# Normalization\n",
    "def normlizeTokens(tokenLst, stopwordLst = None, stemmer = None, lemmer = None):\n",
    "    #We can use a generator here as we just need to iterate over it\n",
    "\n",
    "    #Lowering the case and removing non-words\n",
    "    workingIter = (w.lower() for w in tokenLst if w.isalpha())\n",
    "\n",
    "    #Now we can use the semmer, if provided\n",
    "    if stemmer is not None:\n",
    "        workingIter = (stemmer.stem(w) for w in workingIter)\n",
    "        \n",
    "    #And the lemmer\n",
    "    if lemmer is not None:\n",
    "        workingIter = (lemmer.lemmatize(w) for w in workingIter)\n",
    "    \n",
    "    #And remove the stopwords\n",
    "    if stopwordLst is not None:\n",
    "        workingIter = (w for w in workingIter if w not in stopwordLst)\n",
    "    #We will return a list with the stopwords removed\n",
    "    return list(workingIter)\n",
    "\n",
    "from nltk.corpus import stopwords\n",
    "stop_words_nltk = stopwords.words('english')\n",
    "amcDF['normalized_tokens'] = amcDF['tokenized_text'].apply(lambda x: normlizeTokens(x, stopwordLst = stop_words_nltk, stemmer = nltk.stem.porter.PorterStemmer()))\n",
    "\n",
    "# Drop the tokenized and normalized words that are not in the vocabulary\n",
    "def dropMissing(wordLst, vocab):\n",
    "    return [w for w in wordLst if w in vocab]\n",
    "amcDF['reduced_tokens'] = amcDF['normalized_tokens'].apply(lambda x: dropMissing(x, ngCountVectorizer.vocabulary_.keys()))\n"
   ]
  },
  {
   "cell_type": "code",
   "execution_count": null,
   "metadata": {
    "collapsed": true
   },
   "outputs": [],
   "source": [
    "amc_d = gensim.corpora.Dictionary(amcDF['reduced_tokens'])\n",
    "amc_corpus = [amc_d.doc2bow(text) for text in amcDF['reduced_tokens']]\n",
    "gensim.corpora.MmCorpus.serialize('amc.mm', amc_corpus)\n",
    "amc_senmm = gensim.corpora.MmCorpus('amc.mm')\n",
    "\n",
    "amc_senlda = gensim.models.ldamodel.LdaModel(corpus=amc_senmm, id2word=amc_d, num_topics=10, alpha='auto', eta='auto')\n",
    "\n",
    "amc_ldaDF = pandas.DataFrame({\n",
    "        'name' : amcDF['file_name'],\n",
    "        'topics' : [amc_senlda[amc_d.doc2bow(l)] for l in amcDF['reduced_tokens']]\n",
    "    })"
   ]
  },
  {
   "cell_type": "code",
   "execution_count": null,
   "metadata": {
    "collapsed": true
   },
   "outputs": [],
   "source": [
    "#Dict to temporally hold the probabilities\n",
    "amc_topicsProbDict = {i : [0] * len(amc_ldaDF) for i in range(amc_senlda.num_topics)}\n",
    "#Load them into the dict\n",
    "for index, topicTuples in enumerate(amc_ldaDF['topics']):\n",
    "    for topicNum, prob in topicTuples:\n",
    "        amc_topicsProbDict[topicNum][index] = prob\n",
    "#Update the DataFrame\n",
    "for topicNum in range(amc_senlda.num_topics):\n",
    "    amc_ldaDF['topic_{}'.format(topicNum)] = amc_topicsProbDict[topicNum]\n",
    "\n",
    "#music_ldaDF[1::100]"
   ]
  },
  {
   "cell_type": "code",
   "execution_count": null,
   "metadata": {
    "collapsed": true
   },
   "outputs": [],
   "source": [
    "amc_ldaDFV = amc_ldaDF[:10][['topic_%d' %x for x in range(10)]]\n",
    "amc_ldaDFVisN = amc_ldaDF[:10][['name']]\n",
    "amc_ldaDFVis = amc_ldaDFV.as_matrix(columns=None)\n",
    "amc_ldaDFVisNames = amc_ldaDFVisN.as_matrix(columns=None)\n",
    "amc_ldaDFV"
   ]
  },
  {
   "cell_type": "markdown",
   "metadata": {},
   "source": [
    "### Word-Embedding"
   ]
  },
  {
   "cell_type": "code",
   "execution_count": null,
   "metadata": {
    "collapsed": true
   },
   "outputs": [],
   "source": [
    "# Build Word2Vec model\n",
    "amcDF['tokenized_sents'] = amcDF['text'].apply(lambda x: [nltk.word_tokenize(s) for s in nltk.sent_tokenize(x)])\n",
    "amcDF['normalized_sents'] = amcDF['tokenized_sents'].apply(lambda x: [lucem_illud.normalizeTokens(s, stopwordLst = lucem_illud.stop_words_basic, stemmer = None) for s in x])\n"
   ]
  },
  {
   "cell_type": "code",
   "execution_count": null,
   "metadata": {
    "collapsed": true
   },
   "outputs": [],
   "source": [
    "# word2vec\n",
    "musicW2V = gensim.models.word2vec.Word2Vec(df['normalized_sents'].sum())\n",
    "musicW2V.most_similar('home')\n",
    "musicW2V.most_similar('work')"
   ]
  },
  {
   "cell_type": "markdown",
   "metadata": {},
   "source": [
    "# Example Annotation Dataset"
   ]
  },
  {
   "cell_type": "markdown",
   "metadata": {},
   "source": [
    "Load Rzhetsky et al (2009)'s sample dataset, which can be found [here](https://github.com/enthought/uchicago-pyanno/tree/master/data). This data is the result of a content analytic / content extraction study in which Andrey Rzhetsky and colleagues from the National Library of Medicine, published [here](http://journals.plos.org/ploscompbiol/article?id=10.1371/journal.pcbi.1000391) in [PLOS Computational Biology](http://journals.plos.org/ploscompbiol/), gave eight annotators 10,000 sentence chunks from biomedical text in biomedical abstracts and articles, then asked them, in a loop design schematically illustrated below that provided 3 independent codings for each document. The sampling strategy pursued diversity by drawing from PubMed abstracts (1000) and full-text articles (9000: 20% from abstracts, 10% from introductions, 20% from methods, 25% from results, and 25% from discussions.) The dataset extract here involves respondents codes for sentences in terms of their *Evidence*: {0, 1, 2, 3, -1} where 0 is the complete lack of evidence, 3 is direct evidence present within the sentence, and -1 is didn't respond. (They also crowdsourced and analyzed *polarity*, *certainty*, and *number*). For example, consider the following two abutting sentence chunks: *\"Because null mutations in toxR and toxT abolish CT and TcpA expression in the El Tor biotype and also attenuate virulence...\"* [i.e., average certainty = 0], *\"...it is likely that the ToxR regulon has functional similarities between the two biotypes despite the clear differences in the inducing parameters observed in vitro\"* [i.e., average certainty = 1].\""
   ]
  },
  {
   "cell_type": "code",
   "execution_count": 3,
   "metadata": {
    "collapsed": true
   },
   "outputs": [],
   "source": [
    "x = np.loadtxt(\"../data/pyAnno/testdata_numerical.txt\")\n",
    "anno = AnnotationsContainer.from_array(x, missing_values=[-1])"
   ]
  },
  {
   "cell_type": "code",
   "execution_count": 4,
   "metadata": {},
   "outputs": [
    {
     "data": {
      "text/plain": [
       "array([[ 2.,  3.,  4., ..., -1., -1., -1.],\n",
       "       [ 1.,  1.,  1., ..., -1., -1., -1.],\n",
       "       [ 3.,  3.,  2., ..., -1., -1., -1.],\n",
       "       ...,\n",
       "       [ 3.,  3., -1., ..., -1., -1.,  2.],\n",
       "       [ 3.,  3., -1., ..., -1., -1.,  4.],\n",
       "       [ 2.,  2., -1., ..., -1., -1.,  1.]])"
      ]
     },
     "execution_count": 4,
     "metadata": {},
     "output_type": "execute_result"
    }
   ],
   "source": [
    "x"
   ]
  },
  {
   "cell_type": "markdown",
   "metadata": {},
   "source": [
    "Interrogate the AnnotationsContainer object."
   ]
  },
  {
   "cell_type": "code",
   "execution_count": 7,
   "metadata": {},
   "outputs": [
    {
     "data": {
      "text/plain": [
       "array([[ 1,  2,  3, ..., -1, -1, -1],\n",
       "       [ 0,  0,  0, ..., -1, -1, -1],\n",
       "       [ 2,  2,  1, ..., -1, -1, -1],\n",
       "       ...,\n",
       "       [ 2,  2, -1, ..., -1, -1,  1],\n",
       "       [ 2,  2, -1, ..., -1, -1,  3],\n",
       "       [ 1,  1, -1, ..., -1, -1,  0]])"
      ]
     },
     "execution_count": 7,
     "metadata": {},
     "output_type": "execute_result"
    }
   ],
   "source": [
    "anno.annotations"
   ]
  },
  {
   "cell_type": "code",
   "execution_count": 8,
   "metadata": {},
   "outputs": [
    {
     "data": {
      "text/plain": [
       "[1.0, 2.0, 3.0, 4.0]"
      ]
     },
     "execution_count": 8,
     "metadata": {},
     "output_type": "execute_result"
    }
   ],
   "source": [
    "anno.labels"
   ]
  },
  {
   "cell_type": "code",
   "execution_count": 9,
   "metadata": {},
   "outputs": [
    {
     "data": {
      "text/plain": [
       "[-1]"
      ]
     },
     "execution_count": 9,
     "metadata": {},
     "output_type": "execute_result"
    }
   ],
   "source": [
    "anno.missing_values"
   ]
  },
  {
   "cell_type": "markdown",
   "metadata": {},
   "source": [
    "# Annotation Statistics"
   ]
  },
  {
   "cell_type": "markdown",
   "metadata": {},
   "source": [
    "First, we assume categorical codes...that each code is qualitatively distinct from each other. Two measures are primarily used for this: Scott's $\\pi$, Cohen's $\\kappa$, and Krippendorff's $\\alpha$ which each measure the extent of agreement between two annotators, but take into account the possibility of the agreement occurring by chance in slightly different ways. Any agreement measure begins with the frequency of codes:"
   ]
  },
  {
   "cell_type": "code",
   "execution_count": 10,
   "metadata": {},
   "outputs": [
    {
     "data": {
      "text/plain": [
       "array([0.11666667, 0.245     , 0.34083333, 0.2975    ])"
      ]
     },
     "execution_count": 10,
     "metadata": {},
     "output_type": "execute_result"
    }
   ],
   "source": [
    "pyanno.measures.agreement.labels_frequency(anno.annotations,4)"
   ]
  },
  {
   "cell_type": "markdown",
   "metadata": {},
   "source": [
    "Now consider the \"confusion matrix\" or matrix of coded agreements between any two coders:"
   ]
  },
  {
   "cell_type": "code",
   "execution_count": 11,
   "metadata": {},
   "outputs": [
    {
     "name": "stdout",
     "output_type": "stream",
     "text": [
      "[[ 8.  7.  3.  2.]\n",
      " [ 9. 30. 13.  3.]\n",
      " [ 2.  9. 42. 11.]\n",
      " [ 1.  7. 14. 39.]]\n"
     ]
    },
    {
     "data": {
      "image/png": "[encoded data removed]",
      "text/plain": [
       "<matplotlib.figure.Figure at 0x10d38b2e8>"
      ]
     },
     "metadata": {},
     "output_type": "display_data"
    }
   ],
   "source": [
    "c = pyanno.measures.agreement.confusion_matrix(anno.annotations[:,0], anno.annotations[:,1],4)\n",
    "print(c)\n",
    "ac = seaborn.heatmap(c)\n",
    "plt.show()"
   ]
  },
  {
   "cell_type": "markdown",
   "metadata": {},
   "source": [
    "Scott's $\\pi$ is computed as:\n",
    "\n",
    "$\\pi = \\frac{\\text{Pr}(a)-\\text{Pr}(e)}{1-\\text{Pr}(e)}$\n",
    "\n",
    "Where Pr($a$) is relative observed agreement, and Pr($e$) is expected agreement using joint proportions calculated from the confusion matrix or matrix of coded agreements between any two coders:"
   ]
  },
  {
   "cell_type": "code",
   "execution_count": 12,
   "metadata": {},
   "outputs": [
    {
     "data": {
      "text/plain": [
       "0.4386478265891502"
      ]
     },
     "execution_count": 12,
     "metadata": {},
     "output_type": "execute_result"
    }
   ],
   "source": [
    "scotts_pi(anno.annotations[:,0], anno.annotations[:,1])"
   ]
  },
  {
   "cell_type": "markdown",
   "metadata": {},
   "source": [
    "The generalization of Scott's $\\pi$ to $n$ coders is Fleiss' $\\kappa$ (Fleiss called it $\\kappa$ because he thought he was generalizing Cohen's $\\kappa$)"
   ]
  },
  {
   "cell_type": "code",
   "execution_count": 13,
   "metadata": {},
   "outputs": [
    {
     "data": {
      "text/plain": [
       "0.40417653771912765"
      ]
     },
     "execution_count": 13,
     "metadata": {},
     "output_type": "execute_result"
    }
   ],
   "source": [
    "fleiss_kappa(anno.annotations[::])"
   ]
  },
  {
   "cell_type": "markdown",
   "metadata": {},
   "source": [
    "Krippendorff's $\\alpha$ generalizes of Fleiss' $\\kappa$ to $n$ coders and takes into account the fact that annotations here are not categorically different, but ordinal, by adding a weight matrix in which off-diagonal cells contain weights indicating the seriousness of the disagreement between each score. When produced with no arguments, it simply produces an arithmetic distance (e.g., 3-1=2), such that cells one off the diagonal are weighted 1, two off 2, etc."
   ]
  },
  {
   "cell_type": "code",
   "execution_count": 14,
   "metadata": {},
   "outputs": [
    {
     "data": {
      "text/plain": [
       "0.6472588223831547"
      ]
     },
     "execution_count": 14,
     "metadata": {},
     "output_type": "execute_result"
    }
   ],
   "source": [
    "krippendorffs_alpha(anno.annotations[::])"
   ]
  },
  {
   "cell_type": "markdown",
   "metadata": {},
   "source": [
    "Like Scott's $\\pi$, Cohen's $\\kappa$ also takes into account the possibility of the agreement occurring by chance, but in the following way:\n",
    "\n",
    "$\\kappa = \\frac{p_o-p_e}{1-p_e}=1-\\frac{1-p_o}{p_e}$\n",
    "\n",
    "where $p_o$ is the relative observed agreement among raters, and $p_e$ is the hypothetical probability of chance agreement, using the observed data to calculate the probabilities of each observer randomly saying each category. If the raters are in complete agreement then $\\kappa = 1$. If there is no agreement among the raters other than what would be expected by chance (as given by $p_e$), $\\kappa ≤ 0 $. Here, Cohen's $\\kappa$ statistic for the first two annotators is computed. This is probably the most common metric of agreement."
   ]
  },
  {
   "cell_type": "code",
   "execution_count": 15,
   "metadata": {},
   "outputs": [
    {
     "data": {
      "text/plain": [
       "0.43917037219392857"
      ]
     },
     "execution_count": 15,
     "metadata": {},
     "output_type": "execute_result"
    }
   ],
   "source": [
    "cohens_kappa(anno.annotations[:,0], anno.annotations[:,1])"
   ]
  },
  {
   "cell_type": "code",
   "execution_count": 16,
   "metadata": {},
   "outputs": [
    {
     "name": "stdout",
     "output_type": "stream",
     "text": [
      "[[1.         0.43917037 0.47677621        nan        nan        nan\n",
      "  0.45819119 0.43381462]\n",
      " [0.43917037 1.         0.38432922 0.41344423        nan        nan\n",
      "         nan 0.33643611]\n",
      " [0.47677621 0.38432922 1.         0.39583333 0.51704894        nan\n",
      "         nan        nan]\n",
      " [       nan 0.41344423 0.39583333 1.         0.34597068 0.4446844\n",
      "         nan        nan]\n",
      " [       nan        nan 0.51704894 0.34597068 1.         0.37938644\n",
      "  0.43039733        nan]\n",
      " [       nan        nan        nan 0.4446844  0.37938644 1.\n",
      "  0.38341929 0.31214748]\n",
      " [0.45819119        nan        nan        nan 0.43039733 0.38341929\n",
      "  1.         0.394806  ]\n",
      " [0.43381462 0.33643611        nan        nan        nan 0.31214748\n",
      "  0.394806   1.        ]]\n"
     ]
    }
   ],
   "source": [
    "m = pairwise_matrix(cohens_kappa, anno.annotations)\n",
    "print(m)"
   ]
  },
  {
   "cell_type": "code",
   "execution_count": 17,
   "metadata": {},
   "outputs": [
    {
     "data": {
      "image/png": "[encoded data removed]",
      "text/plain": [
       "<matplotlib.figure.Figure at 0x10d338e80>"
      ]
     },
     "metadata": {},
     "output_type": "display_data"
    }
   ],
   "source": [
    "ax = seaborn.heatmap(m)\n",
    "plt.show()"
   ]
  },
  {
   "cell_type": "markdown",
   "metadata": {},
   "source": [
    "You can see that this 8 by 3 loop design will be less stable than an 8 choose 3 combinatorial design, because each codes with more others. "
   ]
  },
  {
   "cell_type": "markdown",
   "metadata": {},
   "source": [
    "One can also assess the average Cohen's $\\kappa$ for all pairs of coders that have coded against one another:"
   ]
  },
  {
   "cell_type": "code",
   "execution_count": 18,
   "metadata": {},
   "outputs": [
    {
     "data": {
      "text/plain": [
       "0.40911598940065674"
      ]
     },
     "execution_count": 18,
     "metadata": {},
     "output_type": "execute_result"
    }
   ],
   "source": [
    "def pairwise_metric_average(metric, array):\n",
    "    \"\"\"Calculate the pairwise metric average for the real elements of metric function run on an array of annotations\"\"\"\n",
    "    p = permutations(range(array[0,:].size),2)\n",
    "    m = [metric(array[:,x[0]], array[:,x[1]]) for x in p]\n",
    "    clean_m = [c for c in m if not math.isnan(c)]\n",
    "    return reduce(lambda a, b: a + b, clean_m)/len(clean_m)    \n",
    " \n",
    "pairwise_metric_average(cohens_kappa, anno.annotations)"
   ]
  },
  {
   "cell_type": "markdown",
   "metadata": {},
   "source": [
    "As recognized with Krippendorff's flexible $\\alpha$, our scores are *not* categorical, but rather ordered and her considered metric. Weighted $\\kappa$ allows you to count disagreements differently and is useful when codes are ordered as they are here. Here a weight matrix is added to the calculation, in which off-diagonal cells contain weights indicating the seriousness of the disagreement between each score. When automatically produced, it simply produces an arithmetic distance (e.g., 3-1=2), such that cells one off the diagonal are weighted 1, two off 2, etc. Here\n",
    "\n",
    "$\\kappa = 1-\\frac{\\sum^k_{i=1}\\sum^k_{j=1}w_{ij}x_{ij}}{\\sum^k_{i=1}\\sum^k_{j=1}w_{ij}m_{ij}}$\n",
    "\n",
    "where $\\kappa$ = $n$ codes and $w_{ij}$,$x_{ij}$, and $m_{ij}$ represent elements in the weight, observed, and expected matrices, respectively. (Obviously, when diagonal cells contain weights of 0 and off-diagonal cells weights of 1, this equals $\\kappa$)."
   ]
  },
  {
   "cell_type": "code",
   "execution_count": 56,
   "metadata": {},
   "outputs": [
    {
     "data": {
      "text/plain": [
       "0.5330240507874497"
      ]
     },
     "execution_count": 56,
     "metadata": {},
     "output_type": "execute_result"
    }
   ],
   "source": [
    "cohens_weighted_kappa(anno.annotations[:,0], anno.annotations[:,1])"
   ]
  },
  {
   "cell_type": "markdown",
   "metadata": {},
   "source": [
    "Or averaged over the total:"
   ]
  },
  {
   "cell_type": "code",
   "execution_count": 20,
   "metadata": {},
   "outputs": [
    {
     "data": {
      "text/plain": [
       "0.5299113458717166"
      ]
     },
     "execution_count": 20,
     "metadata": {},
     "output_type": "execute_result"
    }
   ],
   "source": [
    "pairwise_metric_average(cohens_weighted_kappa,anno.annotations)"
   ]
  },
  {
   "cell_type": "markdown",
   "metadata": {},
   "source": [
    "Alternatively, if the annontation data can be understood as indicating real values, we can assess not agreement, but rather the correlation of values (Pearson's $\\rho$) or correlation of ranks (Spearman's $\\rho$) for pairs of coders:"
   ]
  },
  {
   "cell_type": "code",
   "execution_count": 21,
   "metadata": {},
   "outputs": [
    {
     "data": {
      "image/png": "[encoded data removed]",
      "text/plain": [
       "<matplotlib.figure.Figure at 0x10d637588>"
      ]
     },
     "metadata": {},
     "output_type": "display_data"
    },
    {
     "data": {
      "image/png": "[encoded data removed]",
      "text/plain": [
       "<matplotlib.figure.Figure at 0x10d6387f0>"
      ]
     },
     "metadata": {},
     "output_type": "display_data"
    }
   ],
   "source": [
    "n = pairwise_matrix(pearsons_rho, anno.annotations)\n",
    "m = pairwise_matrix(spearmans_rho, anno.annotations)\n",
    "an = seaborn.heatmap(n)\n",
    "plt.show()\n",
    "am = seaborn.heatmap(m)\n",
    "plt.show()"
   ]
  },
  {
   "cell_type": "markdown",
   "metadata": {},
   "source": [
    "Or averaged over all comparable pairs:"
   ]
  },
  {
   "cell_type": "code",
   "execution_count": 22,
   "metadata": {},
   "outputs": [
    {
     "name": "stdout",
     "output_type": "stream",
     "text": [
      "0.6517219321175077 0.63808488688039\n"
     ]
    }
   ],
   "source": [
    "print(pairwise_metric_average(pearsons_rho,anno.annotations), pairwise_metric_average(spearmans_rho,anno.annotations))"
   ]
  },
  {
   "cell_type": "markdown",
   "metadata": {},
   "source": [
    "## <span style=\"color:red\">*Excercise 2*</span>\n",
    "\n",
    "<span style=\"color:red\">Perform a content annotation survey of some kind in which at least 3 people evaluate and code each piece of content, using Amazon Mechanical Turk as described in the MTurk slides on this week's Canvas page.  With the resulting data, calculate, visualize and discuss inter-coder agreement or covariation with appropriate metrics. What does this means for the reliability of human assessments regarding content in your domain?"
   ]
  },
  {
   "cell_type": "markdown",
   "metadata": {},
   "source": [
    "<span style=\"color:blue\"> In the following exercises, I would use results of my survey on MTurk about impression on music genres (another project I'm individually working on) to discuss reliability of human assessments and coder accuracy. The survey asks MTurk workers to evaluate their preference and impression on several types of music genres. The first question is about the preference, and the others are about their impression.</span>"
   ]
  },
  {
   "cell_type": "code",
   "execution_count": 49,
   "metadata": {
    "collapsed": true
   },
   "outputs": [],
   "source": [
    "# Read in the original data\n",
    "df = pandas.read_csv('mturk_results.csv', usecols=['WorkTimeInSeconds', 'Answer.Gender', 'Answer.Type', 'Answer.age', 'Answer.classical_impression', 'Answer.electronic_impression', 'Answer.folk_impression', 'Answer.popular_impression', 'Answer.progressive_impression', 'Answer.psychedelic_impression', 'Answer.race'])\n",
    "\n",
    "# Hand code the textual answers of preferred types of genres into numerical data\n",
    "# For types of music genres: 0 = classical, 1 = electronic, 2 = folk, 3 = popular, \n",
    "#     4 = progressive, 5 = psychedelic\n",
    "# For attitude towards types of music genres: 1 = negative, 0 = neutral or NA, 2 = positive\n",
    "m = [[1, 0, 0, 3, 1, 0, 1, 0, 1, 0],\\\n",
    "     [2, 0, 0, 2, 2, 2, 0, 0, 0, 0],\\\n",
    "     [0, 0, 0, 0, 0, 2, 0, 0, 0, 0],\\\n",
    "     [1, 2, 0, 0, 0, 0, 2, 2, 0, 0],\\\n",
    "     [1, 0, 2, 2, 2, 2, 2, 0, 2, 0],\\\n",
    "     [1, -1, 2, 2, 0, 2, 2, 0, 2, 0],\\\n",
    "     [1, -1, 1, 1, 0, 1, 0, 0, 2, 0]]\n"
   ]
  },
  {
   "cell_type": "code",
   "execution_count": 50,
   "metadata": {},
   "outputs": [
    {
     "data": {
      "text/plain": [
       "array([[ 1,  0,  0,  3,  1,  0,  1,  0,  1,  0],\n",
       "       [ 2,  0,  0,  2,  2,  2,  0,  0,  0,  0],\n",
       "       [ 0,  0,  0,  0,  0,  2,  0,  0,  0,  0],\n",
       "       [ 1,  2,  0,  0,  0,  0,  2,  2,  0,  0],\n",
       "       [ 1,  0,  2,  2,  2,  2,  2,  0,  2,  0],\n",
       "       [ 1, -1,  2,  2,  0,  2,  2,  0,  2,  0],\n",
       "       [ 1, -1,  1,  1,  0,  1,  0,  0,  2,  0]])"
      ]
     },
     "execution_count": 50,
     "metadata": {},
     "output_type": "execute_result"
    }
   ],
   "source": [
    "# Initialize\n",
    "music_anno = AnnotationsContainer.from_array(m, missing_values=[-1])\n",
    "\n",
    "# Interrogate the AnnotationsContainer object\n",
    "music_anno.annotations"
   ]
  },
  {
   "cell_type": "code",
   "execution_count": 51,
   "metadata": {},
   "outputs": [
    {
     "data": {
      "text/plain": [
       "array([0.52941176, 0.16176471, 0.29411765, 0.01470588, 0.        ])"
      ]
     },
     "execution_count": 51,
     "metadata": {},
     "output_type": "execute_result"
    }
   ],
   "source": [
    "# Look for suitable number of classes\n",
    "pyanno.measures.agreement.labels_frequency(music_anno.annotations, 5)"
   ]
  },
  {
   "cell_type": "code",
   "execution_count": 52,
   "metadata": {},
   "outputs": [
    {
     "data": {
      "text/plain": [
       "array([0.52941176, 0.16176471, 0.29411765, 0.01470588])"
      ]
     },
     "execution_count": 52,
     "metadata": {},
     "output_type": "execute_result"
    }
   ],
   "source": [
    "# Look for suitable number of classes\n",
    "pyanno.measures.agreement.labels_frequency(music_anno.annotations, 4)"
   ]
  },
  {
   "cell_type": "markdown",
   "metadata": {},
   "source": [
    "<span style=\"color:blue\"> The above results show that the appropriate number of class should be 4.</span>"
   ]
  },
  {
   "cell_type": "code",
   "execution_count": 53,
   "metadata": {},
   "outputs": [
    {
     "name": "stdout",
     "output_type": "stream",
     "text": [
      "[[0. 0. 1. 0. 0. 0. 0.]\n",
      " [2. 1. 2. 0. 0. 0. 0.]\n",
      " [0. 0. 1. 0. 0. 0. 0.]\n",
      " [0. 0. 0. 0. 0. 0. 0.]\n",
      " [0. 0. 0. 0. 0. 0. 0.]\n",
      " [0. 0. 0. 0. 0. 0. 0.]\n",
      " [0. 0. 0. 0. 0. 0. 0.]]\n"
     ]
    },
    {
     "data": {
      "image/png": "[encoded data removed]",
      "text/plain": [
       "<matplotlib.figure.Figure at 0x11b7438d0>"
      ]
     },
     "metadata": {},
     "output_type": "display_data"
    }
   ],
   "source": [
    "# The \"confusion matrix\" or matrix of coded agreements between coder0 and coder5\n",
    "music_c = pyanno.measures.agreement.confusion_matrix(music_anno.annotations[:,0], music_anno.annotations[:,5],7)\n",
    "print(music_c)\n",
    "music_ac = seaborn.heatmap(music_c)\n",
    "plt.show()"
   ]
  },
  {
   "cell_type": "markdown",
   "metadata": {},
   "source": [
    "<span style=\"color:blue\"> The confusion matrix shows the coded agreements between coder0 and coder5. It suggests these two coders are similar on the first 3 questions. But they have no code in common on other questions."
   ]
  },
  {
   "cell_type": "code",
   "execution_count": 54,
   "metadata": {},
   "outputs": [
    {
     "name": "stdout",
     "output_type": "stream",
     "text": [
      "[[ 1.         -0.28       -0.11111111  0.1641791   0.11111111 -0.11111111\n",
      "  -0.09375    -0.42372881 -0.09375    -0.58490566]\n",
      " [-0.28        1.          0.17714286 -0.28       -0.64571429 -0.40487805\n",
      "   0.26153846  1.         -0.10769231 -0.30909091]\n",
      " [-0.11111111  0.17714286  1.          0.56923077  0.          0.53333333\n",
      "   0.28813559 -0.30232558  0.52542373 -0.2       ]\n",
      " [ 0.1641791  -0.28        0.56923077  1.          0.35384615  0.55555556\n",
      "   0.13846154 -0.47368421  0.35384615 -0.34615385]\n",
      " [ 0.11111111 -0.64571429  0.          0.35384615  1.          0.06666667\n",
      "   0.28813559 -0.30232558  0.28813559 -0.2       ]\n",
      " [-0.11111111 -0.40487805  0.53333333  0.55555556  0.06666667  1.\n",
      "  -0.18644068 -0.58490566  0.05084746 -0.42857143]\n",
      " [-0.09375     0.26153846  0.28813559  0.13846154  0.28813559 -0.18644068\n",
      "   1.          0.14285714  0.53333333 -0.30232558]\n",
      " [-0.42372881  1.         -0.30232558 -0.47368421 -0.30232558 -0.58490566\n",
      "   0.14285714  1.         -0.42857143 -0.07692308]\n",
      " [-0.09375    -0.10769231  0.52542373  0.35384615  0.28813559  0.05084746\n",
      "   0.53333333 -0.42857143  1.         -0.30232558]\n",
      " [-0.58490566 -0.30909091 -0.2        -0.34615385 -0.2        -0.42857143\n",
      "  -0.30232558 -0.07692308 -0.30232558         nan]]\n"
     ]
    },
    {
     "name": "stderr",
     "output_type": "stream",
     "text": [
      "/anaconda3/lib/python3.6/site-packages/pyanno/measures/helpers.py:166: RuntimeWarning: invalid value encountered in double_scalars\n",
      "  return (observed_agreement - chance_agreement) / (1. - chance_agreement)\n"
     ]
    },
    {
     "data": {
      "image/png": "[encoded data removed]",
      "text/plain": [
       "<matplotlib.figure.Figure at 0x11ad37b38>"
      ]
     },
     "metadata": {},
     "output_type": "display_data"
    }
   ],
   "source": [
    "# Scott's pi\n",
    "scotts_pi(music_anno.annotations[:,0], music_anno.annotations[:,1])\n",
    "m_scotts_pi = pairwise_matrix(scotts_pi, music_anno.annotations)\n",
    "print(m_scotts_pi)\n",
    "ax = seaborn.heatmap(m_scotts_pi)\n",
    "plt.title(\"Figure 1: Heatmap for Scott's Pi\")\n",
    "plt.show()"
   ]
  },
  {
   "cell_type": "code",
   "execution_count": 55,
   "metadata": {},
   "outputs": [
    {
     "name": "stderr",
     "output_type": "stream",
     "text": [
      "/anaconda3/lib/python3.6/site-packages/pyanno/measures/helpers.py:166: RuntimeWarning: invalid value encountered in double_scalars\n",
      "  return (observed_agreement - chance_agreement) / (1. - chance_agreement)\n"
     ]
    },
    {
     "name": "stdout",
     "output_type": "stream",
     "text": [
      "[[ 1.          0.06666667  0.07894737  0.28205128  0.26315789  0.07894737\n",
      "   0.07894737  0.          0.07894737  0.        ]\n",
      " [ 0.06666667  1.          0.17647059 -0.16666667 -0.64705882 -0.2173913\n",
      "   0.3         1.         -0.05        0.        ]\n",
      " [ 0.07894737  0.17647059  1.          0.58823529  0.          0.5625\n",
      "   0.3        -0.2173913   0.53333333  0.        ]\n",
      " [ 0.28205128 -0.16666667  0.58823529  1.          0.38235294  0.5625\n",
      "   0.15151515 -0.23529412  0.36363636  0.        ]\n",
      " [ 0.26315789 -0.64705882  0.          0.38235294  1.          0.125\n",
      "   0.3        -0.2173913   0.3         0.        ]\n",
      " [ 0.07894737 -0.2173913   0.5625      0.5625      0.125       1.\n",
      "  -0.16666667 -0.27272727  0.06666667  0.        ]\n",
      " [ 0.07894737  0.3         0.3         0.15151515  0.3        -0.16666667\n",
      "   1.          0.25        0.53333333  0.        ]\n",
      " [ 0.          1.         -0.2173913  -0.23529412 -0.2173913  -0.27272727\n",
      "   0.25        1.         -0.25        0.        ]\n",
      " [ 0.07894737 -0.05        0.53333333  0.36363636  0.3         0.06666667\n",
      "   0.53333333 -0.25        1.          0.        ]\n",
      " [ 0.          0.          0.          0.          0.          0.\n",
      "   0.          0.          0.                 nan]]\n"
     ]
    },
    {
     "data": {
      "image/png": "[encoded data removed]",
      "text/plain": [
       "<matplotlib.figure.Figure at 0x11b0965f8>"
      ]
     },
     "metadata": {},
     "output_type": "display_data"
    }
   ],
   "source": [
    "# Cohen's kappa\n",
    "m_cohens_kappa = pairwise_matrix(cohens_kappa, music_anno.annotations)\n",
    "print(m_cohens_kappa)\n",
    "ax = seaborn.heatmap(m_cohens_kappa)\n",
    "plt.title(\"Figure 2: Heatmap for Cohen's Kappa\")\n",
    "plt.show()"
   ]
  },
  {
   "cell_type": "markdown",
   "metadata": {},
   "source": [
    "<span style=\"color:blue\"> I use both Scott's Pi and Cohan's Kappa matrix to Figure 1 visualizes the Scott's Pi matrix, and Figure 2 visualizes the Cohen's Kappa matrix. In both of the matrices, 1 means the two coders are in complete agreement, while negative numbers mean the two coders have no aggreement. According to the results, coder2 stably agrees with coder3, coder5, and coder8. Coder6 is likely to agree with coder8. But coder5 doesn't have a high chance to agree with coder6. The other pairs are not likely to reach agreement. Comparing patterns in the two figures, we could see these 2 methods basically agree with each other, but Scott's Pi seems to be more sensitive to Cohan's Kappa.</span>"
   ]
  },
  {
   "cell_type": "markdown",
   "metadata": {},
   "source": [
    "<span style=\"color:blue\"> This casts doubts on reliability of humna coding in my case, since coders do not agree with each other in most of my cases. Or I need to expand my sample size to get a more general pattern of the agreement.</span>"
   ]
  },
  {
   "cell_type": "markdown",
   "metadata": {},
   "source": [
    "# Models"
   ]
  },
  {
   "cell_type": "markdown",
   "metadata": {},
   "source": [
    "However, what if some coders are better than others. The prior measures all rely on the assumption that all coders are equally good. What if some are worse than others? Now we use Rzhetsky et al (2009) and Dawid & Skene's models to make inference about true label classes by downweighting bad or deviant coders. Pyanno provides two relevant models: ModelB and ModelBt. Model B with $\\theta$s models the relationship between each coder and code. Model B is a Bayesian generalization of the Dawid & Skene model from the reading. The following image schematically describes these models. <img src=\"../data/pyanno/Bmodel.png\">"
   ]
  },
  {
   "cell_type": "markdown",
   "metadata": {},
   "source": [
    "The models should provide very similar results. To estimate the parameters for any models, we first need to create a new model. "
   ]
  },
  {
   "cell_type": "code",
   "execution_count": 5,
   "metadata": {},
   "outputs": [
    {
     "name": "stdout",
     "output_type": "stream",
     "text": [
      "[[[0.76513851 0.18545765 0.03613259 0.01327126]\n",
      "  [0.18889947 0.55713082 0.17673479 0.07723492]\n",
      "  [0.08924036 0.1047598  0.58295803 0.22304181]\n",
      "  [0.03870936 0.07840576 0.13139744 0.75148743]]\n",
      "\n",
      " [[0.79962449 0.10605601 0.08763687 0.00668264]\n",
      "  [0.14677479 0.64015339 0.14034133 0.07273049]\n",
      "  [0.1042019  0.20630792 0.63358845 0.05590174]\n",
      "  [0.12018565 0.08417664 0.15377318 0.64186453]]\n",
      "\n",
      " [[0.57218355 0.27787537 0.14480236 0.00513872]\n",
      "  [0.1212557  0.5606062  0.10766321 0.21047489]\n",
      "  [0.08760568 0.18216336 0.65458752 0.07564343]\n",
      "  [0.00893256 0.09064417 0.22968922 0.67073405]]\n",
      "\n",
      " [[0.66906516 0.17768564 0.05258803 0.10066116]\n",
      "  [0.16697322 0.62936408 0.20068297 0.00297973]\n",
      "  [0.02176536 0.26846953 0.60614554 0.10361957]\n",
      "  [0.07468807 0.07392333 0.37578372 0.47560488]]\n",
      "\n",
      " [[0.66385646 0.2083086  0.05794732 0.06988761]\n",
      "  [0.30002536 0.52664986 0.13422061 0.03910416]\n",
      "  [0.05231769 0.05911605 0.69797251 0.19059374]\n",
      "  [0.02220375 0.04437609 0.30680717 0.62661299]]\n",
      "\n",
      " [[0.77603219 0.08517541 0.10085492 0.03793748]\n",
      "  [0.07806823 0.71502799 0.06402886 0.14287492]\n",
      "  [0.03334577 0.06330125 0.69554702 0.20780596]\n",
      "  [0.00453232 0.05795762 0.23090186 0.7066082 ]]\n",
      "\n",
      " [[0.65655694 0.1971203  0.13091062 0.01541213]\n",
      "  [0.04697403 0.69521106 0.24122871 0.01658619]\n",
      "  [0.05522962 0.2130023  0.58839559 0.14337249]\n",
      "  [0.08090309 0.05926112 0.32991386 0.52992194]]\n",
      "\n",
      " [[0.5671789  0.1086006  0.18005115 0.14416935]\n",
      "  [0.16727598 0.57558982 0.08101154 0.17612266]\n",
      "  [0.05048401 0.14249459 0.5574117  0.2496097 ]\n",
      "  [0.02682667 0.03387864 0.0667027  0.87259199]]]\n",
      "-2891.038564809547\n"
     ]
    }
   ],
   "source": [
    "# create a new instance of model B, with 4 label classes\n",
    "model = ModelB.create_initial_state(4,8)\n",
    "# other model parameters are initialized from the model prior\n",
    "print(model.theta)\n",
    "print(model.log_likelihood(anno.annotations))"
   ]
  },
  {
   "cell_type": "markdown",
   "metadata": {},
   "source": [
    "Now we train the model on our data. Pyanno allows one to use either MAP (maximum a posteriori estimation) or MLE (maximum likelihood estimation) to estimate model parameters. Note that the parameters here correspond to our estimation of the accuracy of each annotator-annotation pair. First we will train with MAP, and then you can optionally training with MLE."
   ]
  },
  {
   "cell_type": "code",
   "execution_count": 6,
   "metadata": {
    "collapsed": true
   },
   "outputs": [],
   "source": [
    "samples = model.sample_posterior_over_accuracy(anno.annotations, 200, burn_in_samples=100, thin_samples=3)"
   ]
  },
  {
   "cell_type": "code",
   "execution_count": 7,
   "metadata": {},
   "outputs": [
    {
     "name": "stdout",
     "output_type": "stream",
     "text": [
      "[[[7.73398728e-01 2.01020245e-01 2.55810269e-02 1.20101219e-26]\n",
      "  [1.47832659e-01 7.11503767e-01 7.66499157e-02 6.40136580e-02]\n",
      "  [1.97431020e-02 1.48708709e-01 6.96639326e-01 1.34908863e-01]\n",
      "  [2.52463780e-18 2.13647377e-02 8.51550428e-02 8.93480220e-01]]\n",
      "\n",
      " [[7.19395465e-01 2.01828761e-01 7.87757734e-02 1.55486964e-13]\n",
      "  [1.33941799e-01 7.07223261e-01 1.10418200e-01 4.84167403e-02]\n",
      "  [2.72093282e-02 1.65178369e-01 6.71232700e-01 1.36379603e-01]\n",
      "  [2.15358721e-30 5.38211823e-02 1.21871740e-01 8.24307077e-01]]\n",
      "\n",
      " [[8.50073137e-01 1.22955501e-01 2.69713621e-02 3.64395738e-42]\n",
      "  [8.93514251e-02 7.89280333e-01 8.93429608e-02 3.20252811e-02]\n",
      "  [6.11638366e-02 1.29121422e-01 7.03992731e-01 1.05722011e-01]\n",
      "  [6.53666390e-03 5.12606512e-02 2.10869595e-01 7.31333090e-01]]\n",
      "\n",
      " [[6.99612801e-01 2.70976969e-01 2.94102301e-02 8.57899704e-52]\n",
      "  [9.67171336e-02 7.62615701e-01 1.09523823e-01 3.11433425e-02]\n",
      "  [1.81150586e-02 1.45472330e-01 6.85587954e-01 1.50824657e-01]\n",
      "  [2.71897111e-47 2.98511124e-02 2.28749569e-01 7.41399319e-01]]\n",
      "\n",
      " [[8.11803144e-01 1.19373545e-01 6.88233110e-02 9.13991546e-49]\n",
      "  [1.24726986e-01 6.93211818e-01 1.47008725e-01 3.50524714e-02]\n",
      "  [1.10580622e-02 2.13907919e-01 6.46719976e-01 1.28314044e-01]\n",
      "  [6.58948915e-52 5.98095047e-02 1.82979139e-01 7.57211357e-01]]\n",
      "\n",
      " [[7.71186748e-01 2.05349662e-01 2.34635900e-02 1.87519848e-51]\n",
      "  [1.10920303e-01 6.98703449e-01 1.62586425e-01 2.77898237e-02]\n",
      "  [2.69432947e-02 1.74971748e-01 6.58688648e-01 1.39396309e-01]\n",
      "  [1.04070689e-20 8.19488668e-02 1.50728042e-01 7.67323091e-01]]\n",
      "\n",
      " [[7.77751875e-01 1.41612394e-01 8.06357307e-02 7.49343463e-22]\n",
      "  [1.14108703e-01 6.72056519e-01 1.68346177e-01 4.54886006e-02]\n",
      "  [1.60943993e-02 1.18997632e-01 7.24591200e-01 1.40316769e-01]\n",
      "  [9.41957786e-52 4.72911966e-02 1.30538454e-01 8.22170350e-01]]\n",
      "\n",
      " [[8.52754118e-01 1.18087361e-01 2.91585215e-02 1.95577162e-42]\n",
      "  [1.29319568e-01 6.36012446e-01 1.95669325e-01 3.89986612e-02]\n",
      "  [2.96631200e-02 1.67273811e-01 6.42736730e-01 1.60326339e-01]\n",
      "  [1.03418107e-24 4.32627993e-02 1.13010804e-01 8.43726397e-01]]]\n",
      "-2625.8850676193924\n"
     ]
    }
   ],
   "source": [
    "model.map(anno.annotations)\n",
    "print(model.theta)\n",
    "print(model.log_likelihood(anno.annotations))"
   ]
  },
  {
   "cell_type": "markdown",
   "metadata": {},
   "source": [
    "Uncomment the cell below if you would rather train by MLE."
   ]
  },
  {
   "cell_type": "code",
   "execution_count": null,
   "metadata": {
    "collapsed": true
   },
   "outputs": [],
   "source": [
    "#model = ModelB.create_initial_state(4,8)\n",
    "#model.mle(anno.annotations)\n",
    "#print(model.theta)\n",
    "#print(model.log_likelihood(anno.annotations))"
   ]
  },
  {
   "cell_type": "markdown",
   "metadata": {},
   "source": [
    "Once we have model parameters estimated, we can now make inferences about the true label classes. We can calculate the posterior distribution over the true label classes."
   ]
  },
  {
   "cell_type": "code",
   "execution_count": 8,
   "metadata": {},
   "outputs": [
    {
     "name": "stdout",
     "output_type": "stream",
     "text": [
      "[[1.20741380e-42 1.00240780e-01 7.90821679e-01 1.08937540e-01]\n",
      " [9.92682453e-01 7.07056554e-03 2.46981317e-04 2.03944498e-49]\n",
      " [1.07420297e-03 5.51435353e-02 9.37476514e-01 6.30574822e-03]\n",
      " ...\n",
      " [8.15378491e-04 3.51193436e-02 9.59859130e-01 4.20614824e-03]\n",
      " [1.34481992e-44 2.14447325e-03 9.16166870e-01 8.16886569e-02]\n",
      " [2.14745550e-01 7.69057353e-01 1.61970966e-02 2.01807019e-26]]\n"
     ]
    }
   ],
   "source": [
    "posterior = model.infer_labels(anno.annotations)\n",
    "print(posterior)"
   ]
  },
  {
   "cell_type": "markdown",
   "metadata": {},
   "source": [
    "Let's turn the posterior of the first 100 samples into a heatmap and compare with the raw vote tallies."
   ]
  },
  {
   "cell_type": "code",
   "execution_count": 9,
   "metadata": {
    "collapsed": true
   },
   "outputs": [],
   "source": [
    "def makeQuestionComparison(model, anno_target, num_questions = 20):\n",
    "    votes = []\n",
    "    for r in anno_target.annotations:\n",
    "        v = [0] * len(anno_target.labels)\n",
    "        votes.append(v)\n",
    "        for a in r:\n",
    "            if a > -1:\n",
    "                v[a] += 1\n",
    "    votes_array = np.array(votes)\n",
    "    posterior = model.infer_labels(anno_target.annotations)\n",
    "    fig, (ax1, ax2) = plt.subplots(ncols=2, figsize = (15, 10), sharey=True)\n",
    "\n",
    "    seaborn.heatmap(votes_array[:num_questions], annot = True, ax=ax2)\n",
    "    seaborn.heatmap(np.nan_to_num(posterior,0)[:num_questions], annot=True, ax =ax1)\n",
    "    ax1.set_title(\"Model\")\n",
    "    ax2.set_title(\"Votes\")\n",
    "    return fig, (ax1, ax2)"
   ]
  },
  {
   "cell_type": "code",
   "execution_count": 10,
   "metadata": {},
   "outputs": [
    {
     "data": {
      "text/plain": [
       "(<matplotlib.figure.Figure at 0x116372470>,\n",
       " (<matplotlib.axes._subplots.AxesSubplot at 0x119cb0898>,\n",
       "  <matplotlib.axes._subplots.AxesSubplot at 0x11a1c68d0>))"
      ]
     },
     "execution_count": 10,
     "metadata": {},
     "output_type": "execute_result"
    },
    {
     "data": {
      "image/png": "[encoded data removed]",
      "text/plain": [
       "<matplotlib.figure.Figure at 0x116372470>"
      ]
     },
     "metadata": {},
     "output_type": "display_data"
    }
   ],
   "source": [
    "makeQuestionComparison(model, anno)"
   ]
  },
  {
   "cell_type": "markdown",
   "metadata": {},
   "source": [
    "This differs markedly from taking annotator scores at face value. As you can see (the model-based probabilities are on left; the raw votes on right), the models helps us break ties between coders and in some cases dramatically downgrades the estimates from particularly bad coders."
   ]
  },
  {
   "cell_type": "markdown",
   "metadata": {},
   "source": [
    "Let's try everything again with ModelBt, which constrains ModelB so that each coder has a single estimate over the accuracy of all of their codes."
   ]
  },
  {
   "cell_type": "code",
   "execution_count": 11,
   "metadata": {},
   "outputs": [
    {
     "name": "stdout",
     "output_type": "stream",
     "text": [
      "[0.72482894 0.90326757 0.62687962 0.89494766 0.80611172 0.64958288\n",
      " 0.70349672 0.65258743]\n",
      "-3031.226076712136\n"
     ]
    }
   ],
   "source": [
    "# create a new instance of model B, with 4 label classes and 8 annotators.\n",
    "model = ModelBt.create_initial_state(4, 8)\n",
    "print(model.theta)\n",
    "print(model.log_likelihood(anno.annotations))"
   ]
  },
  {
   "cell_type": "code",
   "execution_count": 12,
   "metadata": {},
   "outputs": [
    {
     "name": "stdout",
     "output_type": "stream",
     "text": [
      "[0.79145202 0.74074114 0.76229097 0.72511116 0.71656715 0.71857358\n",
      " 0.77311358 0.71681384]\n",
      "-2811.946626920941\n"
     ]
    }
   ],
   "source": [
    "model.map(anno.annotations)\n",
    "print(model.theta)\n",
    "print(model.log_likelihood(anno.annotations))"
   ]
  },
  {
   "cell_type": "code",
   "execution_count": 13,
   "metadata": {},
   "outputs": [
    {
     "data": {
      "text/plain": [
       "array([[0.83150371, 0.77672925, 0.72502734, ..., 0.70507919, 0.74532995,\n",
       "        0.71057028],\n",
       "       [0.83150371, 0.77672925, 0.72502734, ..., 0.70507919, 0.74532995,\n",
       "        0.71057028],\n",
       "       [0.83150371, 0.77672925, 0.72502734, ..., 0.70507919, 0.74532995,\n",
       "        0.71057028],\n",
       "       ...,\n",
       "       [0.80199998, 0.73908683, 0.79593613, ..., 0.77431856, 0.72157263,\n",
       "        0.6847573 ],\n",
       "       [0.80199998, 0.73908683, 0.79593613, ..., 0.77431856, 0.72157263,\n",
       "        0.6847573 ],\n",
       "       [0.80199998, 0.73908683, 0.79593613, ..., 0.77431856, 0.72157263,\n",
       "        0.6847573 ]])"
      ]
     },
     "execution_count": 13,
     "metadata": {},
     "output_type": "execute_result"
    }
   ],
   "source": [
    "model.sample_posterior_over_accuracy(anno.annotations, 200, burn_in_samples=100, thin_samples=3)"
   ]
  },
  {
   "cell_type": "code",
   "execution_count": 15,
   "metadata": {},
   "outputs": [
    {
     "name": "stdout",
     "output_type": "stream",
     "text": [
      "[[0.01109925 0.28949235 0.36481155 0.33459685]\n",
      " [0.9902341  0.0024163  0.00404453 0.00330506]\n",
      " [0.00249761 0.0550459  0.93463018 0.00782631]\n",
      " ...\n",
      " [0.00252691 0.04395922 0.94559574 0.00791813]\n",
      " [0.00249193 0.00570873 0.93250364 0.0592957 ]\n",
      " [0.03188989 0.93884749 0.01610343 0.0131592 ]]\n"
     ]
    }
   ],
   "source": [
    "posterior = model.infer_labels(anno.annotations)\n",
    "print(posterior)"
   ]
  },
  {
   "cell_type": "markdown",
   "metadata": {},
   "source": [
    "Let's visualize the posterior of the first 10 samples according to ModelBt."
   ]
  },
  {
   "cell_type": "code",
   "execution_count": 16,
   "metadata": {},
   "outputs": [
    {
     "data": {
      "text/plain": [
       "(<matplotlib.figure.Figure at 0x119bffa90>,\n",
       " (<matplotlib.axes._subplots.AxesSubplot at 0x11a7ad208>,\n",
       "  <matplotlib.axes._subplots.AxesSubplot at 0x11a81aba8>))"
      ]
     },
     "execution_count": 16,
     "metadata": {},
     "output_type": "execute_result"
    },
    {
     "data": {
      "image/png": "[encoded data removed]",
      "text/plain": [
       "<matplotlib.figure.Figure at 0x119bffa90>"
      ]
     },
     "metadata": {},
     "output_type": "display_data"
    }
   ],
   "source": [
    "makeQuestionComparison(model, anno)"
   ]
  },
  {
   "cell_type": "markdown",
   "metadata": {},
   "source": [
    "The property of these scores is that they enable us to identify the most likely code assuming coders of unequal quality, which also allows us to break ties when we know coder identity. We may also use the posterior themselves rather than the most probably code outcome."
   ]
  },
  {
   "cell_type": "markdown",
   "metadata": {},
   "source": [
    "## Visualizing coder accuracy"
   ]
  },
  {
   "cell_type": "markdown",
   "metadata": {},
   "source": [
    "Let's make a plot of the accuracy for each annotator inferred from ModelBt. This might be helpful if you wanted to ban a \"troll\" from your crowdsourcing enterprise. The coder a very low accuracy likelihood is an outlier and should be \"dropped from the team.\""
   ]
  },
  {
   "cell_type": "code",
   "execution_count": 17,
   "metadata": {
    "collapsed": true
   },
   "outputs": [],
   "source": [
    "model = ModelBt.create_initial_state(4,8)\n",
    "model.mle(anno.annotations)\n",
    "samples = model.sample_posterior_over_accuracy(anno.annotations, 200, burn_in_samples=100, thin_samples=3)\n",
    "y =  samples.mean(axis=0)\n",
    "y_ci = samples.std(axis=0)"
   ]
  },
  {
   "cell_type": "code",
   "execution_count": 18,
   "metadata": {},
   "outputs": [
    {
     "data": {
      "image/png": "[encoded data removed]",
      "text/plain": [
       "<matplotlib.figure.Figure at 0x11a7fa588>"
      ]
     },
     "metadata": {},
     "output_type": "display_data"
    }
   ],
   "source": [
    "plt.figure()\n",
    "plt.errorbar(range(8),y, yerr = y_ci)\n",
    "plt.show()"
   ]
  },
  {
   "cell_type": "markdown",
   "metadata": {},
   "source": [
    "# Hotel Reviews"
   ]
  },
  {
   "cell_type": "markdown",
   "metadata": {},
   "source": [
    "If we want to do a simpler analysis we can look at a different data set, here are some hotel reviews from [expedia](https://www.kaggle.com/c/expedia-hotel-recommendations)"
   ]
  },
  {
   "cell_type": "code",
   "execution_count": null,
   "metadata": {
    "collapsed": true
   },
   "outputs": [],
   "source": [
    "df_hotels = pandas.read_csv('../data/hot_Reviews.csv', index_col=0)\n",
    "df_hotels[:5]"
   ]
  },
  {
   "cell_type": "markdown",
   "metadata": {},
   "source": [
    "Here a rank of 0 is a missing value and to simplify things more we will convert from a 1-10 scale to a 1-5 scale, with 0 as missing"
   ]
  },
  {
   "cell_type": "code",
   "execution_count": null,
   "metadata": {
    "collapsed": true
   },
   "outputs": [],
   "source": [
    "df_hotels = df_hotels.apply(lambda x: x // 2) #integer divide by 2 rounds all values"
   ]
  },
  {
   "cell_type": "markdown",
   "metadata": {},
   "source": [
    "And we can visualize all the reviews as a heatmap with the missing values greyed out"
   ]
  },
  {
   "cell_type": "code",
   "execution_count": null,
   "metadata": {
    "collapsed": true
   },
   "outputs": [],
   "source": [
    "fig, ax = plt.subplots(figsize = (20,20))\n",
    "seaborn.heatmap(df_hotels, cmap='rainbow', ax = ax)\n",
    "plt.show()"
   ]
  },
  {
   "cell_type": "markdown",
   "metadata": {},
   "source": [
    "To give the dataframe to pyanno we need to convert to np array and change the nans to intergers, lets use -1"
   ]
  },
  {
   "cell_type": "code",
   "execution_count": null,
   "metadata": {
    "collapsed": true
   },
   "outputs": [],
   "source": [
    "hot_mat = np.array(df_hotels.fillna(-1).as_matrix())\n",
    "anno_hot = AnnotationsContainer.from_array(hot_mat, missing_values=[-1])"
   ]
  },
  {
   "cell_type": "code",
   "execution_count": null,
   "metadata": {
    "collapsed": true
   },
   "outputs": [],
   "source": [
    "anno_hot.annotations"
   ]
  },
  {
   "cell_type": "code",
   "execution_count": null,
   "metadata": {
    "collapsed": true
   },
   "outputs": [],
   "source": [
    "anno_hot.labels"
   ]
  },
  {
   "cell_type": "code",
   "execution_count": null,
   "metadata": {
    "collapsed": true
   },
   "outputs": [],
   "source": [
    "anno_hot.missing_values"
   ]
  },
  {
   "cell_type": "markdown",
   "metadata": {},
   "source": [
    "Look at coder agreement"
   ]
  },
  {
   "cell_type": "code",
   "execution_count": null,
   "metadata": {
    "collapsed": true
   },
   "outputs": [],
   "source": [
    "pyanno.measures.agreement.labels_frequency(anno_hot.annotations, 6)#6 possible catagories"
   ]
  },
  {
   "cell_type": "code",
   "execution_count": null,
   "metadata": {
    "collapsed": true
   },
   "outputs": [],
   "source": [
    "c = pyanno.measures.agreement.confusion_matrix(anno_hot.annotations[:,0], anno_hot.annotations[:,1], 6) #6 possible catagories\n",
    "print(c)\n",
    "ac = seaborn.heatmap(c)\n",
    "plt.show()"
   ]
  },
  {
   "cell_type": "markdown",
   "metadata": {},
   "source": [
    "Most agreement is on 2 i.e. an average hotel and there's little agreement as rating go higher, likely due to scarcity in the sample"
   ]
  },
  {
   "cell_type": "code",
   "execution_count": null,
   "metadata": {
    "collapsed": true
   },
   "outputs": [],
   "source": [
    "scotts_pi(anno_hot.annotations[:,0], anno_hot.annotations[:,1])"
   ]
  },
  {
   "cell_type": "code",
   "execution_count": null,
   "metadata": {
    "collapsed": true
   },
   "outputs": [],
   "source": [
    "krippendorffs_alpha(anno_hot.annotations[::])"
   ]
  },
  {
   "cell_type": "code",
   "execution_count": null,
   "metadata": {
    "collapsed": true
   },
   "outputs": [],
   "source": [
    "cohens_kappa(anno_hot.annotations[:,0], anno_hot.annotations[:,1])"
   ]
  },
  {
   "cell_type": "code",
   "execution_count": null,
   "metadata": {
    "collapsed": true
   },
   "outputs": [],
   "source": [
    "m = pairwise_matrix(cohens_kappa, anno_hot.annotations)\n",
    "fig, ax = plt.subplots(figsize = (15, 15))\n",
    "seaborn.heatmap(m, ax =ax)"
   ]
  },
  {
   "cell_type": "markdown",
   "metadata": {},
   "source": [
    "And to look at what model Bt thinkgs the correct reviews are:"
   ]
  },
  {
   "cell_type": "code",
   "execution_count": null,
   "metadata": {
    "collapsed": true
   },
   "outputs": [],
   "source": [
    "model_hot = ModelBt.create_initial_state(6, 49)\n",
    "model_hot.mle(anno_hot.annotations)\n",
    "#print(model.theta)\n",
    "print(model_hot.log_likelihood(anno_hot.annotations))"
   ]
  },
  {
   "cell_type": "code",
   "execution_count": null,
   "metadata": {
    "collapsed": true
   },
   "outputs": [],
   "source": [
    "makeQuestionComparison(model_hot, anno_hot)"
   ]
  },
  {
   "cell_type": "markdown",
   "metadata": {},
   "source": [
    "## <span style=\"color:red\">*Exercise 3*</span>\n",
    "\n",
    "<span style=\"color:red\">In the cells immediately following, use the results of your content annotation survey to predict high and low-quality analysts, then predict MLE or MAP estimates for your codes in question. What do these estimates suggest about the distribution of skill among your coders? How different are these estimates from a majority vote?"
   ]
  },
  {
   "cell_type": "markdown",
   "metadata": {},
   "source": [
    "<span style=\"color:blue\"> Here I predict MLE estimates for my codes.</span>"
   ]
  },
  {
   "cell_type": "code",
   "execution_count": 42,
   "metadata": {},
   "outputs": [
    {
     "name": "stdout",
     "output_type": "stream",
     "text": [
      "[[[0.53123931 0.27256958 0.14311926 0.05307186]\n",
      "  [0.15543972 0.57922391 0.10922796 0.15610841]\n",
      "  [0.03114765 0.19356962 0.51977657 0.25550616]\n",
      "  [0.03228449 0.11788518 0.31204818 0.53778214]]\n",
      "\n",
      " [[0.49505626 0.27399462 0.19817714 0.03277199]\n",
      "  [0.09806608 0.70292135 0.12916457 0.069848  ]\n",
      "  [0.09341644 0.17546856 0.57387941 0.15723559]\n",
      "  [0.02769359 0.03207661 0.20336135 0.73686846]]\n",
      "\n",
      " [[0.73859474 0.23401117 0.02255543 0.00483866]\n",
      "  [0.05141666 0.78598058 0.0170291  0.14557366]\n",
      "  [0.13564858 0.09883835 0.67706809 0.08844498]\n",
      "  [0.02630143 0.04604637 0.26600047 0.66165173]]\n",
      "\n",
      " [[0.85304708 0.08371644 0.0441545  0.01908199]\n",
      "  [0.13812135 0.64249174 0.17356714 0.04581977]\n",
      "  [0.0689724  0.07868856 0.79050569 0.06183335]\n",
      "  [0.00640341 0.145549   0.14852488 0.69952271]]\n",
      "\n",
      " [[0.74061159 0.18792055 0.05526473 0.01620313]\n",
      "  [0.19643936 0.63008201 0.15742249 0.01605614]\n",
      "  [0.08200562 0.2461362  0.61093879 0.06091939]\n",
      "  [0.12475708 0.11572353 0.18116762 0.57835176]]\n",
      "\n",
      " [[0.89304607 0.02817953 0.06721959 0.01155481]\n",
      "  [0.09616199 0.72746109 0.10480344 0.07157348]\n",
      "  [0.02132307 0.15490123 0.63348373 0.19029198]\n",
      "  [0.0036257  0.08959619 0.15940061 0.7473775 ]]\n",
      "\n",
      " [[0.6579845  0.166372   0.13026648 0.04537702]\n",
      "  [0.20578422 0.50970422 0.18980313 0.09470842]\n",
      "  [0.06714623 0.08388184 0.70026237 0.14870956]\n",
      "  [0.05109795 0.01563948 0.40312574 0.53013683]]\n",
      "\n",
      " [[0.54144052 0.14298377 0.14215167 0.17342404]\n",
      "  [0.12900406 0.56860927 0.20816471 0.09422196]\n",
      "  [0.04730359 0.22363542 0.60874931 0.12031167]\n",
      "  [0.12188008 0.00450207 0.20207747 0.67154038]]\n",
      "\n",
      " [[0.63862919 0.1428872  0.17131161 0.04717201]\n",
      "  [0.15371634 0.60377503 0.06976506 0.17274357]\n",
      "  [0.07720561 0.05745301 0.80633764 0.05900375]\n",
      "  [0.0932487  0.13031386 0.16126457 0.61517287]]\n",
      "\n",
      " [[0.58601413 0.21673104 0.1508064  0.04644843]\n",
      "  [0.12422822 0.72623437 0.08383251 0.06570491]\n",
      "  [0.08157953 0.05233951 0.74967953 0.11640143]\n",
      "  [0.00303501 0.0371468  0.12522631 0.83459188]]]\n",
      "-86.98541379810231\n"
     ]
    }
   ],
   "source": [
    "## Train model by MLE\n",
    "# Create a new instance of model B, with 4 label classes\n",
    "music_model = ModelB.create_initial_state(4,10)\n",
    "# Other model parameters are initialized from the model prior\n",
    "print(music_model.theta)\n",
    "print(music_model.log_likelihood(music_anno.annotations))"
   ]
  },
  {
   "cell_type": "code",
   "execution_count": 43,
   "metadata": {},
   "outputs": [
    {
     "data": {
      "text/plain": [
       "(array([[[[4.84921537e-01, 3.49962924e-01, 1.59128550e-01,\n",
       "           5.98698870e-03],\n",
       "          [1.15160172e-01, 7.24156614e-01, 1.06152152e-01,\n",
       "           5.45310612e-02],\n",
       "          [7.24559554e-02, 1.13114446e-01, 6.76596510e-01,\n",
       "           1.37833089e-01],\n",
       "          [1.17971963e-02, 2.48158220e-02, 2.26142563e-01,\n",
       "           7.37244419e-01]],\n",
       " \n",
       "         [[7.68823919e-01, 1.00954298e-01, 5.85418759e-02,\n",
       "           7.16799066e-02],\n",
       "          [1.64959167e-01, 5.65591915e-01, 1.47646348e-01,\n",
       "           1.21802571e-01],\n",
       "          [4.51352689e-02, 2.08573619e-01, 5.23008433e-01,\n",
       "           2.23282679e-01],\n",
       "          [2.50098013e-02, 8.47888348e-02, 6.68417081e-02,\n",
       "           8.23359656e-01]],\n",
       " \n",
       "         [[6.22230055e-01, 1.99624895e-01, 1.11277489e-01,\n",
       "           6.68675607e-02],\n",
       "          [1.74985448e-01, 6.15008507e-01, 1.21250267e-01,\n",
       "           8.87557781e-02],\n",
       "          [6.97887998e-02, 1.96742984e-01, 5.35009892e-01,\n",
       "           1.98458325e-01],\n",
       "          [1.89300532e-02, 1.11508433e-01, 1.82004540e-01,\n",
       "           6.87556974e-01]],\n",
       " \n",
       "         ...,\n",
       " \n",
       "         [[6.98974725e-01, 1.85055112e-01, 1.05747182e-01,\n",
       "           1.02229816e-02],\n",
       "          [3.66789666e-02, 7.66890073e-01, 1.16108206e-01,\n",
       "           8.03227542e-02],\n",
       "          [3.37119677e-02, 1.09681399e-01, 7.47538359e-01,\n",
       "           1.09068274e-01],\n",
       "          [6.89451178e-03, 1.40702052e-01, 2.08621041e-01,\n",
       "           6.43782396e-01]],\n",
       " \n",
       "         [[8.24224666e-01, 9.09148365e-02, 6.61104849e-02,\n",
       "           1.87500128e-02],\n",
       "          [9.68435737e-02, 7.27720910e-01, 1.54768609e-01,\n",
       "           2.06669071e-02],\n",
       "          [4.00674501e-02, 3.95634986e-02, 8.26851173e-01,\n",
       "           9.35178779e-02],\n",
       "          [9.19570694e-02, 1.54332955e-01, 2.80124862e-01,\n",
       "           4.73585114e-01]],\n",
       " \n",
       "         [[8.87970701e-01, 4.49248965e-02, 6.70944993e-02,\n",
       "           9.90274072e-06],\n",
       "          [1.84835818e-01, 6.19309748e-01, 7.77041790e-02,\n",
       "           1.18150255e-01],\n",
       "          [2.80063866e-02, 2.25296393e-01, 6.16563664e-01,\n",
       "           1.30133556e-01],\n",
       "          [1.32861361e-02, 2.13791859e-02, 9.15158861e-02,\n",
       "           8.73818792e-01]]],\n",
       " \n",
       " \n",
       "        [[[5.28542133e-01, 3.62897963e-01, 1.07106595e-01,\n",
       "           1.45330874e-03],\n",
       "          [2.59376421e-01, 6.06361597e-01, 1.19099054e-01,\n",
       "           1.51629274e-02],\n",
       "          [7.52328872e-03, 2.86867979e-01, 5.83732082e-01,\n",
       "           1.21876650e-01],\n",
       "          [1.74904485e-02, 1.15605602e-01, 1.52285130e-01,\n",
       "           7.14618819e-01]],\n",
       " \n",
       "         [[7.52124787e-01, 8.62828975e-02, 1.46299048e-01,\n",
       "           1.52932671e-02],\n",
       "          [6.14791718e-02, 8.29108113e-01, 9.54364955e-02,\n",
       "           1.39762198e-02],\n",
       "          [7.65592833e-02, 1.84395881e-01, 7.00691210e-01,\n",
       "           3.83536256e-02],\n",
       "          [7.47593901e-02, 3.28609005e-02, 3.25000127e-01,\n",
       "           5.67379583e-01]],\n",
       " \n",
       "         [[8.05542614e-01, 1.57696329e-01, 2.50612033e-02,\n",
       "           1.16998537e-02],\n",
       "          [2.10716852e-01, 5.19244835e-01, 5.21072959e-02,\n",
       "           2.17931017e-01],\n",
       "          [1.69279898e-02, 3.51986802e-01, 5.47762621e-01,\n",
       "           8.33225865e-02],\n",
       "          [7.34417376e-02, 9.64382749e-02, 1.71788288e-01,\n",
       "           6.58331699e-01]],\n",
       " \n",
       "         ...,\n",
       " \n",
       "         [[7.54351134e-01, 9.74300836e-02, 8.12724905e-02,\n",
       "           6.69462914e-02],\n",
       "          [1.64717006e-01, 6.75553254e-01, 1.05996961e-01,\n",
       "           5.37327782e-02],\n",
       "          [1.25166569e-01, 1.13006974e-01, 6.56427971e-01,\n",
       "           1.05398486e-01],\n",
       "          [2.22457458e-02, 1.73940269e-01, 1.15271733e-01,\n",
       "           6.88542253e-01]],\n",
       " \n",
       "         [[7.30950836e-01, 1.44486433e-01, 6.73586323e-02,\n",
       "           5.72040994e-02],\n",
       "          [1.07557340e-01, 6.60758092e-01, 2.23798304e-01,\n",
       "           7.88626468e-03],\n",
       "          [2.28945876e-01, 9.63301154e-02, 5.39785517e-01,\n",
       "           1.34938491e-01],\n",
       "          [2.40039125e-02, 4.98391960e-02, 1.33448655e-01,\n",
       "           7.92708237e-01]],\n",
       " \n",
       "         [[7.16632229e-01, 1.28583542e-01, 5.44092386e-02,\n",
       "           1.00374990e-01],\n",
       "          [1.72551405e-01, 6.60400149e-01, 1.59259917e-01,\n",
       "           7.78852857e-03],\n",
       "          [1.08385604e-01, 1.83333623e-01, 4.98256975e-01,\n",
       "           2.10023798e-01],\n",
       "          [4.59657295e-03, 7.21996697e-02, 1.70993934e-01,\n",
       "           7.52209823e-01]]],\n",
       " \n",
       " \n",
       "        [[[6.52154382e-01, 2.41116017e-01, 6.60433418e-02,\n",
       "           4.06862595e-02],\n",
       "          [1.62582801e-01, 7.74047664e-01, 4.45482161e-02,\n",
       "           1.88213189e-02],\n",
       "          [1.84002048e-02, 2.30608843e-01, 4.93378681e-01,\n",
       "           2.57612271e-01],\n",
       "          [6.05653211e-02, 4.66334148e-02, 3.76201432e-01,\n",
       "           5.16599832e-01]],\n",
       " \n",
       "         [[7.68829562e-01, 1.75435227e-01, 2.88284014e-02,\n",
       "           2.69068098e-02],\n",
       "          [2.04252213e-01, 6.01452529e-01, 1.49538342e-01,\n",
       "           4.47569162e-02],\n",
       "          [4.79900539e-02, 2.66506463e-01, 4.32051192e-01,\n",
       "           2.53452292e-01],\n",
       "          [9.84395077e-03, 1.12421441e-01, 1.20113461e-01,\n",
       "           7.57621147e-01]],\n",
       " \n",
       "         [[6.35289367e-01, 3.24906475e-01, 2.15709150e-02,\n",
       "           1.82332435e-02],\n",
       "          [2.05951818e-01, 6.43255771e-01, 1.42734081e-01,\n",
       "           8.05833056e-03],\n",
       "          [4.32980773e-02, 8.95272020e-02, 6.87130128e-01,\n",
       "           1.80044593e-01],\n",
       "          [1.57376024e-02, 8.08578396e-02, 9.23946505e-02,\n",
       "           8.11009908e-01]],\n",
       " \n",
       "         ...,\n",
       " \n",
       "         [[6.99568302e-01, 1.32312002e-01, 1.27976187e-01,\n",
       "           4.01435092e-02],\n",
       "          [1.94287566e-01, 5.90182996e-01, 9.34777069e-02,\n",
       "           1.22051731e-01],\n",
       "          [6.91031850e-02, 1.95171665e-01, 6.74431779e-01,\n",
       "           6.12933711e-02],\n",
       "          [1.00513944e-02, 1.33407770e-02, 2.30099504e-01,\n",
       "           7.46508325e-01]],\n",
       " \n",
       "         [[6.80598652e-01, 1.12842343e-01, 1.97104118e-01,\n",
       "           9.45488769e-03],\n",
       "          [2.14646970e-01, 6.29289120e-01, 1.09099341e-01,\n",
       "           4.69645698e-02],\n",
       "          [1.39377526e-01, 1.66557926e-01, 5.90577726e-01,\n",
       "           1.03486822e-01],\n",
       "          [2.73054236e-02, 1.28491619e-01, 2.67970607e-01,\n",
       "           5.76232350e-01]],\n",
       " \n",
       "         [[6.97644518e-01, 1.61861525e-01, 1.27130211e-02,\n",
       "           1.27780936e-01],\n",
       "          [2.13802286e-01, 5.24699787e-01, 1.74293992e-01,\n",
       "           8.72039357e-02],\n",
       "          [1.49780878e-01, 1.80308073e-01, 5.64373272e-01,\n",
       "           1.05537777e-01],\n",
       "          [1.76875326e-02, 1.35895733e-01, 8.56385947e-02,\n",
       "           7.60778139e-01]]],\n",
       " \n",
       " \n",
       "        ...,\n",
       " \n",
       " \n",
       "        [[[5.98314892e-01, 1.56979772e-01, 2.30751579e-01,\n",
       "           1.39537570e-02],\n",
       "          [1.01326771e-01, 6.73152349e-01, 1.75345402e-01,\n",
       "           5.01754777e-02],\n",
       "          [1.48281655e-01, 1.38976284e-01, 6.23948555e-01,\n",
       "           8.87935057e-02],\n",
       "          [5.98698416e-02, 9.20207158e-02, 2.76684523e-01,\n",
       "           5.71424920e-01]],\n",
       " \n",
       "         [[6.90551130e-01, 2.00293661e-01, 1.08670704e-01,\n",
       "           4.84505451e-04],\n",
       "          [1.83517471e-01, 7.38428282e-01, 1.72522997e-02,\n",
       "           6.08019468e-02],\n",
       "          [1.01611843e-01, 2.07622482e-01, 4.87938794e-01,\n",
       "           2.02826882e-01],\n",
       "          [1.96039093e-02, 8.19963109e-02, 1.07052476e-01,\n",
       "           7.91347303e-01]],\n",
       " \n",
       "         [[7.43054655e-01, 1.34683470e-01, 8.35895803e-02,\n",
       "           3.86722946e-02],\n",
       "          [1.99250739e-01, 3.74476543e-01, 2.95183598e-01,\n",
       "           1.31089119e-01],\n",
       "          [2.16076097e-02, 2.22767399e-01, 5.85454361e-01,\n",
       "           1.70170630e-01],\n",
       "          [1.15937221e-02, 9.19083706e-02, 1.14095965e-01,\n",
       "           7.82401943e-01]],\n",
       " \n",
       "         ...,\n",
       " \n",
       "         [[6.56494498e-01, 1.41689545e-01, 6.66565715e-02,\n",
       "           1.35159385e-01],\n",
       "          [1.29231584e-01, 7.53757080e-01, 1.04906937e-01,\n",
       "           1.21043995e-02],\n",
       "          [2.62854015e-01, 3.95561094e-02, 5.99113788e-01,\n",
       "           9.84760883e-02],\n",
       "          [3.69669577e-02, 6.05810620e-02, 1.68029375e-01,\n",
       "           7.34422605e-01]],\n",
       " \n",
       "         [[5.34619309e-01, 1.35499683e-01, 2.39068022e-01,\n",
       "           9.08129865e-02],\n",
       "          [2.34958823e-01, 4.57503367e-01, 1.17457145e-01,\n",
       "           1.90080665e-01],\n",
       "          [3.43731366e-02, 1.08306283e-01, 5.60153179e-01,\n",
       "           2.97167402e-01],\n",
       "          [5.36540223e-02, 2.21992841e-01, 1.47208079e-01,\n",
       "           5.77145058e-01]],\n",
       " \n",
       "         [[7.46712588e-01, 1.71982214e-01, 7.59157493e-02,\n",
       "           5.38944967e-03],\n",
       "          [1.10206218e-01, 7.71967703e-01, 7.94464902e-02,\n",
       "           3.83795892e-02],\n",
       "          [2.31225546e-01, 2.00248290e-01, 4.41659520e-01,\n",
       "           1.26866644e-01],\n",
       "          [6.98274388e-02, 8.15030866e-02, 2.05362397e-01,\n",
       "           6.43307078e-01]]],\n",
       " \n",
       " \n",
       "        [[[8.48800149e-01, 1.32352452e-01, 1.88377524e-02,\n",
       "           9.64614953e-06],\n",
       "          [1.66186466e-01, 6.12742020e-01, 2.12002812e-01,\n",
       "           9.06870218e-03],\n",
       "          [4.83174730e-02, 1.88972116e-01, 6.76778550e-01,\n",
       "           8.59318609e-02],\n",
       "          [7.04290081e-02, 1.61725273e-01, 1.68359349e-01,\n",
       "           5.99486371e-01]],\n",
       " \n",
       "         [[7.77908333e-01, 1.11122763e-01, 9.94121808e-02,\n",
       "           1.15567237e-02],\n",
       "          [1.24889431e-01, 5.70255501e-01, 2.16775400e-01,\n",
       "           8.80796677e-02],\n",
       "          [1.75748950e-02, 2.74571718e-01, 5.55730430e-01,\n",
       "           1.52122957e-01],\n",
       "          [1.48093875e-02, 1.09725864e-01, 1.61535345e-01,\n",
       "           7.13929404e-01]],\n",
       " \n",
       "         [[7.84952920e-01, 1.49293164e-01, 5.74225981e-02,\n",
       "           8.33131752e-03],\n",
       "          [1.44850329e-01, 6.65182581e-01, 1.05472101e-01,\n",
       "           8.44949888e-02],\n",
       "          [1.98059045e-02, 1.55681334e-01, 6.61142267e-01,\n",
       "           1.63370494e-01],\n",
       "          [7.97120812e-03, 1.23821933e-01, 1.48932152e-01,\n",
       "           7.19274707e-01]],\n",
       " \n",
       "         ...,\n",
       " \n",
       "         [[7.76111352e-01, 1.00574170e-01, 7.89092109e-02,\n",
       "           4.44052676e-02],\n",
       "          [1.65697992e-01, 6.20934135e-01, 1.66540440e-01,\n",
       "           4.68274330e-02],\n",
       "          [1.52438158e-01, 1.30984960e-01, 6.29216131e-01,\n",
       "           8.73607509e-02],\n",
       "          [7.06682280e-02, 1.05316529e-01, 1.37672852e-01,\n",
       "           6.86342391e-01]],\n",
       " \n",
       "         [[7.22341130e-01, 1.43663621e-01, 7.70233308e-02,\n",
       "           5.69719176e-02],\n",
       "          [6.44831156e-02, 5.53130954e-01, 1.91639934e-01,\n",
       "           1.90745996e-01],\n",
       "          [3.23813517e-02, 2.72914771e-01, 5.14320315e-01,\n",
       "           1.80383562e-01],\n",
       "          [3.87296936e-02, 5.65529234e-02, 1.80526885e-01,\n",
       "           7.24190498e-01]],\n",
       " \n",
       "         [[6.53981995e-01, 8.32191835e-02, 2.37187515e-01,\n",
       "           2.56113067e-02],\n",
       "          [1.97693188e-01, 5.12881052e-01, 2.30710941e-01,\n",
       "           5.87148187e-02],\n",
       "          [1.00155963e-01, 1.41108093e-01, 5.97492437e-01,\n",
       "           1.61243507e-01],\n",
       "          [8.71583155e-02, 6.50116714e-02, 7.57084954e-02,\n",
       "           7.72121518e-01]]],\n",
       " \n",
       " \n",
       "        [[[5.68476866e-01, 2.47024526e-01, 1.37360109e-01,\n",
       "           4.71384995e-02],\n",
       "          [1.90205478e-01, 5.31137899e-01, 2.41936448e-01,\n",
       "           3.67201755e-02],\n",
       "          [3.89210966e-02, 2.45842376e-01, 6.28479906e-01,\n",
       "           8.67566215e-02],\n",
       "          [6.13471358e-02, 8.73386321e-02, 8.47159524e-02,\n",
       "           7.66598280e-01]],\n",
       " \n",
       "         [[7.15090977e-01, 1.70420954e-01, 7.41920484e-02,\n",
       "           4.02960211e-02],\n",
       "          [7.72868713e-02, 7.66634324e-01, 5.44741706e-02,\n",
       "           1.01604634e-01],\n",
       "          [9.05077127e-02, 1.80334286e-01, 5.60229788e-01,\n",
       "           1.68928213e-01],\n",
       "          [3.87770871e-02, 1.72230172e-01, 9.53970704e-02,\n",
       "           6.93595670e-01]],\n",
       " \n",
       "         [[6.51299706e-01, 1.49804464e-01, 1.83198793e-01,\n",
       "           1.56970374e-02],\n",
       "          [1.51368655e-01, 6.91465593e-01, 1.07048468e-01,\n",
       "           5.01172835e-02],\n",
       "          [8.36334636e-02, 1.47528428e-01, 5.12469967e-01,\n",
       "           2.56368141e-01],\n",
       "          [4.02943031e-02, 6.55534575e-02, 1.77668756e-01,\n",
       "           7.16483483e-01]],\n",
       " \n",
       "         ...,\n",
       " \n",
       "         [[6.55116120e-01, 1.63114523e-01, 1.29654973e-01,\n",
       "           5.21143837e-02],\n",
       "          [2.58140786e-01, 5.98543270e-01, 8.69402843e-02,\n",
       "           5.63756592e-02],\n",
       "          [1.53892319e-01, 1.28760661e-01, 5.67270411e-01,\n",
       "           1.50076610e-01],\n",
       "          [5.48133390e-02, 8.72724280e-02, 1.21561205e-01,\n",
       "           7.36353028e-01]],\n",
       " \n",
       "         [[7.30073730e-01, 2.22629753e-01, 2.74365728e-02,\n",
       "           1.98599442e-02],\n",
       "          [1.77918829e-01, 5.49500012e-01, 2.04014651e-01,\n",
       "           6.85665075e-02],\n",
       "          [1.35227101e-01, 1.73251977e-01, 5.81604911e-01,\n",
       "           1.09916010e-01],\n",
       "          [1.71994893e-02, 7.58963238e-02, 1.15921550e-01,\n",
       "           7.90982637e-01]],\n",
       " \n",
       "         [[7.43231342e-01, 1.98114918e-01, 3.22144108e-02,\n",
       "           2.64393293e-02],\n",
       "          [1.33123039e-01, 5.17140798e-01, 2.98700247e-01,\n",
       "           5.10359159e-02],\n",
       "          [9.50931519e-02, 1.33095521e-01, 5.53886554e-01,\n",
       "           2.17924773e-01],\n",
       "          [1.13047724e-02, 1.68416119e-01, 9.21781453e-02,\n",
       "           7.28100964e-01]]]]),\n",
       " array([[8.72083957e-01, 4.16230010e-02, 6.82361642e-02, 1.80568782e-02],\n",
       "        [6.69038244e-01, 1.70048808e-01, 1.11061630e-01, 4.98513187e-02],\n",
       "        [7.86226830e-01, 1.79488349e-02, 1.70926899e-01, 2.48974365e-02],\n",
       "        [4.90021862e-01, 4.16942598e-02, 2.91315223e-01, 1.76968655e-01],\n",
       "        [3.87795264e-01, 1.38687951e-01, 1.90000192e-01, 2.83516593e-01],\n",
       "        [7.35600135e-01, 9.24231677e-02, 1.68708542e-01, 3.26815555e-03],\n",
       "        [3.83268168e-01, 6.37422702e-02, 2.23373370e-01, 3.29616191e-01],\n",
       "        [5.26024690e-01, 1.58171528e-01, 2.41956716e-01, 7.38470662e-02],\n",
       "        [6.24509798e-01, 9.32888218e-02, 2.67609598e-01, 1.45917823e-02],\n",
       "        [4.56245439e-01, 2.43530246e-01, 8.17652043e-02, 2.18459111e-01],\n",
       "        [8.61212062e-01, 9.25538037e-04, 1.34750354e-01, 3.11204640e-03],\n",
       "        [7.56412232e-01, 4.38118052e-02, 1.53387576e-01, 4.63883865e-02],\n",
       "        [5.30390460e-01, 1.65707416e-01, 2.55686067e-01, 4.82160564e-02],\n",
       "        [5.57161512e-01, 9.03070384e-02, 1.15670683e-01, 2.36860767e-01],\n",
       "        [8.95825143e-01, 1.38627717e-02, 2.69000280e-02, 6.34120573e-02],\n",
       "        [5.96780515e-01, 2.05607823e-01, 1.44249849e-01, 5.33618132e-02],\n",
       "        [6.62829030e-01, 1.12269235e-01, 6.47616959e-02, 1.60140039e-01],\n",
       "        [6.00529526e-01, 3.63750446e-02, 3.46966076e-01, 1.61293531e-02],\n",
       "        [5.06485952e-01, 1.57329525e-01, 2.26935957e-01, 1.09248566e-01],\n",
       "        [5.45371595e-01, 4.43460649e-03, 4.00255619e-01, 4.99381794e-02],\n",
       "        [4.22055901e-01, 1.11499628e-01, 2.35735716e-01, 2.30708755e-01],\n",
       "        [4.59944234e-01, 1.09105004e-01, 3.85799864e-01, 4.51508980e-02],\n",
       "        [5.61455225e-01, 3.20707585e-02, 3.89995606e-01, 1.64784106e-02],\n",
       "        [7.33007568e-01, 1.69544836e-01, 7.14451637e-02, 2.60024329e-02],\n",
       "        [6.35733570e-01, 7.46338183e-02, 2.02779197e-01, 8.68534150e-02],\n",
       "        [7.82768369e-01, 2.67241106e-02, 1.21902781e-01, 6.86047392e-02],\n",
       "        [4.92744230e-01, 2.82916973e-01, 2.05079959e-01, 1.92588383e-02],\n",
       "        [6.60096120e-01, 1.41872457e-01, 1.92493655e-01, 5.53776856e-03],\n",
       "        [6.73960167e-01, 7.87696022e-02, 2.40808399e-01, 6.46183208e-03],\n",
       "        [8.07351418e-01, 1.48783488e-01, 3.48614442e-03, 4.03789495e-02],\n",
       "        [6.33265904e-01, 9.63297839e-02, 2.66612948e-01, 3.79136437e-03],\n",
       "        [5.46884491e-01, 1.10715118e-03, 1.44135004e-01, 3.07873354e-01],\n",
       "        [4.84821096e-01, 6.77347855e-02, 2.28486313e-01, 2.18957805e-01],\n",
       "        [6.18990206e-01, 3.23215465e-01, 5.27308166e-02, 5.06351259e-03],\n",
       "        [9.03293260e-01, 9.05834906e-03, 5.12490454e-02, 3.63993456e-02],\n",
       "        [6.52942040e-01, 5.28097303e-04, 2.11742778e-01, 1.34787086e-01],\n",
       "        [7.61241771e-01, 1.59308998e-01, 4.45441820e-02, 3.49050491e-02],\n",
       "        [7.65435964e-01, 1.28649469e-01, 9.92148046e-02, 6.69976199e-03],\n",
       "        [7.73520872e-01, 1.43067113e-01, 4.26327004e-02, 4.07793143e-02],\n",
       "        [6.76509689e-01, 6.25831019e-02, 1.30612147e-01, 1.30295062e-01],\n",
       "        [6.51525890e-01, 1.15681163e-01, 7.26214794e-02, 1.60171467e-01],\n",
       "        [9.05245605e-01, 3.21004777e-02, 3.73663241e-02, 2.52875928e-02],\n",
       "        [6.87690977e-01, 1.87631988e-01, 1.22790201e-02, 1.12398016e-01],\n",
       "        [7.38926540e-01, 5.44755864e-02, 7.15265564e-02, 1.35071318e-01],\n",
       "        [5.45420063e-01, 1.26699494e-01, 8.61318183e-02, 2.41748625e-01],\n",
       "        [5.85272361e-01, 2.00070400e-01, 1.68027090e-01, 4.66301487e-02],\n",
       "        [6.10136288e-01, 1.21825736e-01, 7.52390182e-02, 1.92798957e-01],\n",
       "        [5.81139507e-01, 1.31172783e-01, 1.94468726e-01, 9.32189838e-02],\n",
       "        [7.24570547e-01, 1.50241691e-01, 1.15037665e-01, 1.01500967e-02],\n",
       "        [4.15864286e-01, 6.12489608e-03, 5.51050338e-01, 2.69604802e-02],\n",
       "        [8.00929324e-01, 5.76559533e-02, 1.31721379e-01, 9.69334372e-03],\n",
       "        [6.26287138e-01, 6.60799757e-02, 2.53392848e-01, 5.42400391e-02],\n",
       "        [4.11334045e-01, 2.25717763e-02, 4.17959649e-01, 1.48134530e-01],\n",
       "        [6.56509359e-01, 2.56842748e-02, 2.29102150e-01, 8.87042165e-02],\n",
       "        [5.33162698e-01, 1.05893825e-01, 2.63325496e-01, 9.76179810e-02],\n",
       "        [5.56884277e-01, 2.31523114e-01, 7.29923590e-02, 1.38600250e-01],\n",
       "        [4.80942478e-01, 1.08672886e-01, 2.92225121e-01, 1.18159516e-01],\n",
       "        [7.66468726e-01, 6.55552135e-03, 5.43299677e-02, 1.72645785e-01],\n",
       "        [5.21066966e-01, 8.00377324e-02, 2.86808962e-01, 1.12086340e-01],\n",
       "        [4.47373613e-01, 2.00456325e-01, 3.12503958e-01, 3.96661048e-02],\n",
       "        [6.09277382e-01, 1.34449340e-02, 3.67546905e-01, 9.73077938e-03],\n",
       "        [6.49795177e-01, 1.35560552e-01, 1.96979048e-01, 1.76652232e-02],\n",
       "        [7.67817644e-01, 2.13820023e-02, 1.79039874e-01, 3.17604789e-02],\n",
       "        [5.97140155e-01, 9.45428065e-02, 3.01210863e-01, 7.10617544e-03],\n",
       "        [7.25984615e-01, 4.90752054e-02, 1.57668169e-01, 6.72720111e-02],\n",
       "        [5.34602073e-01, 6.87390716e-02, 2.06650460e-01, 1.90008395e-01],\n",
       "        [4.25344823e-01, 3.78203079e-02, 3.53329033e-01, 1.83505836e-01],\n",
       "        [2.93811052e-01, 2.53974827e-02, 4.48216323e-01, 2.32575142e-01],\n",
       "        [5.09627446e-01, 1.87272569e-01, 2.28180711e-01, 7.49192740e-02],\n",
       "        [5.65657872e-01, 1.13777337e-01, 1.03291936e-01, 2.17272855e-01],\n",
       "        [6.23873640e-01, 7.14587677e-02, 1.26186442e-01, 1.78481151e-01],\n",
       "        [7.80534095e-01, 1.03253116e-01, 7.97916708e-02, 3.64211185e-02],\n",
       "        [5.03792007e-01, 1.37598286e-01, 2.51527775e-01, 1.07081932e-01],\n",
       "        [8.33483327e-01, 1.74399720e-02, 1.32748473e-03, 1.47749217e-01],\n",
       "        [6.08202077e-01, 2.87314525e-01, 2.59122650e-02, 7.85711329e-02],\n",
       "        [4.65006763e-01, 4.70352579e-02, 4.30255347e-01, 5.77026321e-02],\n",
       "        [6.64695103e-01, 9.45263248e-02, 6.01779813e-02, 1.80600591e-01],\n",
       "        [8.66596378e-01, 3.44533994e-02, 1.11509660e-02, 8.77992563e-02],\n",
       "        [6.14906683e-01, 4.55726427e-02, 2.94590503e-01, 4.49301713e-02],\n",
       "        [8.50745314e-01, 6.05225042e-03, 9.57333052e-03, 1.33629105e-01],\n",
       "        [4.86450966e-01, 1.59800461e-01, 2.36948026e-01, 1.16800547e-01],\n",
       "        [4.32459242e-01, 2.93649906e-01, 2.34898655e-01, 3.89921971e-02],\n",
       "        [3.38230836e-01, 2.16127865e-01, 2.70177171e-01, 1.75464128e-01],\n",
       "        [6.26051432e-01, 1.04056593e-02, 1.56994171e-01, 2.06548738e-01],\n",
       "        [7.35038803e-01, 1.05636530e-01, 8.74529552e-02, 7.18717126e-02],\n",
       "        [5.02769982e-01, 4.86620108e-02, 1.77087861e-01, 2.71480146e-01],\n",
       "        [7.20860759e-01, 3.27179053e-02, 1.02104602e-01, 1.44316734e-01],\n",
       "        [6.39778325e-01, 4.40326454e-02, 4.06350994e-02, 2.75553931e-01],\n",
       "        [6.54044800e-01, 9.72474754e-02, 2.05625794e-01, 4.30819301e-02],\n",
       "        [4.29636379e-01, 2.29025181e-01, 2.39639070e-01, 1.01699370e-01],\n",
       "        [8.03862467e-01, 3.87781095e-02, 5.79205915e-02, 9.94388318e-02],\n",
       "        [9.17284086e-01, 5.45872552e-02, 9.90436039e-04, 2.71382230e-02],\n",
       "        [8.40941359e-01, 7.94002345e-02, 2.81448308e-02, 5.15135761e-02],\n",
       "        [7.75076078e-01, 2.40875871e-02, 1.31242419e-01, 6.95939167e-02],\n",
       "        [5.24195030e-01, 2.88309684e-02, 1.66796068e-01, 2.80177934e-01],\n",
       "        [8.15921198e-01, 1.50640716e-01, 2.89390555e-02, 4.49903048e-03],\n",
       "        [7.92959747e-01, 7.58917297e-03, 1.96808118e-01, 2.64296146e-03],\n",
       "        [6.96797555e-01, 1.58632191e-02, 2.49773099e-01, 3.75661268e-02],\n",
       "        [4.35499920e-01, 5.04061119e-02, 1.98707856e-01, 3.15386112e-01],\n",
       "        [8.87332537e-01, 3.53024745e-02, 8.64111688e-03, 6.87238720e-02],\n",
       "        [6.46832691e-01, 1.71305040e-01, 1.25010833e-01, 5.68514360e-02],\n",
       "        [7.20298119e-01, 1.72637095e-01, 5.78382203e-02, 4.92265658e-02],\n",
       "        [8.56296983e-01, 2.15185021e-03, 1.08460662e-01, 3.30905045e-02],\n",
       "        [4.22616957e-01, 4.48402695e-02, 4.61002894e-01, 7.15398799e-02],\n",
       "        [6.19636614e-01, 1.41843963e-01, 1.62745354e-01, 7.57740685e-02],\n",
       "        [5.52842993e-01, 1.49196871e-01, 2.86172365e-01, 1.17877707e-02],\n",
       "        [6.51526028e-01, 2.35199475e-01, 5.44728076e-02, 5.88016902e-02],\n",
       "        [8.82169554e-01, 5.56266338e-02, 4.76506148e-02, 1.45531975e-02],\n",
       "        [9.14268186e-01, 1.22645251e-02, 9.10265576e-04, 7.25570237e-02],\n",
       "        [4.70588609e-01, 2.13093105e-01, 1.21796354e-01, 1.94521932e-01],\n",
       "        [6.89454324e-01, 2.94467735e-01, 4.42792958e-03, 1.16500113e-02],\n",
       "        [7.87387391e-01, 3.72676599e-02, 1.17986779e-03, 1.74165081e-01],\n",
       "        [8.21125896e-01, 5.86813186e-02, 6.62562095e-02, 5.39365762e-02],\n",
       "        [6.25239080e-01, 7.52513125e-02, 1.97362357e-01, 1.02147251e-01],\n",
       "        [5.21665726e-01, 4.74953610e-02, 2.50622943e-01, 1.80215970e-01],\n",
       "        [3.45720886e-01, 9.77799308e-02, 3.67462220e-01, 1.89036963e-01],\n",
       "        [6.89620887e-01, 4.69807546e-02, 2.15256663e-01, 4.81416958e-02],\n",
       "        [6.68483235e-01, 7.62107475e-02, 1.50581749e-01, 1.04724269e-01],\n",
       "        [7.69905111e-01, 7.16646012e-02, 2.86816143e-02, 1.29748673e-01],\n",
       "        [7.98175562e-01, 3.41110079e-02, 1.18783834e-01, 4.89295958e-02],\n",
       "        [6.38722532e-01, 1.52748288e-01, 1.53949817e-01, 5.45793627e-02],\n",
       "        [8.32788821e-01, 6.47797113e-03, 1.15099320e-01, 4.56338881e-02],\n",
       "        [5.80839921e-01, 3.93840322e-02, 2.65229118e-01, 1.14546929e-01],\n",
       "        [5.95718639e-01, 2.39496237e-02, 1.97722086e-01, 1.82609651e-01],\n",
       "        [5.08567619e-01, 1.76513205e-02, 2.25602777e-01, 2.48178283e-01],\n",
       "        [6.64572106e-01, 1.88210179e-01, 1.39189257e-01, 8.02845721e-03],\n",
       "        [6.32492507e-01, 1.34050541e-02, 3.52749536e-01, 1.35290272e-03],\n",
       "        [6.14499555e-01, 2.80807650e-01, 8.93506921e-02, 1.53421023e-02],\n",
       "        [8.54555854e-01, 1.04917444e-02, 7.62638214e-02, 5.86885807e-02],\n",
       "        [5.30337402e-01, 2.41229648e-01, 1.25135293e-01, 1.03297658e-01],\n",
       "        [3.60299015e-01, 6.52534286e-02, 4.70923304e-01, 1.03524252e-01],\n",
       "        [8.34717084e-01, 2.74158691e-02, 8.49654910e-02, 5.29015559e-02],\n",
       "        [7.41815431e-01, 8.59453785e-02, 1.54263759e-01, 1.79754319e-02],\n",
       "        [5.78886088e-01, 4.33141499e-02, 3.77643485e-01, 1.56277401e-04],\n",
       "        [8.51461329e-01, 3.25829675e-02, 1.07041387e-01, 8.91431683e-03],\n",
       "        [6.44148187e-01, 5.47254609e-02, 2.76648963e-01, 2.44773899e-02],\n",
       "        [7.50206679e-01, 1.10575100e-01, 1.11065363e-01, 2.81528583e-02],\n",
       "        [6.56846328e-01, 7.09604851e-02, 1.09676018e-01, 1.62517169e-01],\n",
       "        [4.30134708e-01, 5.83990849e-04, 4.26001761e-01, 1.43279540e-01],\n",
       "        [8.14200313e-01, 5.05998477e-02, 1.22416133e-01, 1.27837062e-02],\n",
       "        [6.64871667e-01, 1.19107838e-01, 1.44294812e-01, 7.17256823e-02],\n",
       "        [5.41190389e-01, 1.95352416e-01, 2.66586002e-02, 2.36798595e-01],\n",
       "        [6.50545792e-01, 6.76733303e-04, 2.92439957e-01, 5.63375177e-02],\n",
       "        [3.74497577e-01, 1.08422537e-01, 4.16155776e-01, 1.00924111e-01],\n",
       "        [7.07555823e-01, 1.56905175e-01, 1.00205633e-01, 3.53333691e-02],\n",
       "        [6.84309976e-01, 4.58207256e-02, 1.33864772e-01, 1.36004527e-01],\n",
       "        [8.28799269e-01, 4.85795994e-02, 8.86896681e-02, 3.39314634e-02],\n",
       "        [7.24346176e-01, 1.13239217e-01, 1.55548799e-01, 6.86580779e-03],\n",
       "        [6.84538477e-01, 4.78125559e-02, 2.66496539e-01, 1.15242774e-03],\n",
       "        [8.05682047e-01, 2.64761519e-02, 1.62477203e-01, 5.36459783e-03],\n",
       "        [7.79971051e-01, 5.08021429e-02, 1.63008562e-01, 6.21824475e-03],\n",
       "        [6.92881070e-01, 2.39961332e-02, 2.67077920e-02, 2.56415004e-01],\n",
       "        [7.67062916e-01, 4.79908074e-02, 4.41378873e-03, 1.80532488e-01],\n",
       "        [6.36089549e-01, 5.91761087e-02, 1.99180385e-01, 1.05553957e-01],\n",
       "        [6.51838780e-01, 1.56747753e-02, 2.49860614e-01, 8.26258307e-02],\n",
       "        [8.00827341e-01, 5.20687406e-02, 6.29596757e-02, 8.41442423e-02],\n",
       "        [2.69951331e-01, 1.99614590e-01, 3.00055697e-01, 2.30378383e-01],\n",
       "        [6.11070656e-01, 3.07968974e-01, 7.65249847e-02, 4.43538533e-03],\n",
       "        [5.67861983e-01, 3.03395897e-01, 1.09934380e-01, 1.88077400e-02],\n",
       "        [3.86574988e-01, 4.54106401e-02, 5.04559009e-01, 6.34553632e-02],\n",
       "        [6.35121238e-01, 7.26991802e-02, 1.41626417e-01, 1.50553166e-01],\n",
       "        [2.40554952e-01, 2.52585973e-01, 4.36338766e-01, 7.05203090e-02],\n",
       "        [6.65210603e-01, 4.53307889e-02, 1.96226424e-01, 9.32321836e-02],\n",
       "        [7.44880040e-01, 1.93819050e-01, 4.37895855e-02, 1.75113245e-02],\n",
       "        [6.62450326e-01, 1.98506380e-01, 1.27412418e-01, 1.16308754e-02],\n",
       "        [7.43435611e-01, 1.09382118e-01, 1.21944016e-01, 2.52382552e-02],\n",
       "        [8.73115464e-01, 4.64183599e-02, 4.50262478e-02, 3.54399287e-02],\n",
       "        [7.12707258e-01, 1.05225898e-02, 1.50280467e-01, 1.26489685e-01],\n",
       "        [7.91158876e-01, 1.56944598e-01, 3.33874686e-02, 1.85090571e-02],\n",
       "        [8.43044979e-01, 4.79518182e-02, 8.46433556e-03, 1.00538867e-01],\n",
       "        [6.22405205e-01, 3.91362373e-03, 9.66841378e-03, 3.64012758e-01],\n",
       "        [3.54223621e-01, 3.28437668e-01, 1.09091651e-01, 2.08247060e-01],\n",
       "        [5.51633414e-01, 2.60225903e-01, 1.78179740e-01, 9.96094202e-03],\n",
       "        [8.63296561e-01, 9.41274444e-02, 3.37015111e-02, 8.87448310e-03],\n",
       "        [8.77057978e-01, 8.77616849e-02, 6.52707822e-03, 2.86532587e-02],\n",
       "        [7.59130864e-01, 1.26756841e-01, 6.23489344e-02, 5.17633610e-02],\n",
       "        [7.81513548e-01, 1.21787317e-01, 7.87831724e-02, 1.79159617e-02],\n",
       "        [6.44954120e-01, 4.14205904e-02, 5.24144519e-03, 3.08383844e-01],\n",
       "        [7.11337004e-01, 1.23907342e-01, 8.39579571e-02, 8.07976964e-02],\n",
       "        [8.06990358e-01, 3.81308826e-02, 4.80089134e-02, 1.06869846e-01],\n",
       "        [5.85426985e-01, 2.70395349e-01, 1.11391572e-01, 3.27860942e-02],\n",
       "        [6.97566308e-01, 1.20688355e-02, 2.65733972e-01, 2.46308851e-02],\n",
       "        [4.88752893e-01, 9.05789002e-02, 1.92178788e-01, 2.28489418e-01],\n",
       "        [7.00098461e-01, 2.87277776e-02, 1.82317777e-01, 8.88559847e-02],\n",
       "        [7.93208260e-01, 2.51855556e-03, 6.39043333e-02, 1.40368851e-01],\n",
       "        [7.41645181e-01, 4.36633400e-02, 2.45876986e-02, 1.90103781e-01],\n",
       "        [7.29804576e-01, 4.88475301e-02, 1.65359530e-01, 5.59883645e-02],\n",
       "        [9.09698116e-01, 8.31083094e-03, 6.13468669e-02, 2.06441858e-02],\n",
       "        [6.84196802e-01, 9.01088436e-02, 1.21965889e-01, 1.03728466e-01],\n",
       "        [4.44795460e-01, 4.62253235e-03, 3.12479680e-01, 2.38102328e-01],\n",
       "        [6.34456221e-01, 7.90792648e-02, 1.92896305e-01, 9.35682090e-02],\n",
       "        [5.50369662e-01, 1.82432374e-01, 2.44130856e-01, 2.30671077e-02],\n",
       "        [2.76256715e-01, 2.85570465e-01, 3.10742274e-01, 1.27430547e-01],\n",
       "        [2.57570638e-01, 2.86424275e-01, 3.60709171e-01, 9.52959160e-02],\n",
       "        [6.65583182e-01, 1.12658690e-02, 1.10838933e-01, 2.12312015e-01],\n",
       "        [8.14311272e-01, 2.32404242e-02, 2.00780755e-02, 1.42370228e-01],\n",
       "        [6.46694638e-01, 7.77241087e-02, 2.39700959e-01, 3.58802942e-02],\n",
       "        [4.51160007e-01, 6.40412113e-02, 1.54016947e-01, 3.30781835e-01],\n",
       "        [6.11406727e-01, 1.81394412e-01, 1.89424102e-01, 1.77747586e-02],\n",
       "        [7.13420275e-01, 1.17820761e-02, 1.41468168e-01, 1.33329481e-01]]),\n",
       " array([[0., 0., 0., ..., 0., 0., 0.],\n",
       "        [0., 0., 0., ..., 2., 0., 0.],\n",
       "        [0., 0., 0., ..., 2., 2., 0.],\n",
       "        ...,\n",
       "        [0., 0., 0., ..., 2., 0., 0.],\n",
       "        [0., 0., 0., ..., 2., 2., 1.],\n",
       "        [0., 0., 0., ..., 2., 0., 0.]]))"
      ]
     },
     "execution_count": 43,
     "metadata": {},
     "output_type": "execute_result"
    }
   ],
   "source": [
    "music_model.sample_posterior_over_accuracy(music_anno.annotations, 200, burn_in_samples=100, thin_samples=3)"
   ]
  },
  {
   "cell_type": "code",
   "execution_count": 44,
   "metadata": {},
   "outputs": [
    {
     "name": "stdout",
     "output_type": "stream",
     "text": [
      "[[9.96156267e-01 3.84125255e-03 2.47762760e-06 2.36514621e-09]\n",
      " [9.85795517e-01 1.59865958e-04 1.40441722e-02 4.45254867e-07]\n",
      " [9.99999751e-01 2.38462269e-07 1.04040245e-08 1.44363714e-12]\n",
      " [9.99976081e-01 1.12683145e-05 1.26507356e-05 8.11977596e-11]\n",
      " [1.06964318e-03 4.12894065e-05 9.98880914e-01 8.15370965e-06]\n",
      " [9.65477023e-02 3.47025134e-04 9.03067454e-01 3.78181611e-05]\n",
      " [9.00065842e-01 9.98651917e-02 6.88637184e-05 1.02300118e-07]]\n"
     ]
    }
   ],
   "source": [
    "music_posterior = music_model.infer_labels(music_anno.annotations)\n",
    "print(music_posterior)"
   ]
  },
  {
   "cell_type": "code",
   "execution_count": 45,
   "metadata": {},
   "outputs": [
    {
     "data": {
      "text/plain": [
       "(<matplotlib.figure.Figure at 0x11b915e48>,\n",
       " (<matplotlib.axes._subplots.AxesSubplot at 0x11b9de5f8>,\n",
       "  <matplotlib.axes._subplots.AxesSubplot at 0x11bab8128>))"
      ]
     },
     "execution_count": 45,
     "metadata": {},
     "output_type": "execute_result"
    },
    {
     "data": {
      "image/png": "[encoded data removed]",
      "text/plain": [
       "<matplotlib.figure.Figure at 0x11b915e48>"
      ]
     },
     "metadata": {},
     "output_type": "display_data"
    }
   ],
   "source": [
    "# Visualize\n",
    "makeQuestionComparison(music_model, music_anno)"
   ]
  },
  {
   "cell_type": "code",
   "execution_count": 47,
   "metadata": {
    "collapsed": true
   },
   "outputs": [],
   "source": [
    "## Visuzlize accuracy\n",
    "\n",
    "# Calculate accuracy\n",
    "music_model = ModelBt.create_initial_state(4,10)\n",
    "music_model.mle(music_anno.annotations)\n",
    "music_samples = music_model.sample_posterior_over_accuracy(music_anno.annotations, 200, burn_in_samples=100, thin_samples=3)\n",
    "music_y =  music_samples.mean(axis=0)\n",
    "music_y_ci = music_samples.std(axis=0)"
   ]
  },
  {
   "cell_type": "code",
   "execution_count": 58,
   "metadata": {},
   "outputs": [
    {
     "data": {
      "text/plain": [
       "(<matplotlib.figure.Figure at 0x11b9def98>,\n",
       " (<matplotlib.axes._subplots.AxesSubplot at 0x11bb591d0>,\n",
       "  <matplotlib.axes._subplots.AxesSubplot at 0x11b8839b0>))"
      ]
     },
     "execution_count": 58,
     "metadata": {},
     "output_type": "execute_result"
    },
    {
     "data": {
      "image/png": "[encoded data removed]",
      "text/plain": [
       "<matplotlib.figure.Figure at 0x11b9def98>"
      ]
     },
     "metadata": {},
     "output_type": "display_data"
    }
   ],
   "source": [
    "# Visualize\n",
    "makeQuestionComparison(music_model, music_anno)"
   ]
  },
  {
   "cell_type": "markdown",
   "metadata": {},
   "source": [
    "<span style=\"color:blue\"> Both of the 2 sets of heatmaps show similar patterns. The first class agrees on most most of the questions. The second class slightly agrees on the first question and the last question. The third class basically agrees on question4 and question5. And the fourth class basically agrees on nothing.</span>"
   ]
  },
  {
   "cell_type": "code",
   "execution_count": 48,
   "metadata": {},
   "outputs": [
    {
     "data": {
      "image/png": "[encoded data removed]",
      "text/plain": [
       "<matplotlib.figure.Figure at 0x11b8b45c0>"
      ]
     },
     "metadata": {},
     "output_type": "display_data"
    }
   ],
   "source": [
    "# Visualize\n",
    "plt.figure()\n",
    "plt.errorbar(range(10),music_y, yerr = music_y_ci)\n",
    "plt.title('Figure: Coder Accuracy')\n",
    "plt.show()"
   ]
  },
  {
   "cell_type": "markdown",
   "metadata": {},
   "source": [
    "<span style=\"color:blue\"> The plot above shows that the skills of coders are not very stable. While coder2, coder7 and coder9 have high accuracy of coding, the others have relatively lower accuracy. The majority have vote accuracy around 0.5."
   ]
  }
 ],
 "metadata": {
  "anaconda-cloud": {},
  "kernelspec": {
   "display_name": "Python 3",
   "language": "python",
   "name": "python3"
  },
  "language_info": {
   "codemirror_mode": {
    "name": "ipython",
    "version": 3
   },
   "file_extension": ".py",
   "mimetype": "text/x-python",
   "name": "python",
   "nbconvert_exporter": "python",
   "pygments_lexer": "ipython3",
   "version": "3.6.3"
  }
 },
 "nbformat": 4,
 "nbformat_minor": 1
}
